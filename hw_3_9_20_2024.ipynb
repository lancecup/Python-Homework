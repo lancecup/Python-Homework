{
 "cells": [
  {
   "cell_type": "markdown",
   "id": "d98617de-3321-4b6e-8dbe-68cec822ad86",
   "metadata": {},
   "source": [
    "## HW Week 3"
   ]
  },
  {
   "cell_type": "markdown",
   "id": "440553aa-4138-409b-a6c6-58d76f6aaf87",
   "metadata": {},
   "source": [
    "### 4.1 For Loops(20 pts)\n",
    "\n",
    "4.1.1. Write a Python program that takes a list of numbers and prints each number multiplied by 2 using a for loop."
   ]
  },
  {
   "cell_type": "code",
   "execution_count": 3,
   "id": "659ceae8-b785-49d6-9fa3-0a023256e9cf",
   "metadata": {},
   "outputs": [
    {
     "name": "stdout",
     "output_type": "stream",
     "text": [
      "[2, 4, 6, 8, 10, 12, 14, 16, 18, 20]\n"
     ]
    }
   ],
   "source": [
    "numbers = [1,2,3,4,5,6,7,8,9,10]\n",
    "#your code here:\n",
    "\n",
    "two_num = []\n",
    "\n",
    "for number in numbers:\n",
    "    two_num.append(number*2)\n",
    "print(two_num)"
   ]
  },
  {
   "cell_type": "markdown",
   "id": "6f712b4c-8998-4410-a1fe-fe58aa6e1d37",
   "metadata": {},
   "source": [
    "4.1.2 Write a Python program that takes a list of strings and prints the length of each string using a for loop."
   ]
  },
  {
   "cell_type": "code",
   "execution_count": 5,
   "id": "830dd208-6744-4150-adce-7f0e3f1d5f3c",
   "metadata": {},
   "outputs": [
    {
     "name": "stdout",
     "output_type": "stream",
     "text": [
      "5\n",
      "6\n",
      "6\n",
      "4\n"
     ]
    }
   ],
   "source": [
    "strings = [\"apple\", \"banana\", \"cherry\", \"plum\"]\n",
    "#your code here:\n",
    "for fruit in strings:\n",
    "    if type(fruit) == str: # I checked if the type of the object in the list is a string\n",
    "        print(len(fruit))\n",
    "    else:\n",
    "        pass"
   ]
  },
  {
   "cell_type": "markdown",
   "id": "1445e338-dba7-4149-9c89-7fe98b5a18b7",
   "metadata": {},
   "source": [
    "4.1.3 Write a Python program that takes the a string and prints each character in the string using a for loop."
   ]
  },
  {
   "cell_type": "code",
   "execution_count": 7,
   "id": "43bcf3b3-ae2d-4ec4-a66d-4ae5cfea0c2d",
   "metadata": {},
   "outputs": [
    {
     "name": "stdout",
     "output_type": "stream",
     "text": [
      "h\n",
      "e\n",
      "l\n",
      "l\n",
      "o\n"
     ]
    }
   ],
   "source": [
    "string = \"hello\"\n",
    "#your code here:\n",
    "\n",
    "for char in string:\n",
    "    print(char)\n",
    "\n",
    "# I initially tried making an empty set and using .extend() but noticed that it would print it per character in the string, so I just thought \n",
    "# to instead print the characters themselves"
   ]
  },
  {
   "cell_type": "markdown",
   "id": "c9fa51fc-9c8f-44f4-a8df-f5ae31597a70",
   "metadata": {},
   "source": [
    "4.1.4 Write a Python program that takes a list of numbers and prints only the numbers that are greater than 5 using a for loop."
   ]
  },
  {
   "cell_type": "code",
   "execution_count": 9,
   "id": "558938ec-2779-4568-a3ec-45fbea374a2a",
   "metadata": {},
   "outputs": [
    {
     "name": "stdout",
     "output_type": "stream",
     "text": [
      "7\n",
      "9\n",
      "8\n",
      "22\n",
      "52\n",
      "6\n"
     ]
    }
   ],
   "source": [
    "numbers = [1, 7, 4, 9, 2, 8, 22, 52, 6, 3]\n",
    "#your code here:\n",
    "\n",
    "for value in numbers:\n",
    "    if value > 5:\n",
    "        print(value)\n",
    "    else:\n",
    "        pass"
   ]
  },
  {
   "cell_type": "markdown",
   "id": "2d6fb263-22e2-46c4-bc05-1b97fa7b466f",
   "metadata": {},
   "source": [
    "4.1.5 Write a Python program that takes a list of strings and prints only the strings that start with the letter \"a\" using a for loop."
   ]
  },
  {
   "cell_type": "code",
   "execution_count": 11,
   "id": "e01293a1-2067-4be3-bfdc-7a21d76e99fd",
   "metadata": {},
   "outputs": [
    {
     "name": "stdout",
     "output_type": "stream",
     "text": [
      "apple\n",
      "avocado\n"
     ]
    }
   ],
   "source": [
    "strings = [\"apple\", \"banana\", \"avocado\"]\n",
    "#your code here:\n",
    "\n",
    "for not_veg in strings:\n",
    "    if not_veg.startswith('a'):\n",
    "        print(not_veg)\n",
    "    else:\n",
    "        pass"
   ]
  },
  {
   "cell_type": "markdown",
   "id": "3ac4b75f-cfed-4b1b-a05b-2b967acb587f",
   "metadata": {},
   "source": [
    "4.1.6 Write a Python program that takes a list of strings and prints only the fruits that start with the letter \"a\" using a for loop."
   ]
  },
  {
   "cell_type": "code",
   "execution_count": 13,
   "id": "c7c90032-9a72-41f8-8866-bfa4e6f0a3d0",
   "metadata": {},
   "outputs": [
    {
     "name": "stdout",
     "output_type": "stream",
     "text": [
      "apple\n",
      "açai\n"
     ]
    }
   ],
   "source": [
    "strings = [\"apple\", \"banana\", \"aardvark\", \"açaí\", \"ankles\"]\n",
    "\n",
    "#your code here:\n",
    "fruits = ['apple', 'banana', 'açai'] # I assumed açai is a fruit\n",
    "\n",
    "for alpha in fruits:\n",
    "    if alpha.startswith('a'):\n",
    "        print(alpha)\n",
    "    else:\n",
    "        pass"
   ]
  },
  {
   "cell_type": "markdown",
   "id": "eed638ce-68bf-4d4e-bffd-439c5cb0c0f9",
   "metadata": {},
   "source": [
    "4.1.7 Write a Python program that takes a list of strings and populates three new lists: one called \"short\", one called \"medium\" and one called \"long\", defiend as following: \"long\" if the length of the string is greater than 5, \"short\" if the length is less than 5, and \"medium\" if the length is exactly 5 using a for loop and an if/elif/else condition."
   ]
  },
  {
   "cell_type": "code",
   "execution_count": 15,
   "id": "3b431d49-2922-4433-b4d4-d54f7537f48e",
   "metadata": {},
   "outputs": [
    {
     "name": "stdout",
     "output_type": "stream",
     "text": [
      "['date', 'fig', 'açaí']\n",
      "['apple']\n",
      "['banana', 'cherry', 'elderberry', 'blueberry', 'nectarine']\n"
     ]
    }
   ],
   "source": [
    "strings = [\"apple\", \"banana\", \"cherry\", \"date\", \"elderberry\", \"fig\", \"blueberry\", \"nectarine\", \"açaí\" ]\n",
    "short = []\n",
    "medium = []\n",
    "long = []\n",
    "\n",
    "#your code here:\n",
    "for fruit in strings:\n",
    "    if len(fruit) > 5:\n",
    "        long.append(fruit)\n",
    "    elif len(fruit) == 5:\n",
    "        medium.append(fruit)\n",
    "    else: # Just used else since length can only be positive, and I made conditions for >=5 so the remaining is 0<= len(fruit) < 5\n",
    "        short.append(fruit)\n",
    "\n",
    "print(short) \n",
    "print(medium) \n",
    "print(long)"
   ]
  },
  {
   "cell_type": "markdown",
   "id": "c12f6683-800a-4fa8-852e-790aaf4c3513",
   "metadata": {},
   "source": [
    "4.1.8 Initialize an three empty lists, and write a Python program that fills those lists with positive, negative, and zero numbers using a for loop and if/elif/else conditions, and then prints the total number of each using an f string. The output should be, for example, \"There are 5 negative numbers in the negative number list\""
   ]
  },
  {
   "cell_type": "code",
   "execution_count": 17,
   "id": "92301ad8-0450-4c2a-8ff8-1f8ce766c595",
   "metadata": {},
   "outputs": [
    {
     "name": "stdout",
     "output_type": "stream",
     "text": [
      "There are 5 positive numbers in the positive number list.\n",
      "There are 4 negative numbers in the negative number list.\n",
      "There are 3 zeroes in the zero number list.\n"
     ]
    }
   ],
   "source": [
    "numbers = [1, -2, 0, 3, -4, 5, 0, -7, -9, 0, 2, 5]\n",
    "#your code here:\n",
    "positive = []\n",
    "naught = []\n",
    "negative = []\n",
    "\n",
    "for number in numbers:\n",
    "    if number > 0:\n",
    "        positive.append(number)\n",
    "    elif number == 0:\n",
    "        naught.append(number)\n",
    "    elif number <= 0:\n",
    "        negative.append(number)\n",
    "\n",
    "print(f\"There are {len(positive)} positive numbers in the positive number list.\")\n",
    "print(f\"There are {len(negative)} negative numbers in the negative number list.\")\n",
    "print(f\"There are {len(naught)} zeroes in the zero number list.\")"
   ]
  },
  {
   "cell_type": "markdown",
   "id": "6e01f746-7452-4887-90d1-909648cc19be",
   "metadata": {},
   "source": [
    "4.1.9 In the following list_of_lists, I really want to print 1, 2, 3, 4, 5, 6, 7, 8, 9 but when I use a for loop, I get something different. Try it below:"
   ]
  },
  {
   "cell_type": "code",
   "execution_count": 19,
   "id": "32fa9b21-0be7-484a-9c0f-54ced0c3b5d5",
   "metadata": {},
   "outputs": [
    {
     "name": "stdout",
     "output_type": "stream",
     "text": [
      "[1, 2, 3]\n",
      "[4, 5, 6]\n",
      "[7, 8, 9]\n"
     ]
    }
   ],
   "source": [
    "#Run this code:\n",
    "list_of_lists = [[1, 2, 3], [4, 5, 6], [7, 8, 9]]\n",
    "for x in list_of_lists:\n",
    "    print(x)"
   ]
  },
  {
   "cell_type": "markdown",
   "id": "0a58a8fb-ab8b-4940-8e1b-ce77e146e274",
   "metadata": {},
   "source": [
    "The reason is because this is a list of lists. You can see that there are three lists within this single list. Can you access the lists within the list? Sure you can. You use a for loop within a for loop to do that as illustrated below"
   ]
  },
  {
   "cell_type": "code",
   "execution_count": 21,
   "id": "0745e213-8f49-4bfd-a129-8a533ec4c068",
   "metadata": {},
   "outputs": [
    {
     "name": "stdout",
     "output_type": "stream",
     "text": [
      "1\n",
      "2\n",
      "3\n",
      "4\n",
      "5\n",
      "6\n",
      "7\n",
      "8\n",
      "9\n"
     ]
    }
   ],
   "source": [
    "# check out this code and run it\n",
    "list_of_lists = [[1, 2, 3], [4, 5, 6], [7, 8, 9]]\n",
    "for outer_loop in list_of_lists:\n",
    "    for inner_loop in outer_loop:\n",
    "        print(inner_loop)"
   ]
  },
  {
   "cell_type": "markdown",
   "id": "872868bb-2e8f-49dc-b482-5df67bdf78e1",
   "metadata": {},
   "source": [
    "4.1.10 A palindrome is a word, sentence, verse, or even number that reads the same backward or forward. Write a Python program that takes a list of strings and prints only the strings that are palindromes using a for loop, if/else conditions, and string slicing."
   ]
  },
  {
   "cell_type": "code",
   "execution_count": 23,
   "id": "984b7064-3b96-4210-bac8-6f96731948f7",
   "metadata": {},
   "outputs": [
    {
     "name": "stdout",
     "output_type": "stream",
     "text": [
      "['racecar', 'level', 'deified', 'civic']\n"
     ]
    }
   ],
   "source": [
    "strings = [\"racecar\", \"banana\", \"level\", \"deified\", \"civic\"]\n",
    "#Your code here:\n",
    "palindrome = []\n",
    "\n",
    "for word in strings:\n",
    "    if word == word[::-1]: # Used ChatGPT to figure out the slicing\n",
    "        palindrome.append(word)\n",
    "    else:\n",
    "        pass\n",
    "print(palindrome)"
   ]
  },
  {
   "cell_type": "markdown",
   "id": "ff16fe73-c5de-4851-8e5b-e6989f550243",
   "metadata": {},
   "source": [
    "### 4.2 Dictionaries (10pts)"
   ]
  },
  {
   "cell_type": "markdown",
   "id": "5a836bf1-e54e-40ad-9163-e8e224e3bbbd",
   "metadata": {},
   "source": [
    "\n",
    "4.2.1 Write a Python program that creates a dictionary called student with three key-value pairs: name: Alice, age:25, hometown: New York. Print the dictionary using the \"print\" function."
   ]
  },
  {
   "cell_type": "code",
   "execution_count": 26,
   "id": "767f4ce7-5332-4795-b1cd-a1f88ef04248",
   "metadata": {},
   "outputs": [
    {
     "name": "stdout",
     "output_type": "stream",
     "text": [
      "{'age': 25, 'name': 'New York', 'hometown': 'Alice'}\n"
     ]
    }
   ],
   "source": [
    "#Your code here:\n",
    "name = {'Alice'}\n",
    "age = {25}\n",
    "hometown = {'New York'}\n",
    "\n",
    "category = {'name', 'age', 'hometown'}\n",
    "value = {'Alice', 25, 'New York'}\n",
    "\n",
    "student = dict(zip(category, value))\n",
    "print(student)"
   ]
  },
  {
   "cell_type": "markdown",
   "id": "a5eaa0e9-691e-41c8-a84c-a16145a4d6f9",
   "metadata": {},
   "source": [
    "4.2.2 Access the value 25 from the dictionary above."
   ]
  },
  {
   "cell_type": "code",
   "execution_count": 28,
   "id": "bab2cfbb-41b4-4ffc-a001-ca5b08d15483",
   "metadata": {},
   "outputs": [
    {
     "name": "stdout",
     "output_type": "stream",
     "text": [
      "25\n"
     ]
    }
   ],
   "source": [
    "#Your code here:\n",
    "print(student['age'])"
   ]
  },
  {
   "cell_type": "markdown",
   "id": "ff6b3b8b-b8a3-4a09-901c-e4b8be66ec77",
   "metadata": {},
   "source": [
    "4.2.3 Write two ways you could access all the keys from the dictionary above. Use a \"method\" and a for loop."
   ]
  },
  {
   "cell_type": "code",
   "execution_count": 30,
   "id": "68aa0ad6-e77b-440a-b731-488477a314db",
   "metadata": {},
   "outputs": [
    {
     "name": "stdout",
     "output_type": "stream",
     "text": [
      "age\n",
      "name\n",
      "hometown\n"
     ]
    },
    {
     "data": {
      "text/plain": [
       "dict_keys(['age', 'name', 'hometown'])"
      ]
     },
     "execution_count": 30,
     "metadata": {},
     "output_type": "execute_result"
    }
   ],
   "source": [
    "#Your code here:\n",
    "for string in student.keys():\n",
    "    print(string)\n",
    "\n",
    "student.keys()"
   ]
  },
  {
   "cell_type": "markdown",
   "id": "321f7a25-9c53-4c2b-97a9-d1da49d81576",
   "metadata": {},
   "source": [
    "4.2.4 Write two ways you could access all the values from the dictionary above. (Remember I introdcued how to use a for loop to access values in a dictionary)."
   ]
  },
  {
   "cell_type": "code",
   "execution_count": 32,
   "id": "f9b38c21-69ab-4c6f-9577-415020fe83ff",
   "metadata": {},
   "outputs": [
    {
     "name": "stdout",
     "output_type": "stream",
     "text": [
      "25\n",
      "New York\n",
      "Alice\n"
     ]
    },
    {
     "data": {
      "text/plain": [
       "dict_values([25, 'New York', 'Alice'])"
      ]
     },
     "execution_count": 32,
     "metadata": {},
     "output_type": "execute_result"
    }
   ],
   "source": [
    "#Your code here:\n",
    "for response in student.values():\n",
    "    print(response)\n",
    "\n",
    "student.values()"
   ]
  },
  {
   "cell_type": "markdown",
   "id": "8ff3c9f8-0120-49f5-9e41-f23ea89caa71",
   "metadata": {},
   "source": [
    "4.2.5 Look up the correct syntax for writing a for loop with dictionaries so that you print each key value pair in the dictionary above."
   ]
  },
  {
   "cell_type": "code",
   "execution_count": 34,
   "id": "d2f725cb-c436-463b-b8fe-e1686d5ccfce",
   "metadata": {},
   "outputs": [
    {
     "name": "stdout",
     "output_type": "stream",
     "text": [
      "Key: age, Value: 25\n",
      "Key: name, Value: New York\n",
      "Key: hometown, Value: Alice\n"
     ]
    }
   ],
   "source": [
    "#Your code here:\n",
    "\n",
    "for category, value in student.items(): # I looked this up on \n",
    "    print(f\"Key: {category}, Value: {value}\")"
   ]
  },
  {
   "cell_type": "markdown",
   "id": "fefd9744-f2d5-46bb-89a1-9398af37ffbf",
   "metadata": {},
   "source": [
    "### 4.3 Lists (10pts)"
   ]
  },
  {
   "cell_type": "markdown",
   "id": "80774d74-5eef-474f-b22f-2df7592fab77",
   "metadata": {},
   "source": [
    "4.3.1 Create a list called my_list with the following elements: \"apple\", \"banana\", \"cherry\", \"date\", and \"elderberry\". Then, use slicing to extract a sublist that includes only the second, third, and fourth elements. Print the resulting sublist."
   ]
  },
  {
   "cell_type": "code",
   "execution_count": 37,
   "id": "6cb7703c-2557-4142-93db-73df473ab505",
   "metadata": {},
   "outputs": [
    {
     "name": "stdout",
     "output_type": "stream",
     "text": [
      "['banana', 'cherry', 'date']\n"
     ]
    }
   ],
   "source": [
    "#Your code here:\n",
    "my_list = [\"apple\", \"banana\", \"cherry\", \"date\", \"elderberry\"]\n",
    "sub_list = my_list[1:4]\n",
    "print(sub_list)"
   ]
  },
  {
   "cell_type": "markdown",
   "id": "b3c12f4a-b7d3-45b3-a565-23a5c998ad0c",
   "metadata": {},
   "source": [
    "4.3.2 Create a list called numbers with the following elements: 2, 5, 1, 9, 8, 3, 6, and 4. Then, use the sort() method to sort the list in ascending order. Print the resulting sorted list."
   ]
  },
  {
   "cell_type": "code",
   "execution_count": 39,
   "id": "f644c0ee-4a10-44b6-a23c-a075b5872bc4",
   "metadata": {},
   "outputs": [
    {
     "name": "stdout",
     "output_type": "stream",
     "text": [
      "[1, 2, 3, 4, 5, 6, 8, 9]\n"
     ]
    }
   ],
   "source": [
    "#Your code here:\n",
    "numbers = [2, 5, 1, 9, 8, 3, 6, 4]\n",
    "arranged_numb = sorted(numbers)\n",
    "print(arranged_numb)"
   ]
  },
  {
   "cell_type": "markdown",
   "id": "f716d16a-881b-4d4c-a7cb-203fe0539421",
   "metadata": {},
   "source": [
    "4.3.3 Create two lists: list1 with the following elements: \"apple\", \"banana\", and \"cherry\", and list2 with the following elements: \"date\", \"elderberry\", and \"fig\". Then, use the extend() method to add the elements of list2 to list1. Print the resulting combined list."
   ]
  },
  {
   "cell_type": "code",
   "execution_count": 41,
   "id": "fe1828f0-4c1e-40fb-98b2-178a3f2aa89c",
   "metadata": {},
   "outputs": [
    {
     "name": "stdout",
     "output_type": "stream",
     "text": [
      "['apple', 'banana', 'cherry', 'date', 'elderberry', 'fig']\n"
     ]
    }
   ],
   "source": [
    "#Your code here:\n",
    "list1 = [\"apple\", \"banana\", \"cherry\"]\n",
    "list2 = [\"date\", \"elderberry\", \"fig\"]\n",
    "list1.extend(list2)\n",
    "print(list1)"
   ]
  },
  {
   "cell_type": "markdown",
   "id": "e8d8f8fe-3a6f-412d-86b6-03d8393adc93",
   "metadata": {},
   "source": [
    "4.3.4 Create a list called numbers with the following elements: 2, 5, 1, 9, 8, 3, 6, and 4. Then, use the remove() method to remove the element 9 from the list. Print the resulting modified list."
   ]
  },
  {
   "cell_type": "code",
   "execution_count": 43,
   "id": "245ba7eb-2ce6-4971-8fa7-aa446c2f1c0e",
   "metadata": {},
   "outputs": [
    {
     "name": "stdout",
     "output_type": "stream",
     "text": [
      "[2, 5, 1, 8, 3, 6, 4]\n"
     ]
    }
   ],
   "source": [
    "#Your code here:\n",
    "numbers = [2, 5, 1, 9, 8, 3, 6, 4]\n",
    "numbers.remove(9)\n",
    "print(numbers)"
   ]
  },
  {
   "cell_type": "markdown",
   "id": "74c27b82-a653-44b2-95b5-4efd8576004e",
   "metadata": {},
   "source": [
    "4.3.5 Create a list called fruits with the following elements: \"apple\", \"banana\", \"cherry\", and \"date\". Then, use the insert() method to insert the element \"elderberry\" at the second position in the list. Print the resulting modified list."
   ]
  },
  {
   "cell_type": "code",
   "execution_count": 45,
   "id": "23f27110-4fe9-4dd9-ae01-70825eef8ad0",
   "metadata": {},
   "outputs": [
    {
     "name": "stdout",
     "output_type": "stream",
     "text": [
      "['apple', 'elderberry', 'banana', 'cherry', 'date']\n"
     ]
    }
   ],
   "source": [
    "#Your code here:\n",
    "fruits = [\"apple\", \"banana\", \"cherry\", \"date\"]\n",
    "fruits.insert(1, 'elderberry')\n",
    "print(fruits)"
   ]
  },
  {
   "cell_type": "markdown",
   "id": "9ae0e6aa-339b-43f2-b62c-50b6061a347b",
   "metadata": {},
   "source": [
    "### 4.5 Random (10 pts)\n",
    "There is a module in python called \"random\". It allows you to generate random integers and letters. You import modules in Python using the \"import statement.\" (Note: The Anaconda distribution of Python you used to load Python comes with a number of built in packages, so if you use import, Python may respond that you have already installed that). The syntax for importing numbers is as follows:"
   ]
  },
  {
   "cell_type": "code",
   "execution_count": 47,
   "id": "2d227317-b63a-408d-ac46-1261b7814c30",
   "metadata": {},
   "outputs": [
    {
     "name": "stdout",
     "output_type": "stream",
     "text": [
      "45\n"
     ]
    }
   ],
   "source": [
    "import random\n",
    "# I am asking random to generate a random number between 1 and 100 and\n",
    "#assigning it to the variable some_number\n",
    "some_number = random.randint(1,100)\n",
    "print(some_number)"
   ]
  },
  {
   "cell_type": "markdown",
   "id": "2ab1904b-874c-44cd-b3bf-cb3ed9ef8afa",
   "metadata": {},
   "source": [
    "\n",
    "4.5.1 Write a script that generates a random number between one and ten and gives a user five tries to get the right number. Count the number of guesses. When the user does not guess it right, print an encouraging statement that they should keep trying, how many guesses they have left, and whether if their guess was too high or too low. Make sure you are tracking the number of guesses. When the user gets the number right, print \"You got it!\" and end the program"
   ]
  },
  {
   "cell_type": "code",
   "execution_count": 98,
   "id": "20a1cf98-f59d-4bb4-ba8c-3d9a6b6ec70c",
   "metadata": {},
   "outputs": [
    {
     "name": "stdin",
     "output_type": "stream",
     "text": [
      "Pick a number between 1 and 10! You get 5 tries to get it right:  5\n",
      "Nice try, but your guess was a bit too low. Try again! You have 4 tries remaining:  8\n"
     ]
    },
    {
     "name": "stdout",
     "output_type": "stream",
     "text": [
      "8\n"
     ]
    },
    {
     "name": "stdin",
     "output_type": "stream",
     "text": [
      "Nice try, but your guess was a bit high. Try again! You have 3 tries remaining:  7\n"
     ]
    },
    {
     "name": "stdout",
     "output_type": "stream",
     "text": [
      "7\n",
      "You got it! It was 7!\n"
     ]
    }
   ],
   "source": [
    "# Your code here:\n",
    "import random\n",
    "target = random.randint(1,10)\n",
    "initial_response = int(input('Pick a number between 1 and 10! You get 5 tries to get it right: '))\n",
    "\n",
    "n = 4\n",
    "while n>0:\n",
    "    if initial_response > target:\n",
    "        n -= 1\n",
    "        initial_response = int(input(f'Nice try, but your guess was a bit high. Try again! You have {n+1} tries remaining: ')) \n",
    "        # I did n+1 since it seemed to go from n=5 to n=0 which gave 6 tries, so i just did from n=4 to n=0 and made it display n+1\n",
    "        print(initial_response)\n",
    "    elif initial_response < target:\n",
    "        n -= 1\n",
    "        initial_response = int(input(f'Nice try, but your guess was a bit too low. Try again! You have {n+1} tries remaining: '))\n",
    "        print(initial_response)\n",
    "    elif initial_response == target:\n",
    "        print(f'You got it! It was {target}!')\n",
    "        break\n",
    "    if n==0:\n",
    "        print(f'Unfortunately, you\\'re wrong, it was {target}. Better luck next time!')"
   ]
  },
  {
   "cell_type": "markdown",
   "id": "24f65907-875f-4dc6-a976-31f730da13ae",
   "metadata": {},
   "source": [
    "\n",
    "4.5.2 Short answer: What's the most efficient way to guess a correct number given these clues?"
   ]
  },
  {
   "cell_type": "markdown",
   "id": "91b3dfd7-33de-49a1-93ff-4ab38d1bbda5",
   "metadata": {},
   "source": [
    "Use your words here: You should guess the midpoint of the values. So start with 5, then get the midpoint of 5 and 10 or 5 and 1 depending on the feedback. You repeat this process and you've got the right answer."
   ]
  },
  {
   "cell_type": "markdown",
   "id": "714b7e50-381d-4e3f-abb2-6f6563a19f2e",
   "metadata": {},
   "source": [
    "4.6 : Clean Up (10pts)\n",
    "Write a for loop that returns a list of surnames of Nobel Peace Prize Winners."
   ]
  },
  {
   "cell_type": "code",
   "execution_count": 53,
   "id": "0dde538a-2639-49d2-9ca5-054df5772d66",
   "metadata": {},
   "outputs": [
    {
     "name": "stdout",
     "output_type": "stream",
     "text": [
      "['Xiabobo', 'King', 'Sato', 'Obama', 'Sirleaf', 'Walesa', 'Robles']\n"
     ]
    }
   ],
   "source": [
    "nobel_messy = [['Xiabobo', '!', ',', ':', ',', '@@', '%','^','&', 'King','Sato', '1945'],['Nuclear', 'Chemical'], ['Obama', 'Sirleaf', 'Walesa', 'Robles']]\n",
    "# your code here: \n",
    "\n",
    "nobel_winners = []\n",
    "common_words = ['Nuclear', 'Chemical']\n",
    "\n",
    "for element in nobel_messy:\n",
    "    for word in element:\n",
    "        if word.isalpha() == True and word not in common_words:\n",
    "            nobel_winners.append(word)\n",
    "        else:\n",
    "            pass\n",
    "\n",
    "print(nobel_winners)"
   ]
  },
  {
   "cell_type": "markdown",
   "id": "7b72f8f8-51f6-4d00-b47d-777c426301fa",
   "metadata": {},
   "source": [
    "### 4.6 Built in DATA STRUCTURES in Python (A review) (20pts)\n",
    "\n",
    "Python offers a variety of built-in data structures, each with its unique features and uses. Here's a comprehensive list of Python's primary data structures:\n",
    "\n",
    "Built-in Data Structures\n",
    "\n",
    "**List**: An **ordered, mutable** collection of items that can be of mixed types. Lists are defined with square brackets [].\n",
    "\n",
    "**Tuple**: An **ordered, immutable** collection of items that can be of mixed types. Tuples are defined with parentheses ().\n",
    "\n",
    "**Set**: An **unordered** collection of unique items. Sets are **mutable**, do not allow duplicates, and are defined with curly braces {} or the set() function for an empty set.\n",
    "\n",
    "**Dictionary (Dict)**: A collection of key-value pairs where keys are unique. Dictionaries are **mutable and ordered** by insertion order (as of Python 3.7+). They are defined with curly braces {} with key-value pairs separated by colons.\n"
   ]
  },
  {
   "cell_type": "markdown",
   "id": "98231021-1e9b-4ae7-92ff-28027f2951c9",
   "metadata": {},
   "source": [
    "4.6.1 Tuples: When Order Matters\n",
    "Tuples preserve the order of elements, just like lists. If you need to store data in a specific order and ensure that this order doesn’t change, a tuple is useful."
   ]
  },
  {
   "cell_type": "markdown",
   "id": "0abdd8f4-b640-4ba7-b307-4371f12a3208",
   "metadata": {},
   "source": [
    "Write a Python script that loops through the list of birth dates.\n",
    "\n",
    "For each birth date, print the message:\n",
    "\"Person born on Day/Month/Year\" (replace with the actual values from the tuple).\n",
    "Use a for loop to go through each tuple.\n"
   ]
  },
  {
   "cell_type": "code",
   "execution_count": 57,
   "id": "d24580a0-a15e-442e-a16d-74dbe0c63b4d",
   "metadata": {},
   "outputs": [
    {
     "name": "stdout",
     "output_type": "stream",
     "text": [
      "Alice was born on 12/5/2000\n",
      "Bob was born on 22/7/1995\n",
      "Li Wei was born on 15/3/2010\n",
      "Aarav was born on 30/1/1988\n",
      "Mei Ling was born on 25/12/1999\n",
      "Priya was born on 18/8/1996\n",
      "Zhang Wei was born on 5/9/1992\n",
      "Ananya was born on 3/11/2003\n"
     ]
    }
   ],
   "source": [
    "people = [\n",
    "    (\"Alice\", 2000, 5, 12),\n",
    "    (\"Bob\", 1995, 7, 22),\n",
    "    (\"Li Wei\", 2010, 3, 15),\n",
    "    (\"Aarav\", 1988, 1, 30),\n",
    "    (\"Mei Ling\", 1999, 12, 25),\n",
    "    (\"Priya\", 1996, 8, 18),\n",
    "    (\"Zhang Wei\", 1992, 9, 5),\n",
    "    (\"Ananya\", 2003, 11, 3)\n",
    "]\n",
    "\n",
    "#Your code here: \n",
    "\n",
    "for person in people:\n",
    "    print(f'{person[0]} was born on {person[3]}/{person[2]}/{person[1]}')"
   ]
  },
  {
   "cell_type": "markdown",
   "id": "d2a54d2e-4b5d-411e-aeff-e617b11712e4",
   "metadata": {},
   "source": [
    "4.6.2 Sets: Using Intersections and Unions of Sets\n",
    "\n",
    "\n",
    "Problem:\n",
    "You are working with two groups of students who attended different workshops.\n",
    "\n",
    "Group A attended a Python workshop: {\"Alice\", \"Bob\", \"Charlie\", \"David\", \"Eva\"}.\n",
    "Group B attended a Data Science workshop: {\"Charlie\", \"Eva\", \"Frank\", \"Grace\", \"Henry\"}.\n",
    "\n",
    "Hints:\n",
    "Use the intersection() method to find common students.\n",
    "Use the union() method to combine the two groups.\n",
    "Use the difference() method to find students exclusive to the Python workshop.\n",
    "\n",
    "\n",
    "Difference: Write a script that finds the students who attended the Python workshop but not the Data Science workshop."
   ]
  },
  {
   "cell_type": "code",
   "execution_count": 59,
   "id": "14312a23-8b97-4e93-80e7-a52082d2f4bd",
   "metadata": {},
   "outputs": [
    {
     "name": "stdout",
     "output_type": "stream",
     "text": [
      "{'Bob', 'Alice', 'David'}\n"
     ]
    }
   ],
   "source": [
    "#Your code here:\n",
    "\n",
    "groupA = {\"Alice\", \"Bob\", \"Charlie\", \"David\", \"Eva\"}\n",
    "groupB = {\"Charlie\", \"Eva\", \"Frank\", \"Grace\", \"Henry\"}\n",
    "\n",
    "just_python = groupA.difference(groupB)\n",
    "print(just_python)"
   ]
  },
  {
   "cell_type": "markdown",
   "id": "7a7df198-671d-426d-bab1-db9c73abadb2",
   "metadata": {},
   "source": [
    "Intersection: Write a Python script that finds the students who attended both workshops (i.e., students who are in both groups).\n"
   ]
  },
  {
   "cell_type": "code",
   "execution_count": 61,
   "id": "3117e3ca-0c2c-4e34-9208-48e7f18f52fa",
   "metadata": {},
   "outputs": [
    {
     "name": "stdout",
     "output_type": "stream",
     "text": [
      "{'Charlie', 'Eva'}\n"
     ]
    }
   ],
   "source": [
    "#Your code here:\n",
    "both = groupA.intersection(groupB)\n",
    "print(both)"
   ]
  },
  {
   "cell_type": "markdown",
   "id": "9898f853-63ad-42bb-8fef-c7a27be029fb",
   "metadata": {},
   "source": [
    "Union: Write a Python script that finds the total number of unique students who attended at least one of the workshops (i.e., all students from both groups)."
   ]
  },
  {
   "cell_type": "code",
   "execution_count": 63,
   "id": "8dc400c8-4ccc-4536-b5ab-ced77426fd24",
   "metadata": {},
   "outputs": [
    {
     "name": "stdout",
     "output_type": "stream",
     "text": [
      "{'Bob', 'Henry', 'Grace', 'David', 'Frank', 'Eva', 'Charlie', 'Alice'}\n"
     ]
    }
   ],
   "source": [
    "#Your code here:\n",
    "all = groupA.union(groupB)\n",
    "print(all)"
   ]
  },
  {
   "cell_type": "markdown",
   "id": "4361b64e-4ded-4e54-9278-0e2d9da8fc79",
   "metadata": {},
   "source": [
    "For loop and add\n",
    "You are tasked with building a set of unique even numbers from a list of random numbers using a for loop and the add() method.\n",
    "\n",
    "1. Create a list of numbers: [4, 7, 8, 10, 15, 8, 20, 22, 4, 30, 7, 35].\n",
    "\n",
    "2. Write a Python script that iterates through the list using a for loop.\n",
    "\n",
    "3. Use the add() method to add only the even numbers to a set. Remember, sets only store unique elements, so duplicates won’t be added.\n",
    "\n",
    "4. After the loop finishes, print the set of even numbers.\n",
    "\n",
    "Hints:\n",
    "Use the modulo operator (%) to check if a number is even (number % 2 == 0).\n",
    "Initialize an empty set (even_numbers = set()) and use the add() method inside the loop to add even numbers to the set.\n"
   ]
  },
  {
   "cell_type": "code",
   "execution_count": 65,
   "id": "fa608245-1cc8-4ed5-8a2d-550ec88f8ada",
   "metadata": {},
   "outputs": [
    {
     "name": "stdout",
     "output_type": "stream",
     "text": [
      "{4, 8, 10, 20, 22, 30}\n"
     ]
    }
   ],
   "source": [
    "#Your code here:\n",
    "numbers = [4, 7, 8, 10, 15, 8, 20, 22, 4, 30, 7, 35]\n",
    "even_numbers = set()\n",
    "\n",
    "for number in numbers:\n",
    "    if number % 2 == 0:\n",
    "        even_numbers.add(number)\n",
    "    else:\n",
    "        pass\n",
    "\n",
    "print(even_numbers)"
   ]
  },
  {
   "cell_type": "markdown",
   "id": "6bf8e3bf-9442-4679-8a8a-96f82d792d38",
   "metadata": {},
   "source": [
    "##### 4.7 Pig Latin Translator ¶(15pts)\n",
    "\n",
    "\"Pig Latin\" is a pseudo language.  Several cultures use it, or variations of it. Germans call it Kedelkloppersprook; in Swedish, it’s Fikonspråket, alfabeto farfallino in Italian, loucherbem in French, Jeringonza in Spanish. \n",
    "\n",
    "In English you remove the first letter of the word, and then move that letter to the end of the word and add 'ay'. So \"Car\" would be \"Arcay\" ... \"Professor\" would be \"rofessorpay\".\n",
    "\n",
    "Write code that translates a name into (simplified) Pig Latin.  Have your script ask the user for his or her name, which can comprise first, middle, and/or last parts. \n",
    "\n",
    "Make sure that only the first letter of each word in your output is capitalized. You can use the split() method on the string to create a list of the name parts. Be sure that your script can handle one, two or three name parts separated by spaces. This will likely involve a loop.\n",
    "\n",
    "Your script should re-create the following example exactly:\n",
    "\n",
    "Enter your name: Casey King\n",
    "\n",
    "Aseycay Ingkay"
   ]
  },
  {
   "cell_type": "code",
   "execution_count": 136,
   "id": "c09f0e03-985e-4142-a4d0-7cb34c42b815",
   "metadata": {},
   "outputs": [
    {
     "name": "stdin",
     "output_type": "stream",
     "text": [
      "What's your name?  Casey King\n"
     ]
    },
    {
     "name": "stdout",
     "output_type": "stream",
     "text": [
      "Aseycay Ingkay\n"
     ]
    }
   ],
   "source": [
    "# Your code here:\n",
    "\n",
    "question = input(\"What\\'s your name? \")\n",
    "\n",
    "names = question.split()\n",
    "pig_latin_parts = []\n",
    "\n",
    "for part in names:\n",
    "    if len(part) > 0:  \n",
    "        pig_latin_word = part[1:] + part[0] + 'ay'\n",
    "        pig_latin_parts.append(pig_latin_word.capitalize())\n",
    "    else:\n",
    "        pass\n",
    "\n",
    "platin_name = ' '.join(pig_latin_parts) # I got this part from chatGPT since if I just printed pig_latin_parts, it would yield a list rather\n",
    "                                        # than just the words, so the space joins these elements to make it a normal string\n",
    "\n",
    "print(platin_name)"
   ]
  },
  {
   "cell_type": "markdown",
   "id": "1f98830b-ee61-416c-ba2d-ac6769a308ca",
   "metadata": {},
   "source": [
    "### 4.8 DDOS Attack (15pts)"
   ]
  },
  {
   "cell_type": "markdown",
   "id": "997e861e-d8c4-4678-8fb4-5c1f1192d39b",
   "metadata": {},
   "source": [
    "A distributed denial-of-service (DDoS) attack is a malicious attempt to disrupt normal traffic of a targeted server, service or network by overwhelming the target or its surrounding infrastructure with a flood of data or inputs."
   ]
  },
  {
   "cell_type": "markdown",
   "id": "481d7954-7def-45b3-b5e6-b77b724384df",
   "metadata": {},
   "source": [
    "4.8.1(5pts)\n",
    "Write a simple example of a DoS attack on a user input statement using a for loop that executes for 100 iterations."
   ]
  },
  {
   "cell_type": "code",
   "execution_count": 119,
   "id": "0fd044f0-7745-4db7-bbba-e6d4ae552a44",
   "metadata": {},
   "outputs": [
    {
     "name": "stdin",
     "output_type": "stream",
     "text": [
      "Please enter something:  1\n",
      "Please enter something:  1\n",
      "Please enter something:  1\n",
      "Please enter something:  1\n",
      "Please enter something:  1\n"
     ]
    },
    {
     "ename": "KeyboardInterrupt",
     "evalue": "Interrupted by user",
     "output_type": "error",
     "traceback": [
      "\u001b[0;31m---------------------------------------------------------------------------\u001b[0m",
      "\u001b[0;31mKeyboardInterrupt\u001b[0m                         Traceback (most recent call last)",
      "Cell \u001b[0;32mIn[119], line 15\u001b[0m\n\u001b[1;32m      3\u001b[0m numbers \u001b[38;5;241m=\u001b[39m [\u001b[38;5;241m1\u001b[39m, \u001b[38;5;241m2\u001b[39m, \u001b[38;5;241m3\u001b[39m, \u001b[38;5;241m4\u001b[39m, \u001b[38;5;241m5\u001b[39m, \u001b[38;5;241m6\u001b[39m, \u001b[38;5;241m7\u001b[39m, \u001b[38;5;241m8\u001b[39m, \u001b[38;5;241m9\u001b[39m, \u001b[38;5;241m10\u001b[39m, \n\u001b[1;32m      4\u001b[0m                \u001b[38;5;241m11\u001b[39m, \u001b[38;5;241m12\u001b[39m, \u001b[38;5;241m13\u001b[39m, \u001b[38;5;241m14\u001b[39m, \u001b[38;5;241m15\u001b[39m, \u001b[38;5;241m16\u001b[39m, \u001b[38;5;241m17\u001b[39m, \u001b[38;5;241m18\u001b[39m, \u001b[38;5;241m19\u001b[39m, \u001b[38;5;241m20\u001b[39m,\n\u001b[1;32m      5\u001b[0m                \u001b[38;5;241m21\u001b[39m, \u001b[38;5;241m22\u001b[39m, \u001b[38;5;241m23\u001b[39m, \u001b[38;5;241m24\u001b[39m, \u001b[38;5;241m25\u001b[39m, \u001b[38;5;241m26\u001b[39m, \u001b[38;5;241m27\u001b[39m, \u001b[38;5;241m28\u001b[39m, \u001b[38;5;241m29\u001b[39m, \u001b[38;5;241m30\u001b[39m,\n\u001b[0;32m   (...)\u001b[0m\n\u001b[1;32m     11\u001b[0m                \u001b[38;5;241m81\u001b[39m, \u001b[38;5;241m82\u001b[39m, \u001b[38;5;241m83\u001b[39m, \u001b[38;5;241m84\u001b[39m, \u001b[38;5;241m85\u001b[39m, \u001b[38;5;241m86\u001b[39m, \u001b[38;5;241m87\u001b[39m, \u001b[38;5;241m88\u001b[39m, \u001b[38;5;241m89\u001b[39m, \u001b[38;5;241m90\u001b[39m,\n\u001b[1;32m     12\u001b[0m                \u001b[38;5;241m91\u001b[39m, \u001b[38;5;241m92\u001b[39m, \u001b[38;5;241m93\u001b[39m, \u001b[38;5;241m94\u001b[39m, \u001b[38;5;241m95\u001b[39m, \u001b[38;5;241m96\u001b[39m, \u001b[38;5;241m97\u001b[39m, \u001b[38;5;241m98\u001b[39m, \u001b[38;5;241m99\u001b[39m, \u001b[38;5;241m100\u001b[39m]\n\u001b[1;32m     14\u001b[0m \u001b[38;5;28;01mfor\u001b[39;00m i \u001b[38;5;129;01min\u001b[39;00m numbers: \u001b[38;5;66;03m# Got the range function from chatGPT since was trying to find a way to make a list of the numbers 1-100\u001b[39;00m\n\u001b[0;32m---> 15\u001b[0m     user_input \u001b[38;5;241m=\u001b[39m \u001b[38;5;28minput\u001b[39m(\u001b[38;5;124m'\u001b[39m\u001b[38;5;124mPlease enter something: \u001b[39m\u001b[38;5;124m'\u001b[39m)\n",
      "File \u001b[0;32m/opt/anaconda3/lib/python3.12/site-packages/ipykernel/kernelbase.py:1262\u001b[0m, in \u001b[0;36mKernel.raw_input\u001b[0;34m(self, prompt)\u001b[0m\n\u001b[1;32m   1260\u001b[0m     msg \u001b[38;5;241m=\u001b[39m \u001b[38;5;124m\"\u001b[39m\u001b[38;5;124mraw_input was called, but this frontend does not support input requests.\u001b[39m\u001b[38;5;124m\"\u001b[39m\n\u001b[1;32m   1261\u001b[0m     \u001b[38;5;28;01mraise\u001b[39;00m StdinNotImplementedError(msg)\n\u001b[0;32m-> 1262\u001b[0m \u001b[38;5;28;01mreturn\u001b[39;00m \u001b[38;5;28mself\u001b[39m\u001b[38;5;241m.\u001b[39m_input_request(\n\u001b[1;32m   1263\u001b[0m     \u001b[38;5;28mstr\u001b[39m(prompt),\n\u001b[1;32m   1264\u001b[0m     \u001b[38;5;28mself\u001b[39m\u001b[38;5;241m.\u001b[39m_parent_ident[\u001b[38;5;124m\"\u001b[39m\u001b[38;5;124mshell\u001b[39m\u001b[38;5;124m\"\u001b[39m],\n\u001b[1;32m   1265\u001b[0m     \u001b[38;5;28mself\u001b[39m\u001b[38;5;241m.\u001b[39mget_parent(\u001b[38;5;124m\"\u001b[39m\u001b[38;5;124mshell\u001b[39m\u001b[38;5;124m\"\u001b[39m),\n\u001b[1;32m   1266\u001b[0m     password\u001b[38;5;241m=\u001b[39m\u001b[38;5;28;01mFalse\u001b[39;00m,\n\u001b[1;32m   1267\u001b[0m )\n",
      "File \u001b[0;32m/opt/anaconda3/lib/python3.12/site-packages/ipykernel/kernelbase.py:1305\u001b[0m, in \u001b[0;36mKernel._input_request\u001b[0;34m(self, prompt, ident, parent, password)\u001b[0m\n\u001b[1;32m   1302\u001b[0m \u001b[38;5;28;01mexcept\u001b[39;00m \u001b[38;5;167;01mKeyboardInterrupt\u001b[39;00m:\n\u001b[1;32m   1303\u001b[0m     \u001b[38;5;66;03m# re-raise KeyboardInterrupt, to truncate traceback\u001b[39;00m\n\u001b[1;32m   1304\u001b[0m     msg \u001b[38;5;241m=\u001b[39m \u001b[38;5;124m\"\u001b[39m\u001b[38;5;124mInterrupted by user\u001b[39m\u001b[38;5;124m\"\u001b[39m\n\u001b[0;32m-> 1305\u001b[0m     \u001b[38;5;28;01mraise\u001b[39;00m \u001b[38;5;167;01mKeyboardInterrupt\u001b[39;00m(msg) \u001b[38;5;28;01mfrom\u001b[39;00m \u001b[38;5;28;01mNone\u001b[39;00m\n\u001b[1;32m   1306\u001b[0m \u001b[38;5;28;01mexcept\u001b[39;00m \u001b[38;5;167;01mException\u001b[39;00m:\n\u001b[1;32m   1307\u001b[0m     \u001b[38;5;28mself\u001b[39m\u001b[38;5;241m.\u001b[39mlog\u001b[38;5;241m.\u001b[39mwarning(\u001b[38;5;124m\"\u001b[39m\u001b[38;5;124mInvalid Message:\u001b[39m\u001b[38;5;124m\"\u001b[39m, exc_info\u001b[38;5;241m=\u001b[39m\u001b[38;5;28;01mTrue\u001b[39;00m)\n",
      "\u001b[0;31mKeyboardInterrupt\u001b[0m: Interrupted by user"
     ]
    }
   ],
   "source": [
    "#Your code here:\n",
    "\n",
    "numbers = [1, 2, 3, 4, 5, 6, 7, 8, 9, 10, \n",
    "               11, 12, 13, 14, 15, 16, 17, 18, 19, 20,\n",
    "               21, 22, 23, 24, 25, 26, 27, 28, 29, 30,\n",
    "               31, 32, 33, 34, 35, 36, 37, 38, 39, 40,\n",
    "               41, 42, 43, 44, 45, 46, 47, 48, 49, 50,\n",
    "               51, 52, 53, 54, 55, 56, 57, 58, 59, 60,\n",
    "               61, 62, 63, 64, 65, 66, 67, 68, 69, 70,\n",
    "               71, 72, 73, 74, 75, 76, 77, 78, 79, 80,\n",
    "               81, 82, 83, 84, 85, 86, 87, 88, 89, 90,\n",
    "               91, 92, 93, 94, 95, 96, 97, 98, 99, 100]\n",
    "\n",
    "for i in numbers:\n",
    "    user_input = input('Please enter something: ') "
   ]
  },
  {
   "cell_type": "markdown",
   "id": "c5d72ce7-1284-4c28-8603-c9d183b338bf",
   "metadata": {},
   "source": [
    "4.8.2(5pts)\n",
    "Write a simple example of a DoS attack on a user input statement using a while loop that executes for 100 iterations."
   ]
  },
  {
   "cell_type": "code",
   "execution_count": null,
   "id": "1bae1f3a-c16e-43c7-abef-4556b63490f3",
   "metadata": {},
   "outputs": [],
   "source": [
    "#Your code here:\n",
    "\n",
    "i = 100  \n",
    "while i > 0: \n",
    "    user_input = input('Please enter something: ') \n",
    "    i -= 1 "
   ]
  }
 ],
 "metadata": {
  "kernelspec": {
   "display_name": "Python 3 (ipykernel)",
   "language": "python",
   "name": "python3"
  },
  "language_info": {
   "codemirror_mode": {
    "name": "ipython",
    "version": 3
   },
   "file_extension": ".py",
   "mimetype": "text/x-python",
   "name": "python",
   "nbconvert_exporter": "python",
   "pygments_lexer": "ipython3",
   "version": "3.12.4"
  }
 },
 "nbformat": 4,
 "nbformat_minor": 5
}
