{
 "cells": [
  {
   "cell_type": "markdown",
   "id": "aac5bcfb-020e-44b4-a0f1-7a8ca177fa1b",
   "metadata": {},
   "source": [
    "# HW 6\n",
    "\n",
    "1. Translating Sentences:\n",
    "10 pts\n",
    "Write a function that translates sentences. The function takes two arguements, the sentence to be translated and tthe targeted language and returns the translated sentence."
   ]
  },
  {
   "cell_type": "code",
   "execution_count": 2,
   "id": "f089667a-5110-4b19-9c09-71c2fb8f8f12",
   "metadata": {},
   "outputs": [
    {
     "name": "stdout",
     "output_type": "stream",
     "text": [
      "Afrikaans (af)\n",
      "Albanian (sq)\n",
      "Amharic (am)\n",
      "Arabic (ar)\n",
      "Armenian (hy)\n",
      "Azerbaijani (az)\n",
      "Basque (eu)\n",
      "Belarusian (be)\n",
      "Bengali (bn)\n",
      "Bosnian (bs)\n",
      "Bulgarian (bg)\n",
      "Catalan (ca)\n",
      "Cebuano (ceb)\n",
      "Chichewa (ny)\n",
      "Chinese (simplified) (zh-cn)\n",
      "Chinese (traditional) (zh-tw)\n",
      "Corsican (co)\n",
      "Croatian (hr)\n",
      "Czech (cs)\n",
      "Danish (da)\n",
      "Dutch (nl)\n",
      "English (en)\n",
      "Esperanto (eo)\n",
      "Estonian (et)\n",
      "Filipino (tl)\n",
      "Finnish (fi)\n",
      "French (fr)\n",
      "Frisian (fy)\n",
      "Galician (gl)\n",
      "Georgian (ka)\n",
      "German (de)\n",
      "Greek (el)\n",
      "Gujarati (gu)\n",
      "Haitian creole (ht)\n",
      "Hausa (ha)\n",
      "Hawaiian (haw)\n",
      "Hebrew (iw)\n",
      "Hebrew (he)\n",
      "Hindi (hi)\n",
      "Hmong (hmn)\n",
      "Hungarian (hu)\n",
      "Icelandic (is)\n",
      "Igbo (ig)\n",
      "Indonesian (id)\n",
      "Irish (ga)\n",
      "Italian (it)\n",
      "Japanese (ja)\n",
      "Javanese (jw)\n",
      "Kannada (kn)\n",
      "Kazakh (kk)\n",
      "Khmer (km)\n",
      "Korean (ko)\n",
      "Kurdish (kurmanji) (ku)\n",
      "Kyrgyz (ky)\n",
      "Lao (lo)\n",
      "Latin (la)\n",
      "Latvian (lv)\n",
      "Lithuanian (lt)\n",
      "Luxembourgish (lb)\n",
      "Macedonian (mk)\n",
      "Malagasy (mg)\n",
      "Malay (ms)\n",
      "Malayalam (ml)\n",
      "Maltese (mt)\n",
      "Maori (mi)\n",
      "Marathi (mr)\n",
      "Mongolian (mn)\n",
      "Myanmar (burmese) (my)\n",
      "Nepali (ne)\n",
      "Norwegian (no)\n",
      "Odia (or)\n",
      "Pashto (ps)\n",
      "Persian (fa)\n",
      "Polish (pl)\n",
      "Portuguese (pt)\n",
      "Punjabi (pa)\n",
      "Romanian (ro)\n",
      "Russian (ru)\n",
      "Samoan (sm)\n",
      "Scots gaelic (gd)\n",
      "Serbian (sr)\n",
      "Sesotho (st)\n",
      "Shona (sn)\n",
      "Sindhi (sd)\n",
      "Sinhala (si)\n",
      "Slovak (sk)\n",
      "Slovenian (sl)\n",
      "Somali (so)\n",
      "Spanish (es)\n",
      "Sundanese (su)\n",
      "Swahili (sw)\n",
      "Swedish (sv)\n",
      "Tajik (tg)\n",
      "Tamil (ta)\n",
      "Telugu (te)\n",
      "Thai (th)\n",
      "Turkish (tr)\n",
      "Ukrainian (uk)\n",
      "Urdu (ur)\n",
      "Uyghur (ug)\n",
      "Uzbek (uz)\n",
      "Vietnamese (vi)\n",
      "Welsh (cy)\n",
      "Xhosa (xh)\n",
      "Yiddish (yi)\n",
      "Yoruba (yo)\n",
      "Zulu (zu)\n"
     ]
    },
    {
     "name": "stdin",
     "output_type": "stream",
     "text": [
      "Give me a sentence:  I hope to graduate next year\n",
      "Pick from a language code above:  uk\n"
     ]
    },
    {
     "name": "stdout",
     "output_type": "stream",
     "text": [
      "Translated sentence: Я сподіваюся закінчити наступний рік\n"
     ]
    }
   ],
   "source": [
    "from googletrans import Translator\n",
    "from googletrans import LANGUAGES\n",
    "\n",
    "def list_supported_languages():\n",
    "    \"\"\"\n",
    "    Returns a dictionary of supported languages by Google Translate.\n",
    "\n",
    "    The dictionary keys are language codes (ISO 639-1 format), \n",
    "    and the values are the corresponding language names.\n",
    "\n",
    "    Example:\n",
    "        {'en': 'english', 'fr': 'french', 'es': 'spanish', ...}\n",
    "\n",
    "    Returns:\n",
    "        dict: A dictionary where keys are language codes and values are language names\n",
    "    \"\"\"\n",
    "    return LANGUAGES\n",
    "\n",
    "def translation(sentence, language):\n",
    "    \"\"\"\n",
    "    Translates a given sentence into the specified language using Google Translate.\n",
    "\n",
    "    Arguments:\n",
    "        sentence (str): The sentence to be translated\n",
    "        language (str): The language code of the target language (e.g., 'fr' for French)\n",
    "\n",
    "    Returns:\n",
    "        str: The translated sentence\n",
    "    \n",
    "    Example:\n",
    "        translation(\"Hello\", \"fr\")  # Returns \"Bonjour\"\n",
    "    \"\"\"\n",
    "    translator = Translator()\n",
    "    translated_text = translator.translate(sentence, dest=language)\n",
    "    return translated_text.text\n",
    "\n",
    "# Example usage\n",
    "supported_languages = list_supported_languages()\n",
    "for code, lang in supported_languages.items():\n",
    "    # Print each supported language and its corresponding code in a readable format\n",
    "    print(f\"{lang.capitalize()} ({code})\")\n",
    "\n",
    "# Get a sentence to be translated from the user\n",
    "question = input('Give me a sentence: ')\n",
    "\n",
    "# Get the target language code from the user\n",
    "lang = input('Pick from a language code above: ')\n",
    "\n",
    "# Translate the input sentence into the selected language\n",
    "translated_sentence = translation(question, lang)\n",
    "\n",
    "# Output the translated sentence to the user\n",
    "print(f'Translated sentence: {translated_sentence}')"
   ]
  },
  {
   "cell_type": "markdown",
   "id": "acb9b1ca-0b7a-4367-b0d4-0eec50b068d8",
   "metadata": {},
   "source": [
    "Take the following sentence and translate it from English to Spanish.\n",
    "\"Make a career of humanity. Commit yourself to the noble struggle for equal rights. You will make a better person of yourself, a greater nation of your country, and a finer world to live in.\""
   ]
  },
  {
   "cell_type": "code",
   "execution_count": 4,
   "id": "7142fc46-12f2-4a48-8dbb-af1f83a1f7dd",
   "metadata": {},
   "outputs": [
    {
     "name": "stdout",
     "output_type": "stream",
     "text": [
      "Translated sentence: Hacer una carrera de la humanidad.Comprométate con la noble lucha por la igualdad de derechos.\n",
      "Harás una mejor persona de ti mismo, una nación más grande de tu país y un mundo más fino para vivir.\n"
     ]
    }
   ],
   "source": [
    "# Your code here:\n",
    "\n",
    "# Translate the given sentence into Spanish ('es' is the language code for Spanish)\n",
    "en_es = translation('''Make a career of humanity. Commit yourself to the noble struggle for equal rights.\n",
    "You will make a better person of yourself, a greater nation of your country, and a finer world to live in.''', 'es')\n",
    "\n",
    "# Output the translated sentence to the user\n",
    "print(f'Translated sentence: {en_es}')"
   ]
  },
  {
   "cell_type": "markdown",
   "id": "daf0373e-686c-4372-a49c-a583620161c3",
   "metadata": {},
   "source": [
    "2. Now translate it from Spanish to Chinese\n",
    "2.5pts"
   ]
  },
  {
   "cell_type": "code",
   "execution_count": 6,
   "id": "ed3f5d0d-9129-4321-b1a2-43b14ccfd211",
   "metadata": {},
   "outputs": [
    {
     "name": "stdout",
     "output_type": "stream",
     "text": [
      "Translated sentence: 通过为平等权利的崇高斗争而促进人类职业。\n",
      "您将使自己成为一个更好的人，一个在您国家的更大的国家和一个更美好的世界。\n"
     ]
    }
   ],
   "source": [
    "# Your code here:\n",
    "\n",
    "# Translate the given Spanish sentence into Simplified Chinese ('zh-cn' is the language code for Simplified Chinese)\n",
    "es_ch = translation(en_es, 'zh-cn')\n",
    "\n",
    "# Output the translated sentence to the user\n",
    "print(f'Translated sentence: {es_ch}')"
   ]
  },
  {
   "cell_type": "markdown",
   "id": "5a0f2361-5bd0-4bcb-9dc4-7ee6630cbabd",
   "metadata": {},
   "source": [
    "3. Now translate it from Chinese back to English.\n",
    "2.5pts"
   ]
  },
  {
   "cell_type": "code",
   "execution_count": 8,
   "id": "156fe134-2df9-4210-8444-6822b00aed6e",
   "metadata": {},
   "outputs": [
    {
     "name": "stdout",
     "output_type": "stream",
     "text": [
      "Translated sentence: Promote human occupations by lofty struggle for equal rights.\n",
      "You will make yourself a better person, a larger country in your country and a better world.\n"
     ]
    }
   ],
   "source": [
    "# Your code here:\n",
    "\n",
    "# Translate the given Spanish sentence into English ('en' is the language code for English)\n",
    "ch_en = translation(es_ch, 'en')\n",
    "\n",
    "# Output the translated sentence to the user\n",
    "print(f'Translated sentence: {ch_en}')"
   ]
  },
  {
   "cell_type": "markdown",
   "id": "5f22fb28-eb8c-4394-b291-22f695d04469",
   "metadata": {},
   "source": [
    "4. Now do the same thing with ChatGPT.\n",
    "\n",
    "2.5pts\n",
    "Eng to Sp: Sp to Chinese: Chinese to Eng:\n",
    "\n"
   ]
  },
  {
   "cell_type": "markdown",
   "id": "75a15f7b-fb82-4eb4-8ad6-f4027dbd5cd7",
   "metadata": {},
   "source": [
    "### English to Spanish\n",
    "Dedica tu vida a la humanidad. Comprométete en la noble lucha por la igualdad de derechos. Te convertirás en una mejor persona, harás de tu país una nación más grande y contribuirás a un mundo mejor en el que vivir."
   ]
  },
  {
   "cell_type": "markdown",
   "id": "9edc67d8-af97-4d8d-9a88-4242f3d602b4",
   "metadata": {},
   "source": [
    "### Spanish to Chinese\n",
    "奉献自己于人类。投身于为平等权利而奋斗的崇高事业。你将成为一个更好的人，成就一个更伟大的国家，并创造一个更美好的世界。"
   ]
  },
  {
   "cell_type": "markdown",
   "id": "92de6c4f-fca4-454f-a63c-ab4807352674",
   "metadata": {},
   "source": [
    "### Chinese to English\n",
    "Dedicate yourself to humanity. Devote yourself to the noble cause of fighting for equal rights. You will become a better person, build a greater nation, and create a better world."
   ]
  },
  {
   "cell_type": "markdown",
   "id": "95f22fc5-75b5-4e6e-8c2e-00291f468035",
   "metadata": {},
   "source": [
    "5. Describe the difference in quality and features of output:\n",
    "2.5pts"
   ]
  },
  {
   "cell_type": "markdown",
   "id": "90f45014-5aa0-4fab-b48f-a468d1261f06",
   "metadata": {},
   "source": [
    "Your answer here:\n",
    "ChatGPT seemed to have provided a more accurate translation than the google translate package. It seemed to have incorporated context of the words while translating whereas google translate directly translated each word regardless of the words surrounding it."
   ]
  },
  {
   "cell_type": "markdown",
   "id": "2dcf5ad4-25ec-4eef-bc6a-bd480e64b65a",
   "metadata": {},
   "source": [
    " ## 7.  The Trump Card\n",
    "Here is a link to a speech made by former President Trump on January 6: https://www.npr.org/2021/02/10/966396848/read-trumps-jan-6-speech-a-key-part-of-impeachment-trial. Not all of the text is his speech. Some of the text is the analysis. Please extract Donald Trump's speech only, remove stopwords and perform a word frequency distribution and visualize it.\n",
    "20pts"
   ]
  },
  {
   "cell_type": "code",
   "execution_count": 16,
   "id": "41b812b3-8e25-46fe-960b-482ae79804f9",
   "metadata": {},
   "outputs": [],
   "source": [
    "import requests\n",
    "import nltk\n",
    "from bs4 import BeautifulSoup\n",
    "from nltk.tokenize import word_tokenize\n",
    "from nltk.corpus import stopwords\n",
    "from nltk import FreqDist\n"
   ]
  },
  {
   "cell_type": "code",
   "execution_count": 17,
   "id": "19f8c4e0-bba6-4a06-8bd3-784ce7c9663e",
   "metadata": {},
   "outputs": [
    {
     "name": "stdout",
     "output_type": "stream",
     "text": [
      "['Well', ',', 'thank', 'you', 'very', 'much', '.', 'This', 'is', 'incredible', '.', 'Media', 'will', 'not', 'show', 'the', 'magnitude', 'of', 'this', 'crowd', '.', 'Even', 'I', ',', 'when', 'I', 'turned', 'on', 'today', ',', 'I', 'looked', ',', 'and', 'I', 'saw', 'thousands', 'of', 'people', 'here', '.', 'But', 'you', 'do', \"n't\", 'see', 'hundreds', 'of', 'thousands', 'of', 'people', 'behind', 'you', 'because', 'they', 'do', \"n't\", 'want', 'to', 'show', 'that', '.', 'We', 'have', 'hundreds', 'of', 'thousands', 'of', 'people', 'here', 'and', 'I', 'just', 'want', 'them', 'to', 'be', 'recognized', 'by', 'the', 'fake', 'news', 'media', '.', 'Turn', 'your', 'cameras', 'please', 'and', 'show', 'what', \"'s\", 'really', 'happening', 'out', 'here', 'because', 'these', 'people', 'are', 'not', 'going', 'to', 'take', 'it', 'any', 'longer', '.', 'They', \"'re\", 'not', 'going', 'to', 'take', 'it', 'any', 'longer', '.', 'Go', 'ahead', '.', 'Turn', 'your', 'cameras', ',', 'please', '.', 'Would', 'you', 'show', '?', 'They', 'came', 'from', 'all', 'over', 'the', 'world', ',', 'actually', ',', 'but', 'they', 'came', 'from', 'all', 'over', 'our', 'country', '.', 'I', 'just', 'really', 'want', 'to', 'see', 'what', 'they', 'do', '.', 'I', 'just', 'want', 'to', 'see', 'how', 'they', 'covered', '.', 'I', \"'ve\", 'never', 'seen', 'anything', 'like', 'it', '.', 'But', 'it', 'would', 'be', 'really', 'great', 'if', 'we', 'could', 'be', 'covered', 'fairly', 'by', 'the', 'media', '.', 'The', 'media', 'is', 'the', 'biggest', 'problem', 'we', 'have', 'as', 'far', 'as', 'I', \"'m\", 'concerned', ',', 'single', 'biggest', 'problem', '.', 'The', 'fake', 'news', 'and', 'the', 'Big', 'tech', '.', 'Big', 'tech', 'is', 'now', 'coming', 'into', 'their', 'own', '.', 'We', 'beat', 'them', 'four', 'years', 'ago', '.', 'We', 'surprised', 'them', '.', 'We', 'took', 'them', 'by', 'surprise', 'and', 'this', 'year', 'they', 'rigged', 'an', 'election', '.', 'They', 'rigged', 'it', 'like', 'they', \"'ve\", 'never', 'rigged', 'an', 'election', 'before', '.', 'And', 'by', 'the', 'way', ',', 'last', 'night', 'they', 'did', \"n't\", 'do', 'a', 'bad', 'job', 'either', 'if', 'you', 'notice', '.', 'I', \"'m\", 'honest', '.', 'And', 'I', 'just', ',', 'again', ',', 'I', 'want', 'to', 'thank', 'you', '.', 'It', \"'s\", 'just', 'a', 'great', 'honor', 'to', 'have', 'this', 'kind', 'of', 'crowd', 'and', 'to', 'be', 'before', 'you', 'and', 'hundreds', 'of', 'thousands', 'of', 'American', 'patriots', 'who', 'are', 'committed', 'to', 'the', 'honesty', 'of', 'our', 'elections', 'and', 'the', 'integrity', 'of', 'our', 'glorious', 'republic', '.', 'All', 'of', 'us', 'here', 'today', 'do', 'not', 'want', 'to', 'see', 'our', 'election', 'victory', 'stolen', 'by', 'emboldened', 'radical-left', 'Democrats', ',', 'which', 'is', 'what', 'they', \"'re\", 'doing', '.', 'And', 'stolen', 'by', 'the', 'fake', 'news', 'media', '.', 'That', \"'s\", 'what', 'they', \"'ve\", 'done', 'and', 'what', 'they', \"'re\", 'doing', '.', 'We', 'will', 'never', 'give', 'up', ',', 'we', 'will', 'never', 'concede', '.', 'It', 'does', \"n't\", 'happen', '.', 'You', 'do', \"n't\", 'concede', 'when', 'there', \"'s\", 'theft', 'involved', '.', 'Our', 'country', 'has', 'had', 'enough', '.', 'We', 'will', 'not', 'take', 'it', 'anymore', 'and', 'that', \"'s\", 'what', 'this', 'is', 'all', 'about', '.', 'And', 'to', 'use', 'a', 'favorite', 'term', 'that', 'all', 'of', 'you', 'people', 'really', 'came', 'up', 'with', ':', 'We', 'will', 'stop', 'the', 'steal', '.', 'Today', 'I', 'will', 'lay', 'out', 'just', 'some', 'of', 'the', 'evidence', 'proving', 'that', 'we', 'won', 'this', 'election', 'and', 'we', 'won', 'it', 'by', 'a', 'landslide', '.', 'This', 'was', 'not', 'a', 'close', 'election', '.', 'You', 'know', ',', 'I', 'say', ',', 'sometimes', 'jokingly', ',', 'but', 'there', \"'s\", 'no', 'joke', 'about', 'it', ':', 'I', \"'ve\", 'been', 'in', 'two', 'elections', '.', 'I', 'won', 'them', 'both', 'and', 'the', 'second', 'one', ',', 'I', 'won', 'much', 'bigger', 'than', 'the', 'first', '.', 'OK', '.', 'Almost', '75', 'million', 'people', 'voted', 'for', 'our', 'campaign', ',', 'the', 'most', 'of', 'any', 'incumbent', 'president', 'by', 'far', 'in', 'the', 'history', 'of', 'our', 'country', ',', '12', 'million', 'more', 'people', 'than', 'four', 'years', 'ago', '.', 'And', 'I', 'was', 'told', 'by', 'the', 'real', 'pollsters', '—', 'we', 'do', 'have', 'real', 'pollsters', '—', 'they', 'know', 'that', 'we', 'were', 'going', 'to', 'do', 'well', 'and', 'we', 'were', 'going', 'to', 'win', '.', 'What', 'I', 'was', 'told', ',', 'if', 'I', 'went', 'from', '63', 'million', ',', 'which', 'we', 'had', 'four', 'years', 'ago', ',', 'to', '66', 'million', ',', 'there', 'was', 'no', 'chance', 'of', 'losing', '.', 'Well', ',', 'we', 'did', \"n't\", 'go', 'to', '66', ',', 'we', 'went', 'to', '75', 'million', ',', 'and', 'they', 'say', 'we', 'lost', '.', 'We', 'did', \"n't\", 'lose', '.', 'And', 'by', 'the', 'way', ',', 'does', 'anybody', 'believe', 'that', 'Joe', 'had', '80', 'million', 'votes', '?', 'Does', 'anybody', 'believe', 'that', '?', 'He', 'had', '80', 'million', 'computer', 'votes', '.', 'It', \"'s\", 'a', 'disgrace', '.', 'There', \"'s\", 'never', 'been', 'anything', 'like', 'that', '.', 'You', 'could', 'take', 'third-world', 'countries', '.', 'Just', 'take', 'a', 'look', '.', 'Take', 'third-world', 'countries', '.', 'Their', 'elections', 'are', 'more', 'honest', 'than', 'what', 'we', \"'ve\", 'been', 'going', 'through', 'in', 'this', 'country', '.', 'It', \"'s\", 'a', 'disgrace', '.', 'It', \"'s\", 'a', 'disgrace', '.', 'Even', 'when', 'you', 'look', 'at', 'last', 'night', '.', 'They', \"'re\", 'all', 'running', 'around', 'like', 'chickens', 'with', 'their', 'heads', 'cut', 'off', 'with', 'boxes', '.', 'Nobody', 'knows', 'what', 'the', 'hell', 'is', 'going', 'on', '.', 'There', \"'s\", 'never', 'been', 'anything', 'like', 'this', '.', 'We', 'will', 'not', 'let', 'them', 'silence', 'your', 'voices', '.', 'We', \"'re\", 'not', 'going', 'to', 'let', 'it', 'happen', ',', 'I', \"'m\", 'not', 'going', 'to', 'let', 'it', 'happen', '.', '(', 'Audience', 'chants', ':', '``', 'Fight', 'for', 'Trump', '.', \"''\", ')', 'Thank', 'you', '.', 'And', 'I', \"'d\", 'love', 'to', 'have', 'if', 'those', 'tens', 'of', 'thousands', 'of', 'people', 'would', 'be', 'allowed', '.', 'The', 'military', ',', 'the', 'secret', 'service', '.', 'And', 'we', 'want', 'to', 'thank', 'you', 'and', 'the', 'police', 'law', 'enforcement', '.', 'Great', '.', 'You', \"'re\", 'doing', 'a', 'great', 'job', '.', 'But', 'I', \"'d\", 'love', 'it', 'if', 'they', 'could', 'be', 'allowed', 'to', 'come', 'up', 'here', 'with', 'us', '.', 'Is', 'that', 'possible', '?', 'Can', 'you', 'just', 'let', 'him', 'come', 'up', ',', 'please', '?', 'And', 'Rudy', ',', 'you', 'did', 'a', 'great', 'job', '.', 'He', \"'s\", 'got', 'guts', '.', 'You', 'know', 'what', '?', 'He', \"'s\", 'got', 'guts', ',', 'unlike', 'a', 'lot', 'of', 'people', 'in', 'the', 'Republican', 'Party', '.', 'He', \"'s\", 'got', 'guts', '.', 'He', 'fights', ',', 'he', 'fights', '.', 'And', 'I', \"'ll\", 'tell', 'you', '.', 'Thank', 'you', 'very', 'much', ',', 'John', '.', 'Fantastic', 'job', '.', 'I', 'watched', '.', 'That', \"'s\", 'a', 'tough', 'act', 'to', 'follow', ',', 'those', 'two', '.', 'John', 'is', 'one', 'of', 'the', 'most', 'brilliant', 'lawyers', 'in', 'the', 'country', ',', 'and', 'he', 'looked', 'at', 'this', 'and', 'he', 'said', ',', '``', 'What', 'an', 'absolute', 'disgrace', 'that', 'this', 'can', 'be', 'happening', 'to', 'our', 'Constitution', '.', \"''\", 'And', 'he', 'looked', 'at', 'Mike', 'Pence', ',', 'and', 'I', 'hope', 'Mike', 'is', 'going', 'to', 'do', 'the', 'right', 'thing', '.', 'I', 'hope', 'so', '.', 'I', 'hope', 'so', '.', 'Because', 'if', 'Mike', 'Pence', 'does', 'the', 'right', 'thing', ',', 'we', 'win', 'the', 'election', '.', 'All', 'he', 'has', 'to', 'do', ',', 'all', 'this', 'is', ',', 'this', 'is', 'from', 'the', 'number', 'one', ',', 'or', 'certainly', 'one', 'of', 'the', 'top', ',', 'Constitutional', 'lawyers', 'in', 'our', 'country', '.', 'He', 'has', 'the', 'absolute', 'right', 'to', 'do', 'it', '.', 'We', \"'re\", 'supposed', 'to', 'protect', 'our', 'country', ',', 'support', 'our', 'country', ',', 'support', 'our', 'Constitution', ',', 'and', 'protect', 'our', 'constitution', '.', 'States', 'want', 'to', 'revote', '.', 'The', 'states', 'got', 'defrauded', '.', 'They', 'were', 'given', 'false', 'information', '.', 'They', 'voted', 'on', 'it', '.', 'Now', 'they', 'want', 'to', 'recertify', '.', 'They', 'want', 'it', 'back', '.', 'All', 'Vice', 'President', 'Pence', 'has', 'to', 'do', 'is', 'send', 'it', 'back', 'to', 'the', 'states', 'to', 'recertify', 'and', 'we', 'become', 'president', 'and', 'you', 'are', 'the', 'happiest', 'people', '.', 'And', 'I', 'actually', ',', 'I', 'just', 'spoke', 'to', 'Mike', '.', 'I', 'said', ':', '``', 'Mike', ',', 'that', 'does', \"n't\", 'take', 'courage', '.', 'What', 'takes', 'courage', 'is', 'to', 'do', 'nothing', '.', 'That', 'takes', 'courage', '.', \"''\", 'And', 'then', 'we', \"'re\", 'stuck', 'with', 'a', 'president', 'who', 'lost', 'the', 'election', 'by', 'a', 'lot', 'and', 'we', 'have', 'to', 'live', 'with', 'that', 'for', 'four', 'more', 'years', '.', 'We', \"'re\", 'just', 'not', 'going', 'to', 'let', 'that', 'happen', '.', 'Many', 'of', 'you', 'have', 'traveled', 'from', 'all', 'across', 'the', 'nation', 'to', 'be', 'here', ',', 'and', 'I', 'want', 'to', 'thank', 'you', 'for', 'the', 'extraordinary', 'love', '.', 'That', \"'s\", 'what', 'it', 'is', '.', 'There', \"'s\", 'never', 'been', 'a', 'movement', 'like', 'this', ',', 'ever', ',', 'ever', '.', 'For', 'the', 'extraordinary', 'love', 'for', 'this', 'amazing', 'country', ',', 'and', 'this', 'amazing', 'movement', ',', 'thank', 'you', '.', '(', 'Audience', 'chants', ':', '``', 'We', 'love', 'Trump', '.', \"''\", ')', 'By', 'the', 'way', ',', 'this', 'goes', 'all', 'the', 'way', 'back', 'past', 'the', 'Washington', 'Monument', '.', 'You', 'believe', 'this', '?', 'Look', 'at', 'this', '.', 'That', 'is', '.', 'Unfortunately', 'gave', ',', 'they', 'gave', 'the', 'press', 'the', 'prime', 'seats', '.', 'I', 'ca', \"n't\", 'stand', 'that', '.', 'No', '.', 'But', 'you', 'look', 'at', 'that', 'behind', '.', 'I', 'wish', 'they', \"'d\", 'flip', 'those', 'cameras', 'and', 'look', 'behind', 'you', '.', 'That', 'is', 'the', 'most', 'amazing', 'sight', '.', 'When', 'they', 'make', 'a', 'mistake', ',', 'you', 'get', 'to', 'see', 'it', 'on', 'television', '.', 'Amazing', '.', 'Amazing', '.', 'All', 'the', 'way', 'back', '.', 'And', 'do', \"n't\", 'worry', ',', 'we', 'will', 'not', 'take', 'the', 'name', 'off', 'the', 'Washington', 'Monument', '.', 'We', 'will', 'not', 'cancel', 'culture', '.', 'You', 'know', 'they', 'wanted', 'to', 'get', 'rid', 'of', 'the', 'Jefferson', 'Memorial', '.', 'Either', 'take', 'it', 'down', 'or', 'just', 'put', 'somebody', 'else', 'in', 'there', '.', 'I', 'do', \"n't\", 'think', 'that', \"'s\", 'going', 'to', 'happen', '.', 'It', 'damn', 'well', 'better', 'not', '.', 'Although', ',', 'with', 'this', 'administration', ',', 'if', 'this', 'happens', ',', 'it', 'could', 'happen', '.', 'You', \"'ll\", 'see', 'some', 'really', 'bad', 'things', 'happen', '.', 'They', \"'ll\", 'knock', 'out', 'Lincoln', 'too', ',', 'by', 'the', 'way', '.', 'They', \"'ve\", 'been', 'taking', 'his', 'statue', 'down', '.', 'But', 'then', 'we', 'signed', 'a', 'little', 'law', '.', 'You', 'hurt', 'our', 'monuments', ',', 'you', 'hurt', 'our', 'heroes', ',', 'you', 'go', 'to', 'jail', 'for', '10', 'years', ',', 'and', 'everything', 'stopped', '.', 'You', 'notice', 'that', '?', 'It', 'stopped', '.', 'It', 'all', 'stopped', '.', 'And', 'they', 'could', 'use', 'Rudy', 'back', 'in', 'New', 'York', 'City', '.', 'Rudy', '.', 'They', 'could', 'use', 'you', '.', 'Your', 'city', \"'s\", 'going', 'to', 'hell', '.', 'They', 'want', 'Rudy', 'Giuliani', 'back', 'in', 'New', 'York', '.', 'We', \"'ll\", 'get', 'a', 'little', 'younger', 'version', 'of', 'Rudy', '.', 'Is', 'that', 'OK', ',', 'Rudy', '?', 'We', \"'re\", 'gathered', 'together', 'in', 'the', 'heart', 'of', 'our', 'nation', \"'s\", 'capital', 'for', 'one', 'very', ',', 'very', 'basic', 'and', 'simple', 'reason', ':', 'To', 'save', 'our', 'democracy', '.', 'You', 'know', 'most', 'candidates', 'on', 'election', 'evening', 'and', ',', 'of', 'course', ',', 'this', 'thing', 'goes', 'on', 'so', 'long', '.', 'They', 'still', 'do', \"n't\", 'have', 'any', 'idea', 'what', 'the', 'votes', 'are', '.', 'We', 'still', 'have', 'congressional', 'seats', 'under', 'review', '.', 'They', 'have', 'no', 'idea', '.', 'They', \"'ve\", 'totally', 'lost', 'control', '.', 'They', \"'ve\", 'used', 'the', 'pandemic', 'as', 'a', 'way', 'of', 'defrauding', 'the', 'people', 'in', 'a', 'proper', 'election', '.', 'But', 'you', 'know', ',', 'you', 'know', ',', 'when', 'you', 'see', 'this', 'and', 'when', 'you', 'see', 'what', \"'s\", 'happening', '.', 'Number', 'one', ',', 'they', 'all', 'say', ',', '``', 'Sir', ',', 'we', \"'ll\", 'never', 'let', 'it', 'happen', 'again', '.', \"''\", 'I', 'said', ',', '``', 'That', \"'s\", 'good', '.', 'But', 'what', 'about', 'eight', 'weeks', 'ago', '?', \"''\", 'You', 'know', 'they', 'try', 'and', 'get', 'you', 'to', 'go', '.', 'They', 'said', ',', '``', 'Sir', ',', 'in', 'four', 'years', ',', 'you', \"'re\", 'guaranteed', '.', \"''\", 'I', 'said', ':', '``', 'I', \"'m\", 'not', 'interested', 'right', 'now', '.', 'Do', 'me', 'a', 'favor', ',', 'go', 'back', 'eight', 'weeks', '.', 'I', 'want', 'to', 'go', 'back', 'eight', 'weeks', '.', 'Let', \"'s\", 'go', 'back', 'eight', 'weeks', '.', \"''\", 'We', 'want', 'to', 'go', 'back', 'and', 'we', 'want', 'to', 'get', 'this', 'right', 'because', 'we', \"'re\", 'going', 'to', 'have', 'somebody', 'in', 'there', 'that', 'should', 'not', 'be', 'in', 'there', 'and', 'our', 'country', 'will', 'be', 'destroyed', 'and', 'we', \"'re\", 'not', 'going', 'to', 'stand', 'for', 'that', '.', 'For', 'years', ',', 'Democrats', 'have', 'gotten', 'away', 'with', 'election', 'fraud', 'and', 'weak', 'Republicans', '.', 'And', 'that', \"'s\", 'what', 'they', 'are', '.', 'There', \"'s\", 'so', 'many', 'weak', 'Republicans', '.', 'And', 'we', 'have', 'great', 'ones', '.', 'Jim', 'Jordan', 'and', 'some', 'of', 'these', 'guys', ',', 'they', \"'re\", 'out', 'there', 'fighting', '.', 'The', 'House', 'guys', 'are', 'fighting', '.', 'But', 'it', \"'s\", ',', 'it', \"'s\", 'incredible', '.', 'Many', 'of', 'the', 'Republicans', ',', 'I', 'helped', 'them', 'get', 'in', ',', 'I', 'helped', 'them', 'get', 'elected', '.', 'I', 'helped', 'Mitch', 'get', 'elected', '.', 'I', 'helped', '.', 'I', 'could', 'name', '24', 'of', 'them', ',', 'let', \"'s\", 'say', ',', 'I', 'wo', \"n't\", 'bore', 'you', 'with', 'it', '.', 'And', 'then', 'all', 'of', 'a', 'sudden', 'you', 'have', 'something', 'like', 'this', '.', 'It', \"'s\", 'like', ',', '``', 'Oh', 'gee', ',', 'maybe', 'I', \"'ll\", 'talk', 'to', 'the', 'president', 'sometime', 'later', '.', \"''\", 'No', ',', 'it', \"'s\", 'amazing', '.', 'They', \"'re\", 'weak', 'Republicans', ',', 'they', \"'re\", 'pathetic', 'Republicans', 'and', 'that', \"'s\", 'what', 'happens', '.', 'If', 'this', 'happened', 'to', 'the', 'Democrats', ',', 'there', \"'d\", 'be', 'hell', 'all', 'over', 'the', 'country', 'going', 'on', '.', 'There', \"'d\", 'be', 'hell', 'all', 'over', 'the', 'country', '.', 'But', 'just', 'remember', 'this', ':', 'You', \"'re\", 'stronger', ',', 'you', \"'re\", 'smarter', ',', 'you', \"'ve\", 'got', 'more', 'going', 'than', 'anybody', '.', 'And', 'they', 'try', 'and', 'demean', 'everybody', 'having', 'to', 'do', 'with', 'us', '.', 'And', 'you', \"'re\", 'the', 'real', 'people', ',', 'you', \"'re\", 'the', 'people', 'that', 'built', 'this', 'nation', '.', 'You', \"'re\", 'not', 'the', 'people', 'that', 'tore', 'down', 'our', 'nation', '.', 'The', 'weak', 'Republicans', ',', 'and', 'that', \"'s\", 'it', '.', 'I', 'really', 'believe', 'it', '.', 'I', 'think', 'I', \"'m\", 'going', 'to', 'use', 'the', 'term', ',', 'the', 'weak', 'Republicans', '.', 'You', \"'ve\", 'got', 'a', 'lot', 'of', 'them', '.', 'And', 'you', 'got', 'a', 'lot', 'of', 'great', 'ones', '.', 'But', 'you', 'got', 'a', 'lot', 'of', 'weak', 'ones', '.', 'They', \"'ve\", 'turned', 'a', 'blind', 'eye', ',', 'even', 'as', 'Democrats', 'enacted', 'policies', 'that', 'chipped', 'away', 'our', 'jobs', ',', 'weakened', 'our', 'military', ',', 'threw', 'open', 'our', 'borders', 'and', 'put', 'America', 'last', '.', 'Did', 'you', 'see', 'the', 'other', 'day', 'where', 'Joe', 'Biden', 'said', ',', 'I', 'want', 'to', 'get', 'rid', 'of', 'the', 'America', 'First', 'policy', '?', 'What', \"'s\", 'that', 'all', 'about', '?', 'Get', 'rid', 'of', '.', 'How', 'do', 'you', 'say', 'I', 'want', 'to', 'get', 'rid', 'of', 'America', 'First', '?', 'Even', 'if', 'you', \"'re\", 'going', 'to', 'do', 'it', ',', 'do', \"n't\", 'talk', 'about', 'it', ',', 'right', '?', 'Unbelievable', 'what', 'we', 'have', 'to', 'go', 'through', '.', 'What', 'we', 'have', 'to', 'go', 'through', '.', 'And', 'you', 'have', 'to', 'get', 'your', 'people', 'to', 'fight', '.', 'And', 'if', 'they', 'do', \"n't\", 'fight', ',', 'we', 'have', 'to', 'primary', 'the', 'hell', 'out', 'of', 'the', 'ones', 'that', 'do', \"n't\", 'fight', '.', 'You', 'primary', 'them', '.', 'We', \"'re\", 'going', 'to', '.', 'We', \"'re\", 'going', 'to', 'let', 'you', 'know', 'who', 'they', 'are', '.', 'I', 'can', 'already', 'tell', 'you', ',', 'frankly', '.', 'But', 'this', 'year', ',', 'using', 'the', 'pretext', 'of', 'the', 'China', 'virus', 'and', 'the', 'scam', 'of', 'mail-in', 'ballots', ',', 'Democrats', 'attempted', 'the', 'most', 'brazen', 'and', 'outrageous', 'election', 'theft', 'and', 'there', \"'s\", 'never', 'been', 'anything', 'like', 'this', '.', 'So', 'pure', 'theft', 'in', 'American', 'history', '.', 'Everybody', 'knows', 'it', '.', 'That', 'election', ',', 'our', 'election', 'was', 'over', 'at', '10', \"o'clock\", 'in', 'the', 'evening', '.', 'We', \"'re\", 'leading', 'Pennsylvania', ',', 'Michigan', ',', 'Georgia', ',', 'by', 'hundreds', 'of', 'thousands', 'of', 'votes', '.', 'And', 'then', 'late', 'in', 'the', 'evening', ',', 'or', 'early', 'in', 'the', 'morning', ',', 'boom', ',', 'these', 'explosions', 'of', 'bull', '*', '*', '*', '*', '.', 'And', 'all', 'of', 'a', 'sudden', '.', 'All', 'of', 'a', 'sudden', 'it', 'started', 'to', 'happen', '.', '(', 'Audience', 'chants', ':', '``', 'Bull', '*', '*', '*', '*', '.', \"''\", ')', 'Do', \"n't\", 'forget', 'when', 'Romney', 'got', 'beat', '.', 'Romney', ',', 'hey', '.', 'Did', 'you', 'see', 'his', '?', 'I', 'wonder', 'if', 'he', 'enjoyed', 'his', 'flight', 'in', 'last', 'night', '.', 'But', 'when', 'Romney', 'got', 'beaten', ',', 'you', 'know', ',', 'he', 'stands', 'up', 'like', 'you', \"'re\", 'more', 'typical', ',', '``', 'Well', ',', 'I', \"'d\", 'like', 'to', 'congratulate', 'the', 'victor', '.', \"''\", 'The', 'victor', '?', 'Who', 'is', 'the', 'victor', ',', 'Mitt', '?', '``', 'I', \"'d\", 'like', 'to', 'congratulate', '.', \"''\", 'They', 'do', \"n't\", 'go', 'and', 'look', 'at', 'the', 'facts', '.', 'No', ',', 'I', 'do', \"n't\", 'know', '.', 'He', 'got', ',', 'he', 'got', 'slaughtered', '.', 'Probably', ',', 'maybe', 'it', 'was', 'OK', ',', 'maybe', 'it', 'was', '.', 'But', 'that', \"'s\", 'what', 'happened', '.', 'But', 'we', 'look', 'at', 'the', 'facts', 'and', 'our', 'election', 'was', 'so', 'corrupt', 'that', 'in', 'the', 'history', 'of', 'this', 'country', 'we', \"'ve\", 'never', 'seen', 'anything', 'like', 'it', '.', 'You', 'can', 'go', 'all', 'the', 'way', 'back', '.', 'You', 'know', ',', 'America', 'is', 'blessed', 'with', 'elections', '.', 'All', 'over', 'the', 'world', 'they', 'talk', 'about', 'our', 'elections', '.', 'You', 'know', 'what', 'the', 'world', 'says', 'about', 'us', 'now', '?', 'They', 'said', ',', 'we', 'do', \"n't\", 'have', 'free', 'and', 'fair', 'elections', '.', 'And', 'you', 'know', 'what', 'else', '?', 'We', 'do', \"n't\", 'have', 'a', 'free', 'and', 'fair', 'press', '.', 'Our', 'media', 'is', 'not', 'free', ',', 'it', \"'s\", 'not', 'fair', '.', 'It', 'suppresses', 'thought', ',', 'it', 'suppresses', 'speech', 'and', 'it', \"'s\", 'become', 'the', 'enemy', 'of', 'the', 'people', '.', 'It', \"'s\", 'become', 'the', 'enemy', 'of', 'the', 'people', '.', 'It', \"'s\", 'the', 'biggest', 'problem', 'we', 'have', 'in', 'this', 'country', '.', 'No', 'third-world', 'countries', 'would', 'even', 'attempt', 'to', 'do', 'what', 'we', 'caught', 'them', 'doing', '.', 'And', 'you', \"'ll\", 'hear', 'about', 'that', 'in', 'just', 'a', 'few', 'minutes', '.', 'Republicans', 'are', ',', 'Republicans', 'are', 'constantly', 'fighting', 'like', 'a', 'boxer', 'with', 'his', 'hands', 'tied', 'behind', 'his', 'back', '.', 'It', \"'s\", 'like', 'a', 'boxer', '.', 'And', 'we', 'want', 'to', 'be', 'so', 'nice', '.', 'We', 'want', 'to', 'be', 'so', 'respectful', 'of', 'everybody', ',', 'including', 'bad', 'people', '.', 'And', 'we', \"'re\", 'going', 'to', 'have', 'to', 'fight', 'much', 'harder', '.', 'And', 'Mike', 'Pence', 'is', 'going', 'to', 'have', 'to', 'come', 'through', 'for', 'us', ',', 'and', 'if', 'he', 'does', \"n't\", ',', 'that', 'will', 'be', 'a', ',', 'a', 'sad', 'day', 'for', 'our', 'country', 'because', 'you', \"'re\", 'sworn', 'to', 'uphold', 'our', 'Constitution', '.', 'Now', ',', 'it', 'is', 'up', 'to', 'Congress', 'to', 'confront', 'this', 'egregious', 'assault', 'on', 'our', 'democracy', '.', 'And', 'after', 'this', ',', 'we', \"'re\", 'going', 'to', 'walk', 'down', ',', 'and', 'I', \"'ll\", 'be', 'there', 'with', 'you', ',', 'we', \"'re\", 'going', 'to', 'walk', 'down', ',', 'we', \"'re\", 'going', 'to', 'walk', 'down', '.', 'Anyone', 'you', 'want', ',', 'but', 'I', 'think', 'right', 'here', ',', 'we', \"'re\", 'going', 'to', 'walk', 'down', 'to', 'the', 'Capitol', ',', 'and', 'we', \"'re\", 'going', 'to', 'cheer', 'on', 'our', 'brave', 'senators', 'and', 'congressmen', 'and', 'women', ',', 'and', 'we', \"'re\", 'probably', 'not', 'going', 'to', 'be', 'cheering', 'so', 'much', 'for', 'some', 'of', 'them', '.', 'Because', 'you', \"'ll\", 'never', 'take', 'back', 'our', 'country', 'with', 'weakness', '.', 'You', 'have', 'to', 'show', 'strength', 'and', 'you', 'have', 'to', 'be', 'strong', '.', 'We', 'have', 'come', 'to', 'demand', 'that', 'Congress', 'do', 'the', 'right', 'thing', 'and', 'only', 'count', 'the', 'electors', 'who', 'have', 'been', 'lawfully', 'slated', ',', 'lawfully', 'slated', '.', 'I', 'know', 'that', 'everyone', 'here', 'will', 'soon', 'be', 'marching', 'over', 'to', 'the', 'Capitol', 'building', 'to', 'peacefully', 'and', 'patriotically', 'make', 'your', 'voices', 'heard', '.', 'Today', 'we', 'will', 'see', 'whether', 'Republicans', 'stand', 'strong', 'for', 'integrity', 'of', 'our', 'elections', '.', 'But', 'whether', 'or', 'not', 'they', 'stand', 'strong', 'for', 'our', 'country', ',', 'our', 'country', '.', 'Our', 'country', 'has', 'been', 'under', 'siege', 'for', 'a', 'long', 'time', '.', 'Far', 'longer', 'than', 'this', 'four-year', 'period', '.', 'We', \"'ve\", 'set', 'it', 'on', 'a', 'much', 'greater', 'course', '.', 'So', 'much', ',', 'and', 'we', ',', 'I', 'thought', ',', 'you', 'know', ',', 'four', 'more', 'years', '.', 'I', 'thought', 'it', 'would', 'be', 'easy', '.', 'We', \"'ve\", 'created', 'the', 'greatest', 'economy', 'in', 'history', '.', 'We', 'rebuilt', 'our', 'military', '.', 'We', 'get', 'you', 'the', 'biggest', 'tax', 'cuts', 'in', 'history', '.', 'Right', '?', 'We', 'got', 'you', 'the', 'biggest', 'regulation', 'cuts', '.', 'There', \"'s\", 'no', 'president', ',', 'whether', 'it', \"'s\", 'four', 'years', ',', 'eight', 'years', 'or', 'in', 'one', 'case', 'more', ',', 'got', 'anywhere', 'near', 'the', 'regulation', 'cuts', '.', 'Used', 'to', 'take', '20', 'years', 'to', 'get', 'a', 'highway', 'approved', ',', 'now', 'we', \"'re\", 'down', 'to', 'two', '.', 'I', 'want', 'to', 'get', 'it', 'down', 'to', 'one', ',', 'but', 'we', \"'re\", 'down', 'to', 'two', '.', 'And', 'it', 'may', 'get', 'rejected', 'for', 'environmental', 'or', 'safety', 'reasons', ',', 'but', 'we', 'got', 'it', 'down', 'to', 'safety', '.', 'We', 'created', 'Space', 'Force', ',', 'We', ',', 'we', ',', 'we', '.', 'Look', 'at', 'what', 'we', 'did', '.', 'Our', 'military', 'has', 'been', 'totally', 'rebuilt', '.', 'So', 'we', 'create', 'Space', 'Force', 'which', ',', 'by', 'and', 'of', 'itself', ',', 'is', 'a', 'major', 'achievement', 'for', 'an', 'administration', '.', 'And', 'with', 'us', 'it', \"'s\", 'one', 'of', 'so', 'many', 'different', 'things', '.', 'Right', 'to', 'Try', '.', 'Everybody', 'know', 'about', 'Right', 'to', 'Try', '.', 'We', 'did', 'things', 'that', 'nobody', 'ever', 'thought', 'possible', '.', 'We', 'took', 'care', 'of', 'our', 'vets', ',', 'our', 'vets', '.', 'The', 'VA', 'now', 'has', 'the', 'highest', 'rating', ',', '91', '%', '.', 'The', 'highest', 'rating', 'that', 'it', \"'s\", 'had', 'from', 'the', 'beginning', ',', '91', '%', 'approval', 'rating', '.', 'Always', ',', 'you', 'watch', 'the', 'VA', ',', 'it', 'was', 'on', 'television', 'every', 'night', ',', 'people', 'living', 'in', 'a', 'horrible', ',', 'horrible', 'manner', '.', 'We', 'got', 'that', 'done', '.', 'We', 'got', 'accountability', 'done', '.', 'We', 'got', 'it', 'so', 'that', 'now', 'in', 'the', 'VA', ',', 'you', 'do', \"n't\", 'have', 'to', 'wait', 'for', 'four', 'weeks', ',', 'six', 'weeks', ',', 'eight', 'weeks', ',', 'four', 'months', 'to', 'see', 'a', 'doctor', '.', 'If', 'you', 'ca', \"n't\", 'get', 'a', 'doctor', ',', 'you', 'go', 'outside', ',', 'you', 'get', 'the', 'doctor', '.', 'You', 'have', 'it', 'taken', 'care', 'of', 'and', 'we', 'pay', 'the', 'doctor', '.', 'And', 'we', \"'ve\", 'not', 'only', 'made', 'life', 'wonderful', 'for', 'so', 'many', 'people', ',', 'we', \"'ve\", 'saved', 'tremendous', 'amounts', 'of', 'money', ',', 'far', 'secondarily', ',', 'but', 'we', \"'ve\", 'saved', 'a', 'lot', 'of', 'money', '.', 'And', 'now', 'we', 'have', 'the', 'right', 'to', 'fire', 'bad', 'people', 'in', 'the', 'VA.', 'We', 'had', '9,000', 'people', 'that', 'treated', 'our', 'veterans', 'horribly', '.', 'In', 'primetime', ',', 'they', 'would', 'not', 'have', 'treated', 'our', 'veterans', 'badly', '.', 'But', 'they', 'treated', 'our', 'veterans', 'horribly', '.', 'And', 'we', 'have', 'what', \"'s\", 'called', 'the', 'account', ',', 'VA', 'Accountability', 'Act', '.', 'And', 'the', 'accountability', 'says', 'if', 'we', 'see', 'somebody', 'in', 'there', 'that', 'does', \"n't\", 'treat', 'our', 'vets', 'well', 'or', 'they', 'steal', ',', 'they', 'rob', ',', 'they', 'do', 'things', 'badly', ',', 'we', 'say', ':', '``', 'Joe', 'you', \"'re\", 'fired', '.', 'Get', 'out', 'of', 'here', '.', \"''\", 'Before', 'you', 'could', \"n't\", 'do', 'that', '.', 'You', 'could', \"n't\", 'do', 'that', 'before', '.', 'So', 'we', \"'ve\", 'taken', 'care', 'of', 'things', ',', 'we', \"'ve\", 'done', 'things', 'like', 'nobody', \"'s\", 'ever', 'thought', 'possible', '.', 'And', 'that', \"'s\", 'part', 'of', 'the', 'reason', 'that', 'many', 'people', 'do', \"n't\", 'like', 'us', ',', 'because', 'we', \"'ve\", 'done', 'too', 'much', '.', 'But', 'we', \"'ve\", 'done', 'it', 'quickly', 'and', 'we', 'were', 'going', 'to', 'sit', 'home', 'and', 'watch', 'a', 'big', 'victory', 'and', 'everybody', 'had', 'us', 'down', 'for', 'a', 'victory', '.', 'It', 'was', 'going', 'to', 'be', 'great', 'and', 'now', 'we', \"'re\", 'out', 'here', 'fighting', '.', 'I', 'said', 'to', 'somebody', ',', 'I', 'was', 'going', 'to', 'take', 'a', 'few', 'days', 'and', 'relax', 'after', 'our', 'big', 'electoral', 'victory', '.', '10', \"o'clock\", 'it', 'was', 'over', '.', 'But', 'I', 'was', 'going', 'to', 'take', 'a', 'few', 'days', '.', 'And', 'I', 'can', 'say', 'this', '.', 'Since', 'our', 'election', ',', 'I', 'believe', ',', 'which', 'was', 'such', 'a', 'catastrophe', ',', 'when', 'I', 'watch', '.', 'And', 'even', 'these', 'guys', 'knew', 'what', 'happened', '.', 'They', 'know', 'what', 'happened', '.', 'They', \"'re\", 'saying', ':', '``', 'Wow', ',', 'Pennsylvania', \"'s\", 'insurmountable', '.', 'Wow', ',', 'Wisconsin', '.', \"''\", 'Look', 'at', 'the', 'big', 'leads', 'we', 'had', ',', 'right', '.', 'Even', 'though', 'the', 'press', 'said', 'we', 'would', 'lose', 'Wisconsin', 'by', '17', 'points', '.', 'Even', 'though', 'the', 'press', 'said', ',', 'Ohio', \"'s\", 'going', 'to', 'be', 'close', ',', 'we', 'set', 'a', 'record', ';', 'Florida', \"'s\", 'going', 'to', 'be', 'close', ',', 'we', 'set', 'a', 'record', ';', 'Texas', 'is', 'going', 'to', 'be', 'close', ',', 'Texas', 'is', 'going', 'to', 'be', 'close', ',', 'we', 'set', 'a', 'record', '.', 'And', 'we', 'set', 'a', 'record', 'with', 'Hispanic', ',', 'with', 'the', 'Black', 'community', ',', 'we', 'set', 'a', 'record', 'with', 'everybody', '.', 'Today', 'we', 'see', 'a', 'very', 'important', 'event', 'though', '.', 'Because', 'right', 'over', 'there', ',', 'right', 'there', ',', 'we', 'see', 'the', 'event', 'going', 'to', 'take', 'place', '.', 'And', 'I', \"'m\", 'going', 'to', 'be', 'watching', '.', 'Because', 'history', 'is', 'going', 'to', 'be', 'made', '.', 'We', \"'re\", 'going', 'to', 'see', 'whether', 'or', 'not', 'we', 'have', 'great', 'and', 'courageous', 'leaders', ',', 'or', 'whether', 'or', 'not', 'we', 'have', 'leaders', 'that', 'should', 'be', 'ashamed', 'of', 'themselves', 'throughout', 'history', ',', 'throughout', 'eternity', 'they', \"'ll\", 'be', 'ashamed', '.', 'And', 'you', 'know', 'what', '?', 'If', 'they', 'do', 'the', 'wrong', 'thing', ',', 'we', 'should', 'never', ',', 'ever', 'forget', 'that', 'they', 'did', '.', 'Never', 'forget', '.', 'We', 'should', 'never', 'ever', 'forget', '.', 'With', 'only', 'three', 'of', 'the', 'seven', 'states', 'in', 'question', ',', 'we', 'win', 'the', 'presidency', 'of', 'the', 'United', 'States', '.', 'And', 'by', 'the', 'way', ',', 'it', \"'s\", 'much', 'more', 'important', 'today', 'than', 'it', 'was', '24', 'hours', 'ago', ',', 'because', 'I', 'do', \"n't\", '.', 'I', 'spoke', 'to', 'David', 'Perdue', ',', 'what', 'a', 'great', 'person', ',', 'and', 'Kelly', 'Loeffler', ',', 'two', 'great', 'people', ',', 'but', 'it', 'was', 'a', 'setup', '.', 'And', 'you', 'know', ',', 'I', 'said', ',', '``', 'We', 'have', 'no', 'backline', 'anymore', '.', \"''\", 'The', 'only', 'backline', ',', 'the', 'only', 'line', 'of', 'demarcation', ',', 'the', 'only', 'line', 'that', 'we', 'have', 'is', 'the', 'veto', 'of', 'the', 'president', 'of', 'the', 'United', 'States', '.', 'So', 'this', 'is', 'now', ',', 'what', 'we', \"'re\", 'doing', ',', 'a', 'far', 'more', 'important', 'election', 'than', 'it', 'was', 'two', 'days', 'ago', '.', 'I', 'want', 'to', 'thank', 'the', 'more', 'than', '140', 'members', 'of', 'the', 'House', '.', 'Those', 'are', 'warriors', '.', 'They', \"'re\", 'over', 'there', 'working', 'like', 'you', \"'ve\", 'never', 'seen', 'before', '.', 'Studying', ',', 'talking', ',', 'actually', 'going', 'all', 'the', 'way', 'back', ',', 'studying', 'the', 'roots', 'of', 'the', 'Constitution', ',', 'because', 'they', 'know', 'we', 'have', 'the', 'right', 'to', 'send', 'a', 'bad', 'vote', 'that', 'was', 'illegally', 'gotten', '.', 'They', 'gave', 'these', 'people', 'bad', 'things', 'to', 'vote', 'for', 'and', 'they', 'voted', 'because', 'what', 'did', 'they', 'know', '?', 'And', 'then', 'when', 'they', 'found', 'out', 'a', 'few', 'weeks', 'later', ',', 'again', ',', 'it', 'took', 'them', 'four', 'years', 'to', 'devise', 'this', 'screen', '.', 'And', 'the', 'only', 'unhappy', 'person', 'in', 'the', 'United', 'States', ',', 'single', 'most', 'unhappy', ',', 'is', 'Hillary', 'Clinton', '.', 'Because', 'she', 'said', ':', '``', 'Why', 'did', \"n't\", 'you', 'do', 'this', 'for', 'me', 'four', 'years', 'ago', '?', 'Why', 'did', \"n't\", 'you', 'do', 'this', 'for', 'me', 'four', 'years', 'ago', '?', 'Change', 'the', 'votes', ',', '10,000', 'in', 'Michigan', '.', 'You', 'could', 'have', 'changed', 'the', 'whole', 'thing', '.', \"''\", 'But', 'she', \"'s\", 'not', 'too', 'happy', '.', 'You', 'know', ',', 'you', 'do', \"n't\", 'see', 'her', 'anymore', '.', 'What', 'happened', '?', 'Where', \"'s\", 'Hillary', '?', 'Where', 'is', 'she', '?', 'But', 'I', 'want', 'to', 'thank', 'all', 'of', 'those', 'congressmen', 'and', 'women', '.', 'I', 'also', 'want', 'to', 'thank', 'our', '13', ',', 'most', 'courageous', 'members', 'of', 'the', 'U.S.', 'Senate', '.', 'Senator', 'Ted', 'Cruz', ',', 'Senator', 'Ron', 'Johnson', ',', 'Senator', 'Josh', 'Hawley', ',', 'Kelly', 'Loeffler', '.', 'And', 'Kelly', 'Loeffler', ',', 'I', \"'ll\", 'tell', 'you', ',', 'she', 'has', 'been', ',', 'she', \"'s\", 'been', 'so', 'great', '.', 'She', 'worked', 'so', 'hard', '.', 'So', 'let', \"'s\", 'give', 'her', 'and', 'David', 'a', 'little', 'special', 'hand', 'because', 'it', 'was', 'rigged', 'against', 'them', '.', 'Let', \"'s\", 'give', 'her', 'and', 'David', '.', 'Kelly', 'Loeffler', ',', 'David', 'Purdue', '.', 'They', 'fought', 'a', 'good', 'race', '.', 'They', 'never', 'had', 'a', 'shot', '.', 'That', 'equipment', 'should', 'never', 'have', 'been', 'allowed', 'to', 'be', 'used', ',', 'and', 'I', 'was', 'telling', 'these', 'people', 'do', \"n't\", 'let', 'him', 'use', 'this', 'stuff', '.', 'Marsha', 'Blackburn', ',', 'terrific', 'person', '.', 'Mike', 'Braun', ',', 'Indiana', '.', 'Steve', 'Daines', ',', 'great', 'guy', '.', 'Bill', 'Hagerty', ',', 'John', 'Kennedy', ',', 'James', 'Lankford', ',', 'Cynthia', 'Lummis', ',', 'Tommy', 'Tuberville', ',', 'the', 'coach', ',', 'and', 'Roger', 'Marshall', '.', 'We', 'want', 'to', 'thank', 'them', '.', 'Senators', 'that', 'stepped', 'up', ',', 'we', 'want', 'to', 'thank', 'them', '.', 'I', 'actually', 'think', 'though', ',', 'it', 'takes', ',', 'again', ',', 'more', 'courage', 'not', 'to', 'step', 'up', ',', 'and', 'I', 'think', 'a', 'lot', 'of', 'those', 'people', 'are', 'going', 'to', 'find', 'that', 'out', 'and', 'you', 'better', 'start', 'looking', 'at', 'your', 'leadership', ',', 'because', 'your', 'leadership', 'has', 'led', 'you', 'down', 'the', 'tubes', '.', 'You', 'know', ',', 'we', 'do', \"n't\", 'want', 'to', 'give', '$', '2,000', 'to', 'people', '.', 'We', 'want', 'to', 'give', 'them', '$', '600', '.', 'Oh', ',', 'great', '.', 'How', 'does', 'that', 'play', 'politically', '?', 'Pretty', 'good', '?', 'And', 'this', 'has', 'nothing', 'to', 'do', 'with', 'politics', ',', 'but', 'how', 'does', 'it', 'play', 'politically', '?', 'China', 'destroyed', 'these', 'people', '.', 'We', 'did', \"n't\", 'destroy', '.', 'China', 'destroy', 'them', ',', 'totally', 'destroyed', 'them', '.', 'We', 'want', 'to', 'give', 'them', '$', '600', 'and', 'they', 'just', 'would', \"n't\", 'change', '.', 'I', 'said', 'give', 'them', '$', '2,000', ',', 'we', \"'ll\", 'pay', 'it', 'back', '.', 'We', \"'ll\", 'pay', 'it', 'back', 'fast', '.', 'You', 'already', 'owe', '26', 'trillion', ',', 'give', 'them', 'a', 'couple', 'of', 'bucks', '.', 'Let', 'them', 'live', '.', 'Give', 'them', 'a', 'couple', 'of', 'bucks', '.', 'And', 'some', 'of', 'the', 'people', 'here', 'disagree', 'with', 'me', 'on', 'that', ',', 'but', 'I', 'just', 'say', ',', '``', 'Look', ',', 'you', \"'ve\", 'got', 'to', 'let', 'people', 'live', '.', \"''\", 'And', 'how', 'does', 'that', 'play', 'though', '?', 'OK', '.', 'Number', 'one', ',', 'it', \"'s\", 'the', 'right', 'thing', 'to', 'do', '.', 'But', 'how', 'does', 'that', 'play', 'politically', '?', 'I', 'think', 'it', \"'s\", 'the', 'primary', 'reason', ',', 'one', 'of', 'the', 'primary', 'reasons', ',', 'the', 'other', 'was', 'just', 'pure', 'cheating', '.', 'That', 'was', 'the', 'primary', ',', 'super', 'primary', 'reason', '.', 'But', 'you', 'ca', \"n't\", 'do', 'that', ',', 'you', 'got', 'to', 'use', 'your', 'head', '.', 'As', 'you', 'know', ',', 'the', 'media', 'has', 'constantly', 'asserted', 'the', 'outrageous', 'lie', 'that', 'there', 'was', 'no', 'evidence', 'of', 'widespread', 'fraud', '.', 'Have', 'you', 'ever', 'seen', 'these', 'people', '?', 'While', 'there', 'is', 'no', 'evidence', 'of', 'fraud', '.', 'Oh', ',', 'really', '?', 'Well', ',', 'I', \"'m\", 'going', 'to', 'read', 'you', 'pages', '.', 'I', 'hope', 'you', 'do', \"n't\", 'get', 'bored', 'listening', 'to', 'it', '.', 'Promise', '?', 'Do', \"n't\", 'get', 'bored', 'listening', 'to', 'it', ',', 'all', 'those', 'hundreds', 'of', 'thousands', 'of', 'people', 'back', 'there', '.', 'Move', 'them', 'up', ',', 'please', ',', 'yeah', '.', 'All', 'they', ',', 'all', 'these', 'people', ',', 'do', \"n't\", 'get', 'bored', ',', 'do', \"n't\", 'get', 'angry', 'at', 'me', 'because', 'you', \"'re\", 'going', 'to', 'get', 'bored', 'because', 'it', \"'s\", 'so', 'much', '.', 'The', 'American', 'people', 'do', 'not', 'believe', 'the', 'corrupt', ',', 'fake', 'news', 'anymore', '.', 'They', 'have', 'ruined', 'their', 'reputation', '.', 'But', 'you', 'know', ',', 'it', 'used', 'to', 'be', 'that', 'they', \"'d\", 'argue', 'with', 'me', '.', 'I', \"'d\", 'fight', '.', 'So', 'I', \"'d\", 'fight', ',', 'they', \"'d\", 'fight', ',', 'I', \"'d\", 'fight', ',', 'they', \"'d\", 'fight', '.', 'Pop', 'pop', '.', 'You', \"'d\", 'believe', 'me', ',', 'you', \"'d\", 'believe', 'them', '.', 'Somebody', 'comes', 'out', '.', 'You', 'know', ',', 'they', 'had', 'their', 'point', 'of', 'view', ',', 'I', 'had', 'my', 'point', 'of', 'view', ',', 'but', 'you', \"'d\", 'have', 'an', 'argument', '.', 'Now', 'what', 'they', 'do', 'is', 'they', 'go', 'silent', '.', 'It', \"'s\", 'called', 'suppression', 'and', 'that', \"'s\", 'what', 'happens', 'in', 'a', 'communist', 'country', '.', 'That', \"'s\", 'what', 'they', 'do', ',', 'they', 'suppress', '.', 'You', 'do', \"n't\", 'fight', 'with', 'them', 'anymore', '.', 'Unless', 'it', \"'s\", 'a', 'bad', 'story', '.', 'They', 'have', 'a', 'little', 'bad', 'story', 'about', 'me', ',', 'they', 'make', 'it', '10', 'times', 'worse', 'and', 'it', \"'s\", 'a', 'major', 'headline', '.', 'But', 'Hunter', 'Biden', ',', 'they', 'do', \"n't\", 'talk', 'about', 'him', '.', 'What', 'happened', 'to', 'Hunter', '?', 'Where', \"'s\", 'Hunter', '?', 'Where', \"'s\", 'Hunter', '?', 'They', 'do', \"n't\", 'talk', 'about', 'him', '.', 'They', \"'ll\", 'watch', ',', 'all', 'the', 'sets', 'will', 'go', 'off', '.', 'Well', ',', 'they', 'ca', \"n't\", 'do', 'that', 'because', 'they', 'get', 'good', 'ratings', '.', 'Their', 'ratings', 'are', 'too', 'good', '.', 'Now', ',', 'where', \"'s\", 'Hunter', '?', 'You', 'know', '.', 'And', 'how', 'come', 'Joe', 'is', 'allowed', 'to', 'give', 'a', 'billion', 'dollars', 'of', 'money', 'to', 'get', 'rid', 'of', 'the', 'prosecutor', 'in', 'Ukraine', '?', 'How', 'does', 'that', 'happen', '?', 'I', \"'d\", 'ask', 'you', 'that', 'question', '.', 'How', 'does', 'that', 'happen', '?', 'Can', 'you', 'imagine', 'if', 'I', 'said', 'that', '?', 'If', 'I', 'said', 'that', 'it', 'would', 'be', 'a', 'whole', 'different', 'ballgame', '.', 'And', 'how', 'come', 'Hunter', 'gets', 'three', 'and', 'a', 'half', 'million', 'dollars', 'from', 'the', 'mayor', 'of', 'Moscow', \"'s\", 'wife', ',', 'and', 'gets', 'hundreds', 'of', 'thousands', 'of', 'dollars', 'to', 'sit', 'on', 'an', 'energy', 'board', ',', 'even', 'though', 'he', 'admits', 'he', 'has', 'no', 'knowledge', 'of', 'energy', '?', 'And', 'millions', 'of', 'dollars', 'up', 'front', '.', 'And', 'how', 'come', 'they', 'go', 'into', 'China', 'and', 'they', 'leave', 'with', 'billions', 'of', 'dollars', 'to', 'manage', '.', '``', 'Have', 'you', 'managed', 'money', 'before', '?', \"''\", '``', 'No', ',', 'I', 'have', \"n't\", '.', \"''\", '``', 'Oh', ',', 'that', \"'s\", 'good', '.', 'Here', \"'s\", 'about', '3', 'billion', '.', \"''\", 'No', ',', 'they', 'do', \"n't\", 'talk', 'about', 'that', '.', 'No', ',', 'we', 'have', 'a', 'corrupt', 'media', '.', 'They', \"'ve\", 'gone', 'silent', '.', 'They', \"'ve\", 'gone', 'dead', '.', 'I', 'now', 'realize', 'how', 'good', 'it', 'was', 'if', 'you', 'go', 'back', '10', 'years', ',', 'I', 'realized', 'how', 'good', ',', 'even', 'though', 'I', 'did', \"n't\", 'necessarily', 'love', 'them', ',', 'I', 'realized', 'how', 'good', '.', 'It', 'was', 'like', 'a', 'cleansing', 'motion', ',', 'right', '?', 'But', 'we', 'do', \"n't\", 'have', 'that', 'anymore', '.', 'We', 'do', \"n't\", 'have', 'a', 'fair', 'media', 'anymore', '.', 'It', \"'s\", 'suppression', '.', 'And', 'you', 'have', 'to', 'be', 'very', 'careful', 'with', 'that', 'and', 'they', \"'ve\", 'lost', 'all', 'credibility', 'in', 'this', 'country', '.', 'We', 'will', 'not', 'be', 'intimidated', 'into', 'accepting', 'the', 'hoaxes', 'and', 'the', 'lies', 'that', 'we', \"'ve\", 'been', 'forced', 'to', 'believe', '.', 'Over', 'the', 'past', 'several', 'weeks', ',', 'we', \"'ve\", 'amassed', 'overwhelming', 'evidence', 'about', 'a', 'fake', 'election', '.', 'This', 'is', 'the', 'presidential', 'election', '.', 'Last', 'night', 'was', 'a', 'little', 'bit', 'better', 'because', 'of', 'the', 'fact', 'that', 'we', 'had', 'a', 'lot', 'of', 'eyes', 'watching', 'one', 'specific', 'state', ',', 'but', 'they', 'cheated', 'like', 'hell', 'anyway', '.', 'You', 'have', 'one', 'of', 'the', 'dumbest', 'governors', 'in', 'the', 'United', 'States', '.', 'And', 'you', 'know', 'when', 'I', 'endorsed', 'him', ',', 'and', 'I', 'did', \"n't\", 'know', 'this', 'guy', ',', 'at', 'the', 'request', 'of', 'David', 'Perdue', ',', 'he', 'said', ',', '``', 'Friend', 'of', 'mine', \"'s\", 'running', 'for', 'governor', '.', \"''\", '``', 'What', \"'s\", 'his', 'name', '?', \"''\", 'And', 'you', 'know', 'the', 'rest', '.', 'He', 'was', 'in', 'fourth', 'place', ',', 'fifth', 'place', '.', 'I', 'do', \"n't\", 'know', ',', 'he', 'was', ',', 'he', 'was', 'doing', 'poorly', '.', 'I', 'endorse', 'him', ',', 'he', 'went', 'like', 'a', 'rocket', 'ship', 'and', 'he', 'won', '.', 'And', 'then', 'I', 'had', 'to', 'beat', 'Stacey', 'Abrams', 'with', 'this', 'guy', ',', 'Brian', 'Kemp', '.', 'I', 'had', 'to', 'beat', 'Stacey', 'Abrams', '.', 'And', 'I', 'had', 'to', 'beat', 'Oprah', ',', 'used', 'to', 'be', 'a', 'friend', 'of', 'mine', '.', 'You', 'know', ',', 'I', 'was', 'on', 'her', 'last', 'show', ',', 'her', 'last', 'week', ',', 'she', 'picked', 'the', 'five', 'outstanding', 'people', '.', 'I', 'do', \"n't\", 'think', 'she', 'thinks', 'that', 'any', 'more', '.', 'Once', 'I', 'ran', 'for', 'president', ',', 'I', 'did', \"n't\", 'notice', 'there', 'were', 'too', 'many', 'calls', 'coming', 'in', 'from', 'Oprah', '.', 'Believe', 'it', 'or', 'not', ',', 'she', 'used', 'to', 'like', 'me', '.', 'But', 'I', 'was', 'one', 'of', 'the', 'five', 'outstanding', 'people', '.', 'And', 'I', 'had', 'a', 'campaign', 'against', 'Michelle', 'Obama', 'and', 'Barack', 'Hussein', 'Obama', ',', 'against', 'Stacey', '.', 'And', 'I', 'had', 'Brian', 'Kemp', ',', 'who', 'weighs', '130', 'pounds', '.', 'He', 'said', 'he', 'played', 'offensive', 'line', 'in', 'football', '.', 'I', \"'m\", 'trying', 'to', 'figure', 'that', 'out', '.', 'I', \"'m\", 'still', 'trying', 'to', 'figure', 'that', 'out', '.', 'He', 'said', 'that', 'the', 'other', 'night', ',', '``', 'I', 'was', 'an', 'offensive', 'lineman', '.', \"''\", 'I', \"'m\", 'saying', ':', '``', 'Really', '?', 'That', 'must', 'have', 'been', 'a', 'very', 'small', 'team', '.', \"''\", 'But', 'I', 'look', 'at', 'that', 'and', 'I', 'look', 'at', 'what', \"'s\", 'happened', 'and', 'he', 'turned', 'out', 'to', 'be', 'a', 'disaster', '.', 'This', 'stuff', 'happens', '.', 'You', 'know', ',', 'look', ',', 'I', \"'m\", 'not', 'happy', 'with', 'the', 'Supreme', 'Court', '.', 'They', 'love', 'to', 'rule', 'against', 'me', '.', 'I', 'picked', 'three', 'people', '.', 'I', 'fought', 'like', 'hell', 'for', 'them', '.', 'One', 'in', 'particular', ',', 'I', 'fought', '.', 'They', 'all', 'said', ',', '``', 'Sir', ',', 'cut', 'him', 'loose', '.', \"''\", 'He', \"'s\", 'killing', 'the', 'senators', '.', 'You', 'know', ',', 'very', 'loyal', 'senators', ',', 'they', \"'re\", 'very', 'loyal', 'people', ',', '``', 'Sir', ',', 'cut', 'him', 'loose', ',', 'he', \"'s\", 'killing', 'us', ',', 'sir', ',', 'cut', 'him', 'loose', '.', \"''\", 'I', 'must', 'have', 'gotten', 'half', 'of', 'the', 'senators', '.', 'I', 'said', ':', '``', 'No', ',', 'I', 'ca', \"n't\", 'do', 'that', ',', 'it', \"'s\", 'unfair', 'to', 'him', 'and', 'it', \"'s\", 'unfair', 'to', 'the', 'family', '.', 'He', 'did', \"n't\", 'do', 'anything', 'wrong', '.', \"''\", 'They', 'made', 'up', 'stories', ',', 'they', \"'re\", 'all', 'made-up', 'stories', '.', 'He', 'did', \"n't\", 'do', 'anything', 'wrong', '.', '``', 'Cut', 'him', 'loose', ',', 'sir', '.', \"''\", 'I', 'said', ',', '``', 'No', ',', 'I', 'wo', \"n't\", 'do', 'that', '.', 'We', 'got', 'him', 'through', '.', \"''\", 'And', 'you', 'know', 'what', ',', 'they', 'could', \"n't\", 'give', 'a', 'damn', '.', 'They', 'could', \"n't\", 'give', 'a', 'damn', '.', 'Let', 'him', 'rule', 'the', 'right', 'way', '.', 'But', 'it', 'almost', 'seems', 'that', 'they', \"'re\", 'all', 'going', 'out', 'of', 'their', 'way', 'to', 'hurt', 'all', 'of', 'us', 'and', 'to', 'hurt', 'our', 'country', '.', 'To', 'hurt', 'our', 'country', '.', 'You', 'know', ',', 'I', 'read', 'a', 'story', 'in', 'one', 'of', 'the', 'newspapers', 'recently', 'how', 'I', 'control', 'the', 'three', 'Supreme', 'Court', 'justices', '.', 'I', 'control', 'them', '.', 'They', \"'re\", 'puppets', '.', 'I', 'read', 'it', 'about', 'Bill', 'Barr', ',', 'that', 'he', \"'s\", 'my', 'personal', 'attorney', '.', 'That', 'he', \"'ll\", 'do', 'anything', 'for', 'me', '.', 'And', 'I', 'said', ',', '``', 'You', 'know', ',', 'it', 'really', 'is', 'genius', '.', \"''\", 'Because', 'what', 'they', 'do', 'is', 'that', ',', 'and', 'it', 'makes', 'it', 'really', 'impossible', 'for', 'them', 'to', 'ever', 'give', 'you', 'a', 'victory', ',', 'because', 'all', 'of', 'a', 'sudden', 'Bill', 'Barr', 'changed', '.', 'If', 'you', 'had', \"n't\", 'noticed', '.', 'I', 'like', 'Bill', 'Barr', ',', 'but', 'he', 'changed', ',', 'because', 'he', 'did', \"n't\", 'want', 'to', 'be', 'considered', 'my', 'personal', 'attorney', '.', 'And', 'the', 'Supreme', 'Court', ',', 'they', 'rule', 'against', 'me', 'so', 'much', '.', 'You', 'know', 'why', '?', 'Because', 'the', 'story', 'is', '—', 'I', 'have', \"n't\", 'spoken', 'to', 'any', 'of', 'them', ',', 'any', 'of', 'them', ',', 'since', 'virtually', 'they', 'got', 'in', '—', 'but', 'the', 'story', 'is', 'that', 'they', \"'re\", 'my', 'puppets', '.', 'Right', '?', 'That', 'they', \"'re\", 'puppets', '.', 'And', 'now', 'the', 'only', 'way', 'they', 'can', 'get', 'out', 'of', 'that', 'because', 'they', 'hate', 'that', 'it', \"'s\", 'not', 'good', 'in', 'the', 'social', 'circuit', '.', 'And', 'the', 'only', 'way', 'they', 'get', 'out', 'is', 'to', 'rule', 'against', 'Trump', '.', 'So', 'let', \"'s\", 'rule', 'against', 'Trump', '.', 'And', 'they', 'do', 'that', '.', 'So', 'I', 'want', 'to', 'congratulate', 'them', '.', 'But', 'it', 'shows', 'you', 'the', 'media', \"'s\", 'genius', '.', 'In', 'fact', ',', 'probably', 'if', 'I', 'was', 'the', 'media', ',', 'I', \"'d\", 'do', 'it', 'the', 'same', 'way', '.', 'I', 'hate', 'to', 'say', 'it', '.', 'But', 'we', 'got', 'to', 'get', 'them', 'straightened', 'out', '.', 'Today', ',', 'for', 'the', 'sake', 'of', 'our', 'democracy', ',', 'for', 'the', 'sake', 'of', 'our', 'Constitution', ',', 'and', 'for', 'the', 'sake', 'of', 'our', 'children', ',', 'we', 'lay', 'out', 'the', 'case', 'for', 'the', 'entire', 'world', 'to', 'hear', '.', 'You', 'want', 'to', 'hear', 'it', '?', '(', 'Audience', 'responds', ':', '``', 'Yeah', \"''\", ')', 'In', 'every', 'single', 'swing', 'state', ',', 'local', 'officials', ',', 'state', 'officials', ',', 'almost', 'all', 'Democrats', ',', 'made', 'illegal', 'and', 'unconstitutional', 'changes', 'to', 'election', 'procedures', 'without', 'the', 'mandated', 'approvals', 'by', 'the', 'state', 'legislatures', '.', 'That', 'these', 'changes', 'paved', 'a', 'way', 'for', 'fraud', 'on', 'a', 'scale', 'never', 'seen', 'before', '.', 'I', 'think', 'we', 'go', 'a', 'long', 'way', 'outside', 'of', 'our', 'country', 'when', 'I', 'say', 'that', '.', 'So', ',', 'just', 'in', 'a', 'nutshell', ',', 'you', 'ca', \"n't\", 'make', 'a', 'change', 'or', 'voting', 'for', 'a', 'federal', 'election', 'unless', 'the', 'state', 'legislature', 'approves', 'it', '.', 'No', 'judge', 'can', 'do', 'it', '.', 'Nobody', 'can', 'do', 'it', '.', 'Only', 'a', 'legislature', '.', 'So', 'as', 'an', 'example', ',', 'in', 'Pennsylvania', ',', 'or', 'whatever', ',', 'you', 'have', 'a', 'Republican', 'legislature', ',', 'you', 'have', 'a', 'Democrat', 'mayor', ',', 'and', 'you', 'have', 'a', 'lot', 'of', 'Democrats', 'all', 'over', 'the', 'place', '.', 'They', 'go', 'to', 'the', 'legislature', '.', 'The', 'legislature', 'laughs', 'at', 'them', ',', 'says', 'we', \"'re\", 'not', 'going', 'to', 'do', 'that', '.', 'They', 'say', ',', 'thank', 'you', 'very', 'much', 'and', 'they', 'go', 'and', 'make', 'the', 'changes', 'themselves', ',', 'they', 'do', 'it', 'anyway', '.', 'And', 'that', \"'s\", 'totally', 'illegal', '.', 'That', \"'s\", 'totally', 'illegal', '.', 'You', 'ca', \"n't\", 'do', 'that', '.', 'In', 'Pennsylvania', ',', 'the', 'Democrat', 'secretary', 'of', 'state', 'and', 'the', 'Democrat', 'state', 'Supreme', 'Court', 'justices', 'illegally', 'abolished', 'the', 'signature', 'verification', 'requirements', 'just', '11', 'days', 'prior', 'to', 'the', 'election', '.', 'So', 'think', 'of', 'what', 'they', 'did', '.', 'No', 'longer', 'is', 'there', 'signature', 'verification', '.', 'Oh', ',', 'that', \"'s\", 'OK.', 'We', 'want', 'voter', 'ID', 'by', 'the', 'way', '.', 'But', 'no', 'longer', 'is', 'there', 'a', 'signature', 'verification', '.', 'Eleven', 'days', 'before', 'the', 'election', 'they', 'say', 'we', 'do', \"n't\", 'want', 'it', '.', 'You', 'know', 'why', 'they', 'do', \"n't\", 'want', 'to', '?', 'Because', 'they', 'want', 'to', 'cheat', '.', 'That', \"'s\", 'the', 'only', 'reason', '.', 'Who', 'would', 'even', 'think', 'of', 'that', '?', 'We', 'do', \"n't\", 'want', 'to', 'verify', 'a', 'signature', '?', 'There', 'were', 'over', '205,000', 'more', 'ballots', 'counted', 'in', 'Pennsylvania', '.', 'Think', 'of', 'this', ',', 'you', 'had', '205,000', 'more', 'ballots', 'than', 'you', 'had', 'voters', '.', 'That', 'means', 'you', 'had', 'two', '.', 'Where', 'did', 'they', 'come', 'from', '?', 'You', 'know', 'where', 'they', 'came', 'from', '?', 'Somebody', \"'s\", 'imagination', ',', 'whatever', 'they', 'needed', '.', 'So', 'in', 'Pennsylvania', ',', 'you', 'had', '205,000', 'more', 'votes', 'than', 'you', 'had', 'voters', '.', 'And', 'the', 'number', 'is', 'actually', 'much', 'greater', 'than', 'that', 'now', '.', 'That', 'was', 'as', 'of', 'a', 'week', 'ago', '.', 'And', 'this', 'is', 'a', 'mathematical', 'impossibility', 'unless', 'you', 'want', 'to', 'say', 'it', \"'s\", 'a', 'total', 'fraud', '.', 'So', 'Pennsylvania', 'was', 'defrauded', '.', 'Over', '8,000', 'ballots', 'in', 'Pennsylvania', 'were', 'cast', 'by', 'people', 'whose', 'names', 'and', 'dates', 'of', 'birth', 'match', 'individuals', 'who', 'died', 'in', '2020', 'and', 'prior', 'to', 'the', 'election', '.', 'Think', 'of', 'that', '.', 'Dead', 'people', ',', 'lots', 'of', 'dead', 'people', ',', 'thousands', '.', 'And', 'some', 'dead', 'people', 'actually', 'requested', 'an', 'application', '.', 'That', 'bothers', 'me', 'even', 'more', '.', 'Not', 'only', 'are', 'they', 'voting', ',', 'they', 'want', 'an', 'application', 'to', 'vote', '.', 'One', 'of', 'them', 'was', '29', 'years', 'ago', ',', 'died', '.', 'It', \"'s\", 'incredible', '.', 'Over', '14,000', 'ballots', 'were', 'cast', 'by', 'out-of-state', 'voters', ',', 'so', 'these', 'are', 'voters', 'that', 'do', \"n't\", 'live', 'in', 'this', 'state', '.', 'And', 'by', 'the', 'way', ',', 'these', 'numbers', 'are', 'what', 'they', 'call', 'outcome-determinative', ',', 'meaning', 'these', 'numbers', 'far', 'surpass', '.', 'I', 'lost', 'by', 'a', 'very', 'little', 'bit', '.', 'These', 'numbers', 'are', 'massive', ',', 'massive', '.', 'More', 'than', '10,000', 'votes', 'in', 'Pennsylvania', 'were', 'illegally', 'counted', ',', 'even', 'though', 'they', 'were', 'received', 'after', 'Election', 'Day', '.', 'In', 'other', 'words', ',', 'they', 'were', 'received', 'after', 'Election', 'Day', '.', 'Let', \"'s\", 'count', 'them', 'anyway', '.', 'And', 'what', 'they', 'did', 'in', 'many', 'cases', 'is', ',', 'they', 'did', 'fraud', '.', 'They', 'took', 'the', 'date', 'and', 'they', 'moved', 'it', 'back', 'so', 'that', 'it', 'no', 'longer', 'is', 'after', 'Election', 'Day', '.', 'And', 'more', 'than', '60,000', 'ballots', 'in', 'Pennsylvania', 'were', 'reported', 'received', 'back', '.', 'They', 'got', 'back', 'before', 'they', 'were', 'ever', 'supposedly', 'mailed', 'out', '.', 'In', 'other', 'words', ',', 'you', 'got', 'the', 'ballot', 'back', 'before', 'you', 'mailed', 'it', ',', 'which', 'is', 'also', 'logically', 'and', 'logistically', 'impossible', ',', 'right', '?', 'Think', 'of', 'that', 'one', '.', 'You', 'got', 'the', 'ballot', 'back', '.', 'Let', \"'s\", 'send', 'the', 'ballots', '.', 'Oh', ',', 'they', \"'ve\", 'already', 'been', 'sent', '.', 'But', 'we', 'got', 'the', 'ballot', 'back', 'before', 'they', 'were', 'sent', '.', 'I', 'do', \"n't\", 'think', 'that', \"'s\", 'too', 'good', ',', 'right', '?', 'Twenty-five', 'thousand', 'ballots', 'in', 'Pennsylvania', 'were', 'requested', 'by', 'nursing', 'home', 'residents', ',', 'all', 'in', 'a', 'single', 'giant', 'batch', ',', 'not', 'legal', ',', 'indicating', 'an', 'enormous', ',', 'illegal', 'ballot', 'harvesting', 'operation', '.', 'You', \"'re\", 'not', 'allowed', 'to', 'do', 'it', ',', 'it', \"'s\", 'against', 'the', 'law', '.', 'The', 'day', 'before', 'the', 'election', ',', 'the', 'state', 'of', 'Pennsylvania', 'reported', 'the', 'number', 'of', 'absentee', 'ballots', 'that', 'had', 'been', 'sent', 'out', '.', 'Yet', 'this', 'number', 'was', 'suddenly', 'and', 'drastically', 'increased', 'by', '400,000', 'people', '.', 'It', 'was', 'increased', ',', 'nobody', 'knows', 'where', 'it', 'came', 'from', ',', 'by', '400,000', 'ballots', ',', 'one', 'day', 'after', 'the', 'election', '.', 'It', 'remains', 'totally', 'unexplained', '.', 'They', 'said', ',', '``', 'Well', ',', 'ah', ',', 'we', 'ca', \"n't\", 'figure', 'that', '.', \"''\", 'Now', ',', 'that', \"'s\", 'many', ',', 'many', 'times', 'what', 'it', 'would', 'take', 'to', 'overthrow', 'the', 'state', '.', 'Just', 'that', 'one', 'element', '.', 'Four', 'hundred', 'thousand', 'ballots', 'appeared', 'from', 'nowhere', 'right', 'after', 'the', 'election', '.', 'By', 'the', 'way', ',', 'Pennsylvania', 'has', 'now', 'seen', 'all', 'of', 'this', '.', 'They', 'did', \"n't\", 'know', 'because', 'it', 'was', 'so', 'quick', '.', 'They', 'had', 'a', 'vote', '.', 'They', 'voted', '.', 'But', 'now', 'they', 'see', 'all', 'this', 'stuff', ',', 'it', \"'s\", 'all', 'come', 'to', 'light', '.', 'Does', \"n't\", 'happen', 'that', 'fast', '.', 'And', 'they', 'want', 'to', 'recertify', 'their', 'votes', '.', 'They', 'want', 'to', 'recertify', '.', 'But', 'the', 'only', 'way', 'that', 'can', 'happen', 'is', 'if', 'Mike', 'Pence', 'agrees', 'to', 'send', 'it', 'back', '.', 'Mike', 'Pence', 'has', 'to', 'agree', 'to', 'send', 'it', 'back', '.', '(', 'Audience', 'chants', ':', '``', 'Send', 'it', 'back', '.', \"''\", ')', 'And', 'many', 'people', 'in', 'Congress', 'want', 'it', 'sent', 'back', '.', 'And', 'think', 'of', 'what', 'you', \"'re\", 'doing', '.', 'Let', \"'s\", 'say', 'you', 'do', \"n't\", 'do', 'it', '.', 'Somebody', 'says', ',', '``', 'Well', ',', 'we', 'have', 'to', 'obey', 'the', 'Constitution', '.', \"''\", 'And', 'you', 'are', ',', 'because', 'you', \"'re\", 'protecting', 'our', 'country', 'and', 'you', \"'re\", 'protecting', 'the', 'Constitution', '.', 'So', 'you', 'are', '.', 'But', 'think', 'of', 'what', 'happens', '.', 'Let', \"'s\", 'say', 'they', \"'re\", 'stiffs', 'and', 'they', \"'re\", 'stupid', 'people', ',', 'and', 'they', 'say', ',', 'well', ',', 'we', 'really', 'have', 'no', 'choice', '.', 'Even', 'though', 'Pennsylvania', 'and', 'other', 'states', 'want', 'to', 'redo', 'their', 'votes', '.', 'They', 'want', 'to', 'see', 'the', 'numbers', '.', 'They', 'already', 'have', 'the', 'numbers', '.', 'Go', 'very', 'quickly', '.', 'And', 'they', 'want', 'to', 'redo', 'their', 'legislature', 'because', 'many', 'of', 'these', 'votes', 'were', 'taken', ',', 'as', 'I', 'said', ',', 'because', 'it', 'was', \"n't\", 'approved', 'by', 'their', 'legislature', '.', 'You', 'know', ',', 'that', ',', 'in', 'itself', ',', 'is', 'legal', '.', 'And', 'then', 'you', 'have', 'the', 'scam', ',', 'and', 'that', \"'s\", 'all', 'of', 'the', 'things', 'that', 'we', \"'re\", 'talking', 'about', '.', 'But', 'think', 'of', 'this', '.', 'If', 'you', 'do', \"n't\", 'do', 'that', ',', 'that', 'means', 'you', 'will', 'have', 'a', 'president', 'of', 'the', 'United', 'States', 'for', 'four', 'years', ',', 'with', 'his', 'wonderful', 'son', '.', 'You', 'will', 'have', 'a', 'president', 'who', 'lost', 'all', 'of', 'these', 'states', '.', 'Or', 'you', 'will', 'have', 'a', 'president', ',', 'to', 'put', 'it', 'another', 'way', ',', 'who', 'was', 'voted', 'on', 'by', 'a', 'bunch', 'of', 'stupid', 'people', 'who', 'lost', 'all', 'of', 'these', 'states', '.', 'You', 'will', 'have', 'an', 'illegitimate', 'president', '.', 'That', \"'s\", 'what', 'you', \"'ll\", 'have', '.', 'And', 'we', 'ca', \"n't\", 'let', 'that', 'happen', '.', 'These', 'are', 'the', 'facts', 'that', 'you', 'wo', \"n't\", 'hear', 'from', 'the', 'fake', 'news', 'media', '.', 'It', \"'s\", 'all', 'part', 'of', 'the', 'suppression', 'effort', '.', 'They', 'do', \"n't\", 'want', 'to', 'talk', 'about', 'it', '.', 'They', 'do', \"n't\", 'want', 'to', 'talk', 'about', 'it', '.', 'In', 'fact', ',', 'when', 'I', 'started', 'talking', 'about', 'that', ',', 'I', 'guarantee', 'you', ',', 'a', 'lot', 'of', 'the', 'television', 'sets', 'and', 'a', 'lot', 'of', 'those', 'cameras', 'went', 'off', '.', 'And', 'that', \"'s\", 'a', 'lot', 'of', 'cameras', 'back', 'there', '.', 'But', 'a', 'lot', 'of', 'them', 'went', 'off', '.', 'But', 'these', 'are', 'the', 'things', 'you', 'do', \"n't\", 'hear', 'about', '.', 'You', 'do', \"n't\", 'hear', 'what', 'you', 'just', 'heard', '.', 'I', \"'m\", 'going', 'to', 'go', 'over', 'a', 'few', 'more', 'states', '.', 'But', 'you', 'do', \"n't\", 'hear', 'it', 'by', 'the', 'people', 'who', 'want', 'to', 'deceive', 'you', 'and', 'demoralize', 'you', 'and', 'control', 'you', '.', 'Big', 'tech', ',', 'media', '.', 'Just', 'like', 'the', 'suppression', 'polls', 'that', 'said', 'we', \"'re\", 'going', 'lose', 'Wisconsin', 'by', '17', 'points', '.', 'Well', ',', 'we', 'won', 'Wisconsin', '.', 'They', 'do', \"n't\", 'have', 'it', 'that', 'way', 'because', 'they', 'lost', 'just', 'by', 'a', 'little', 'sliver', '.', 'But', 'they', 'had', 'me', 'down', 'the', 'day', 'before', ',', 'Washington', 'Post/ABC', 'poll', ',', 'down', '17', 'points', '.', 'I', 'called', 'up', 'a', 'real', 'pollster', '.', 'I', 'said', ',', '``', 'What', 'is', 'that', '?', \"''\", '``', 'Sir', ',', 'that', \"'s\", 'called', 'a', 'suppression', 'poll', '.', 'I', 'think', 'you', \"'re\", 'going', 'to', 'win', 'Wisconsin', ',', 'sir', '.', \"''\", 'I', 'said', ',', '``', 'But', 'why', 'do', \"n't\", 'they', 'make', 'it', 'four', 'or', 'five', 'points', '?', \"''\", 'Because', 'then', 'people', 'vote', '.', 'But', 'when', 'you', \"'re\", 'down', '17', ',', 'they', 'say', ',', '``', 'Hey', ',', 'I', \"'m\", 'not', 'going', 'to', 'waste', 'my', 'time', '.', 'I', 'love', 'the', 'president', ',', 'but', 'there', \"'s\", 'no', 'way', '.', \"''\", 'Despite', 'that', ',', 'despite', 'that', ',', 'we', 'won', 'Wisconsin', '.', 'It', \"'s\", 'going', 'to', 'see', '.', 'I', 'mean', ',', 'you', \"'ll\", 'see', '.', 'But', 'that', \"'s\", 'called', 'suppression', 'because', 'a', 'lot', 'of', 'people', 'when', 'they', 'see', 'that', '.', 'It', \"'s\", 'very', 'interesting', '.', 'This', 'pollster', 'said', ',', '``', 'Sir', ',', 'if', 'you', \"'re\", 'down', 'three', ',', 'four', ',', 'or', 'five', 'people', 'vote', '.', 'When', 'you', 'go', 'down', '17', ',', 'they', 'say', ',', \"'Let\", \"'s\", 'save', '.', 'Let', \"'s\", 'go', 'and', 'have', 'dinner', 'and', 'let', \"'s\", 'watch', 'the', 'presidential', 'defeat', 'tonight', 'on', 'television', ',', 'darling', '.', \"'\", \"''\", 'And', 'just', 'like', 'the', 'radical', 'left', 'tries', 'to', 'blacklist', 'you', 'on', 'social', 'media', '.', 'Every', 'time', 'I', 'put', 'out', 'a', 'tweet', ',', 'that', \"'s\", ',', 'even', 'if', 'it', \"'s\", 'totally', 'correct', ',', 'totally', 'correct', ',', 'I', 'get', 'a', 'flag', '.', 'I', 'get', 'a', 'flag', '.', 'And', 'they', 'also', 'do', \"n't\", 'let', 'you', 'get', 'out', '.', 'You', 'know', ',', 'on', 'Twitter', ',', 'it', \"'s\", 'very', 'hard', 'to', 'come', 'onto', 'my', 'account', '.', 'It', \"'s\", 'very', 'hard', 'to', 'get', 'out', 'a', 'message', '.', 'They', 'do', \"n't\", 'let', 'the', 'message', 'get', 'out', 'nearly', 'like', 'they', 'should', '.', 'But', 'I', \"'ve\", 'had', 'many', 'people', 'say', ',', '``', 'I', 'ca', \"n't\", 'get', 'on', 'your', 'Twitter', '.', \"''\", 'I', 'do', \"n't\", 'care', 'about', 'Twitter', '.', 'Twitter', \"'s\", 'bad', 'news', '.', 'They', \"'re\", 'all', 'bad', 'news', '.', 'But', 'you', 'know', 'what', ',', 'if', 'you', 'want', 'to', ',', 'if', 'you', 'want', 'to', 'get', 'out', 'a', 'message', 'and', 'if', 'you', 'want', 'to', 'go', 'through', 'Big', 'tech', ',', 'social', 'media', ',', 'they', 'are', 'really', ',', 'if', 'you', \"'re\", 'a', 'conservative', ',', 'if', 'you', \"'re\", 'a', 'Republican', ',', 'if', 'you', 'have', 'a', 'big', 'voice', ',', 'I', 'guess', 'they', 'call', 'it', 'shadow', 'banned', ',', 'right', '?', 'Shadow', 'banned', '.', 'They', 'shadow', 'ban', 'you', ',', 'and', 'it', 'should', 'be', 'illegal', '.', 'I', \"'ve\", 'been', 'telling', 'these', 'Republicans', ',', 'get', 'rid', 'of', 'Section', '230', '.', 'And', 'for', 'some', 'reason', ',', 'Mitch', 'and', 'the', 'group', ',', 'they', 'do', \"n't\", 'want', 'to', 'put', 'it', 'in', 'there', 'and', 'they', 'do', \"n't\", 'realize', 'that', 'that', \"'s\", 'going', 'to', 'be', 'the', 'end', 'of', 'the', 'Republican', 'Party', 'as', 'we', 'know', 'it', ',', 'but', 'it', \"'s\", 'never', 'going', 'to', 'be', 'the', 'end', 'of', 'us', '.', 'Never', '.', 'Let', 'them', 'get', 'out', '.', 'Let', ',', 'let', 'the', 'weak', 'ones', 'get', 'out', '.', 'This', 'is', 'a', 'time', 'for', 'strength', '.', 'They', 'also', 'want', 'to', 'indoctrinate', 'your', 'children', 'in', 'school', 'by', 'teaching', 'them', 'things', 'that', 'are', \"n't\", 'so', '.', 'They', 'want', 'to', 'indoctrinate', 'your', 'children', '.', 'It', \"'s\", 'all', 'part', 'of', 'the', 'comprehensive', 'assault', 'on', 'our', 'democracy', ',', 'and', 'the', 'American', 'people', 'are', 'finally', 'standing', 'up', 'and', 'saying', 'no', '.', 'This', 'crowd', 'is', ',', 'again', ',', 'a', 'testament', 'to', 'it', '.', 'I', 'did', 'no', 'advertising', ',', 'I', 'did', 'nothing', '.', 'You', 'do', 'have', 'some', 'groups', 'that', 'are', 'big', 'supporters', '.', 'I', 'want', 'to', 'thank', 'that', ',', 'Amy', ',', 'and', 'everybody', '.', 'We', 'have', 'some', 'incredible', 'supporters', ',', 'incredible', '.', 'But', 'we', 'did', \"n't\", 'do', 'anything', '.', 'This', 'just', 'happened', '.', 'Two', 'months', 'ago', ',', 'we', 'had', 'a', 'massive', 'crowd', 'come', 'down', 'to', 'Washington', '.', 'I', 'said', ',', '``', 'What', 'are', 'they', 'there', 'for', '?', \"''\", '``', 'Sir', ',', 'they', \"'re\", 'there', 'for', 'you', '.', \"''\", 'We', 'have', 'nothing', 'to', 'do', 'with', 'it', '.', 'These', 'groups', 'are', 'for', ',', 'they', \"'re\", 'forming', 'all', 'over', 'the', 'United', 'States', '.', 'And', 'we', 'got', 'to', 'remember', ',', 'in', 'a', 'year', 'from', 'now', ',', 'you', \"'re\", 'going', 'to', 'start', 'working', 'on', 'Congress', 'and', 'we', 'got', 'to', 'get', 'rid', 'of', 'the', 'weak', 'Congress', ',', 'people', ',', 'the', 'ones', 'that', 'are', \"n't\", 'any', 'good', ',', 'the', 'Liz', 'Cheneys', 'of', 'the', 'world', '.', 'We', 'got', 'to', 'get', 'rid', 'of', 'them', '.', 'We', 'got', 'to', 'get', 'rid', '.', 'You', 'know', ',', 'she', 'never', 'wants', 'a', 'soldier', 'brought', 'home', '—', 'I', 'brought', 'a', 'lot', 'of', 'our', 'soldiers', 'home', '.', 'I', 'do', \"n't\", 'know', ',', 'somewhat', 'like', 'it', '.', 'They', \"'re\", 'in', 'countries', 'that', 'nobody', 'even', 'knows', 'the', 'name', ',', 'nobody', 'knows', 'where', 'they', 'are', '.', 'They', \"'re\", 'dying', '.', 'They', \"'re\", 'great', ',', 'but', 'they', \"'re\", 'dying', '.', 'They', \"'re\", 'losing', 'their', 'arms', ',', 'their', 'legs', ',', 'their', 'face', '.', 'I', 'brought', 'them', 'back', 'home', ',', 'largely', 'back', 'home', '.', 'Afghanistan', ',', 'Iraq', '.', 'Remember', ',', 'I', 'used', 'to', 'say', 'in', 'the', 'old', 'days', ':', '``', 'Do', \"n't\", 'go', 'in', 'Iraq', '.', 'But', 'if', 'you', 'go', 'in', ',', 'keep', 'the', 'oil', '.', \"''\", 'We', 'did', \"n't\", 'keep', 'the', 'oil', '.', 'So', 'stupid', '.', 'So', 'stupid', 'these', 'people', '.', 'And', 'Iraq', 'has', 'billions', 'and', 'billions', 'of', 'dollars', 'now', 'in', 'the', 'bank', '.', 'And', 'what', 'did', 'we', 'do', '?', 'We', 'got', 'nothing', '.', 'We', 'never', 'get', '.', 'But', 'we', 'do', 'actually', ',', 'we', 'kept', 'the', 'oil', 'here', 'or', 'we', 'get', ',', 'we', 'did', 'good', '.', 'We', 'got', 'rid', 'of', 'the', 'ISIS', 'caliphate', '.', 'We', 'got', 'rid', 'of', 'plenty', 'of', 'different', 'things', 'that', 'everybody', 'knows', 'and', 'the', 'rebuilding', 'of', 'our', 'military', 'in', 'three', 'years', '.', 'People', 'said', 'it', 'could', \"n't\", 'be', 'done', '.', 'And', 'it', 'was', 'all', 'made', 'in', 'the', 'USA', ',', 'all', 'made', 'in', 'the', 'USA', ',', 'best', 'equipment', 'in', 'the', 'world', '.', 'In', 'Wisconsin', ',', 'corrupt', 'Democrat-run', 'cities', 'deployed', 'more', 'than', '500', 'illegal', ',', 'unmanned', ',', 'unsecured', 'drop', 'boxes', ',', 'which', 'collected', 'a', 'minimum', 'of', '91,000', 'unlawful', 'votes', '.', 'It', 'was', 'razor-thin', ',', 'the', 'loss', '.', 'This', 'one', 'thing', 'alone', 'is', 'much', 'more', 'than', 'we', 'would', 'need', '.', 'But', 'there', 'are', 'many', 'things', '.', 'They', 'have', 'these', 'lockboxes', '.', 'And', ',', 'you', 'know', ',', 'they', \"'d\", 'pick', 'them', 'up', 'and', 'they', 'disappear', 'for', 'two', 'days', '.', 'People', 'would', 'say', 'where', \"'s\", 'that', 'box', '?', 'They', 'disappeared', '.', 'Nobody', 'even', 'knew', 'where', 'the', 'hell', 'it', 'was', '.', 'In', 'addition', ',', 'over', '170,000', 'absentee', 'votes', 'were', 'counted', 'in', 'Wisconsin', 'without', 'a', 'valid', 'absentee', 'ballot', 'application', '.', 'So', 'they', 'had', 'a', 'vote', ',', 'but', 'they', 'had', 'no', 'application', ',', 'and', 'that', \"'s\", 'illegal', 'in', 'Wisconsin', '.', 'Meaning', 'those', 'votes', 'were', 'blatantly', 'done', 'in', 'opposition', 'to', 'state', 'law', 'and', 'they', 'came', '100', '%', 'from', 'Democrat', 'areas', 'such', 'as', 'Milwaukee', 'and', 'Madison', ',', '100', '%', '.', 'In', 'Madison', ',', '17,000', 'votes', 'were', 'deposited', 'in', 'so-called', 'human', 'drop', 'boxes', '.', 'You', 'know', 'what', 'that', 'is', ',', 'right', '?', 'Where', 'operatives', 'stuff', 'thousands', 'of', 'unsecured', 'ballots', 'into', 'duffle', 'bags', 'on', 'park', 'benches', 'across', 'the', 'city', ',', 'in', 'complete', 'defiance', 'of', 'cease-and-desist', 'letters', 'from', 'state', 'legislature', '.', 'Your', 'state', 'legislatures', 'said', 'do', \"n't\", 'do', 'it', '.', 'They', \"'re\", 'the', 'only', 'ones', 'that', 'can', 'approve', 'it', '.', 'They', 'gave', 'tens', 'of', 'thousands', 'of', 'votes', '.', 'They', 'came', 'in', 'in', 'duffle', 'bags', '.', 'Where', 'the', 'hell', 'did', 'they', 'come', 'from', '?', 'According', 'to', 'eyewitness', 'testimony', ',', 'Postal', 'Service', 'workers', 'in', 'Wisconsin', 'were', 'also', 'instructed', 'to', 'illegally', 'backdate', 'approximately', '100,000', 'ballots', '.', 'The', 'margin', 'of', 'difference', 'in', 'Wisconsin', 'was', 'less', 'than', '20,000', 'votes', '.', 'Each', 'one', 'of', 'these', 'things', 'alone', 'wins', 'us', 'the', 'state', '.', 'Great', 'state', '.', 'We', 'love', 'the', 'state', '.', 'We', 'won', 'the', 'state', '.', 'In', 'Georgia', ',', 'your', 'secretary', 'of', 'state', 'who', ',', 'I', 'ca', \"n't\", 'believe', 'this', 'guy', \"'s\", 'a', 'Republican', '.', 'He', 'loves', 'recording', 'telephone', 'conversations', '.', 'You', 'know', ',', 'that', 'was', '?', 'I', 'thought', 'it', 'was', 'a', 'great', 'conversation', 'personally', '.', 'So', 'did', 'a', 'lot', 'of', 'other', '.', 'People', 'love', 'that', 'conversation', 'because', 'it', 'says', 'what', \"'s\", 'going', 'on', '.', 'These', 'people', 'are', 'crooked', '.', 'They', \"'re\", '100', '%', ',', 'in', 'my', 'opinion', ',', 'one', 'of', 'the', 'most', 'corrupt', ',', 'between', 'your', 'governor', 'and', 'your', 'secretary', 'of', 'state', '.', 'And', 'now', 'you', 'have', 'it', 'again', 'last', 'night', '.', 'Just', 'take', 'a', 'look', 'at', 'what', 'happened', '.', 'What', 'a', 'mess', '.', 'And', 'the', 'Democrat', 'Party', 'operatives', 'entered', 'into', 'an', 'illegal', 'and', 'unconstitution', '—', 'unconstitutional', 'settlement', 'agreement', 'that', 'drastically', 'weakened', 'signature', 'verification', 'and', 'other', 'election', 'security', 'procedures', '.', 'Stacey', 'Abrams', '.', 'She', 'took', 'them', 'to', 'lunch', '.', 'And', 'I', 'beat', 'her', 'two', 'years', 'ago', 'with', 'a', 'bad', 'candidate', ',', 'Brian', 'Kemp', '.', 'But', 'they', 'took', ',', 'the', 'Democrats', 'took', 'the', 'Republicans', 'to', 'lunch', 'because', 'the', 'secretary', 'of', 'state', 'had', 'no', 'clue', 'what', 'the', 'hell', 'was', 'happening', '.', 'Unless', 'he', 'did', 'have', 'a', 'clue', '.', 'That', \"'s\", 'interesting', '.', 'Maybe', 'he', 'was', 'with', 'the', 'other', 'side', '.', 'But', 'we', \"'ve\", 'been', 'trying', 'to', 'get', 'verifications', 'of', 'signatures', 'in', 'Fulton', 'County', ',', 'they', 'wo', \"n't\", 'let', 'us', 'do', 'it', '.', 'The', 'only', 'reason', 'they', 'wo', \"n't\", 'is', 'because', 'we', \"'ll\", 'find', 'things', 'in', 'the', 'hundreds', 'of', 'thousands', '.', 'Why', 'would', \"n't\", 'they', 'let', 'us', 'verify', 'signatures', 'in', 'Fulton', 'County', ',', 'which', 'is', 'known', 'for', 'being', 'very', 'corrupt', '.', 'They', 'wo', \"n't\", 'do', 'it', '.', 'They', 'go', 'to', 'some', 'other', 'county', 'where', 'you', 'would', 'live', '.', 'I', 'said', ',', '``', 'That', \"'s\", 'not', 'the', 'problem', '.', \"''\", 'The', 'problem', 'is', 'Fulton', 'County', ',', 'home', 'of', 'Stacey', 'Abrams', '.', 'She', 'did', 'a', 'good', 'job', ',', 'I', 'congratulate', 'her', '.', 'But', 'it', 'was', 'done', 'in', 'such', 'a', 'way', 'that', 'we', 'ca', \"n't\", 'let', 'this', 'stuff', 'happen', '.', 'We', 'wo', \"n't\", 'have', 'a', 'country', 'if', 'it', 'happens', '.', 'As', 'a', 'result', ',', 'Georgia', \"'s\", 'absentee', 'ballot', 'rejection', 'rate', 'was', 'more', 'than', '10', 'times', 'lower', 'than', 'previous', 'levels', 'because', 'the', 'criteria', 'was', 'so', 'off', '.', 'Forty-eight', 'counties', 'in', 'Georgia', ',', 'with', 'thousands', 'and', 'thousands', 'of', 'votes', ',', 'rejected', 'zero', 'ballots', '.', 'There', 'was', \"n't\", 'one', 'ballot', '.', 'In', 'other', 'words', ',', 'in', 'a', 'year', 'in', 'which', 'more', 'mail-in', 'ballots', 'were', 'sent', 'than', 'ever', 'before', ',', 'and', 'more', 'people', 'were', 'voting', 'by', 'mail', 'for', 'the', 'first', 'time', ',', 'the', 'rejection', 'rate', 'was', 'drastically', 'lower', 'than', 'it', 'had', 'ever', 'been', 'before', '.', 'The', 'only', 'way', 'this', 'can', 'be', 'explained', 'is', 'if', 'tens', 'of', 'thousands', 'of', 'illegitimate', 'votes', 'were', 'added', 'to', 'the', 'tally', '.', 'That', \"'s\", 'the', 'only', 'way', 'you', 'could', 'explain', 'it', '.', 'By', 'the', 'way', ',', 'you', \"'re\", 'talking', 'about', 'tens', 'of', 'thousands', '.', 'If', 'Georgia', 'had', 'merely', 'rejected', 'the', 'same', 'number', 'of', 'unlawful', 'ballots', 'as', 'in', 'other', 'years', ',', 'they', 'should', 'have', 'been', 'approximately', '45,000', 'ballots', 'rejected', '.', 'Far', 'more', 'than', 'what', 'we', 'needed', 'to', 'win', ',', 'just', 'over', '11,000', '.', 'They', 'should', 'find', 'those', 'votes', '.', 'They', 'should', 'absolutely', 'find', 'that', '.', 'Just', 'over', '11,000', 'votes', ',', 'that', \"'s\", 'all', 'we', 'need', '.', 'They', 'defrauded', 'us', 'out', 'of', 'a', 'win', 'in', 'Georgia', ',', 'and', 'we', \"'re\", 'not', 'going', 'to', 'forget', 'it', '.', 'There', \"'s\", 'only', 'one', 'reason', 'the', 'Democrats', 'could', 'possibly', 'want', 'to', 'eliminate', 'signature', 'matching', ',', 'opposed', 'voter', 'ID', ',', 'and', 'stop', 'citizenship', 'confirmation', '.', '``', 'Are', 'you', 'a', 'citizenship', '?', \"''\", 'You', \"'re\", 'not', 'allowed', 'to', 'ask', 'that', 'question', ',', 'because', 'they', 'want', 'to', 'steal', 'the', 'election', '.', 'The', 'radical', 'left', 'knows', 'exactly', 'what', 'they', \"'re\", 'doing', '.', 'They', \"'re\", 'ruthless', 'and', 'it', \"'s\", 'time', 'that', 'somebody', 'did', 'something', 'about', 'it', '.', 'And', 'Mike', 'Pence', ',', 'I', 'hope', 'you', \"'re\", 'going', 'to', 'stand', 'up', 'for', 'the', 'good', 'of', 'our', 'Constitution', 'and', 'for', 'the', 'good', 'of', 'our', 'country', '.', 'And', 'if', 'you', \"'re\", 'not', ',', 'I', \"'m\", 'going', 'to', 'be', 'very', 'disappointed', 'in', 'you', '.', 'I', 'will', 'tell', 'you', 'right', 'now', '.', 'I', \"'m\", 'not', 'hearing', 'good', 'stories', '.', 'In', 'Fulton', 'County', ',', 'Republican', 'poll', 'watchers', 'were', 'ejected', ',', 'in', 'some', 'cases', ',', 'physically', 'from', 'the', 'room', 'under', 'the', 'false', 'pretense', 'of', 'a', 'pipe', 'burst', '.', 'Water', 'main', 'burst', ',', 'everybody', 'leave', '.', 'Which', 'we', 'now', 'know', 'was', 'a', 'total', 'lie', '.', 'Then', 'election', 'officials', 'pull', 'boxes', ',', 'Democrats', ',', 'and', 'suitcases', 'of', 'ballots', 'out', 'from', 'under', 'a', 'table', '.', 'You', 'all', 'saw', 'it', 'on', 'television', ',', 'totally', 'fraudulent', '.', 'And', 'illegally', 'scanned', 'them', 'for', 'nearly', 'two', 'hours', ',', 'totally', 'unsupervised', '.', 'Tens', 'of', 'thousands', 'of', 'votes', '.', 'This', 'act', 'coincided', 'with', 'a', 'mysterious', 'vote', 'dump', 'of', 'up', 'to', '100,000', 'votes', 'for', 'Joe', 'Biden', ',', 'almost', 'none', 'for', 'Trump', '.', 'Oh', ',', 'that', 'sounds', 'fair', '.', 'That', 'was', 'at', '1:34', 'a.m', '.', 'The', 'Georgia', 'secretary', 'of', 'state', 'and', 'pathetic', 'governor', 'of', 'Georgia', ',', 'have', 'reached', ',', 'although', 'he', 'says', 'I', \"'m\", 'a', 'great', 'president', '.', 'You', 'know', ',', 'I', 'sort', 'of', 'maybe', 'have', 'to', 'change', '.', 'He', 'said', 'the', 'other', 'day', ',', '``', 'Yes', ',', 'I', 'do', '.', 'I', 'disagree', 'with', 'president', ',', 'but', 'he', \"'s\", 'been', 'a', 'great', 'president', '.', \"''\", 'Good', ',', 'thanks', '.', 'Thank', 'you', 'very', 'much', '.', 'Because', 'of', 'him', 'and', 'others', ',', 'you', 'have', 'Brian', 'Kemp', '.', 'Vote', 'him', 'the', 'hell', 'out', 'of', 'office', ',', 'please', '.', 'Well', ',', 'his', 'rates', 'are', 'so', 'low', '.', 'You', 'know', ',', 'his', 'approval', 'rating', 'now', ',', 'I', 'think', 'it', 'just', 'reached', 'a', 'record', 'low', '.', 'They', \"'ve\", 'rejected', 'five', 'separate', 'appeals', 'for', 'an', 'independent', 'and', 'comprehensive', 'audit', 'of', 'signatures', 'in', 'Fulton', 'County', '.', 'Even', 'without', 'an', 'audit', ',', 'the', 'number', 'of', 'fraudulent', 'ballots', 'that', 'we', \"'ve\", 'identified', 'across', 'the', 'state', 'is', 'staggering', '.', 'Over', '10,300', 'ballots', 'in', 'Georgia', 'were', 'cast', 'by', 'individuals', 'whose', 'names', 'and', 'dates', 'of', 'birth', 'match', 'Georgia', 'residents', 'who', 'died', 'in', '2020', 'and', 'prior', 'to', 'the', 'election', '.', 'More', 'than', '2,500', 'ballots', 'were', 'cast', 'by', 'individuals', 'whose', 'names', 'and', 'dates', 'of', 'birth', 'match', 'incarcerated', 'felons', 'in', 'Georgia', 'prison', '.', 'People', 'who', 'are', 'not', 'allowed', 'to', 'vote', '.', 'More', 'than', '4,500', 'illegal', 'ballots', 'were', 'cast', 'by', 'individuals', 'who', 'do', 'not', 'appear', 'on', 'the', 'state', \"'s\", 'own', 'voter', 'rolls', '.', 'Over', '18,000', 'illegal', 'ballots', 'were', 'cast', 'by', 'individuals', 'who', 'registered', 'to', 'vote', 'using', 'an', 'address', 'listed', 'as', 'vacant', ',', 'according', 'to', 'the', 'Postal', 'Service', '.', 'At', 'least', '88,000', 'ballots', 'in', 'Georgia', 'were', 'cast', 'by', 'people', 'whose', 'registrations', 'were', 'illegally', 'backdated', '.', 'Sixty-six', 'thousand', 'votes', ',', 'each', 'one', 'of', 'these', 'is', 'far', 'more', 'than', 'we', 'need', '.', 'Sixty-six', 'thousand', 'votes', 'in', 'Georgia', 'were', 'cast', 'by', 'individuals', 'under', 'the', 'legal', 'voting', 'age', '.', 'And', 'at', 'least', '15,000', 'ballots', 'were', 'cast', 'by', 'individuals', 'who', 'moved', 'out', 'of', 'the', 'state', 'prior', 'to', 'November', '3', 'election', '.', 'They', 'say', 'they', 'moved', 'right', 'back', '.', 'They', 'moved', 'right', 'back', '.', 'Oh', ',', 'they', 'moved', 'out', ',', 'they', 'moved', 'right', 'back', '.', 'OK', '.', 'They', 'missed', 'Georgia', 'that', 'much', '.', 'I', 'do', '.', 'I', 'love', 'Georgia', ',', 'but', 'it', \"'s\", 'a', 'corrupt', 'system', '.', 'Despite', 'all', 'of', 'this', ',', 'the', 'margin', 'in', 'Georgia', 'is', 'only', '11,779', 'votes', '.', 'Each', 'and', 'every', 'one', 'of', 'these', 'issues', 'is', 'enough', 'to', 'give', 'us', 'a', 'victory', 'in', 'Georgia', ',', 'a', 'big', 'beautiful', 'victory', '.', 'Make', 'no', 'mistake', ',', 'this', 'election', 'was', 'stolen', 'from', 'you', ',', 'from', 'me', 'and', 'from', 'the', 'country', '.', 'And', 'not', 'a', 'single', 'swing', 'state', 'has', 'conducted', 'a', 'comprehensive', 'audit', 'to', 'remove', 'the', 'illegal', 'ballots', '.', 'This', 'should', 'absolutely', 'occur', 'in', 'every', 'single', 'contested', 'state', 'before', 'the', 'election', 'is', 'certified', '.', 'In', 'the', 'state', 'of', 'Arizona', ',', 'over', '36,000', 'ballots', 'were', 'illegally', 'cast', 'by', 'non-citizens', '.', 'Two', 'thousand', 'ballots', 'were', 'returned', 'with', 'no', 'address', '.', 'More', 'than', '22,000', 'ballots', 'were', 'returned', 'before', 'they', 'were', 'ever', 'supposedly', 'mailed', 'out', '.', 'They', 'returned', ',', 'but', 'we', 'have', \"n't\", 'mailed', 'them', 'yet', '.', 'Eleven', 'thousand', 'six', 'hundred', 'more', 'ballots', 'and', 'votes', 'were', 'counted', ',', 'more', 'than', 'there', 'were', 'actual', 'voters', '.', 'You', 'see', 'that', '?', 'So', 'you', 'have', 'more', 'votes', 'again', 'than', 'you', 'have', 'voters', '.', 'One', 'hundred', 'and', 'fifty', 'thousand', 'people', 'registered', 'in', 'Maricopa', 'County', 'after', 'the', 'registration', 'deadline', '.', 'One', 'hundred', 'and', 'three', 'thousand', 'ballots', 'in', 'the', 'county', 'were', 'sent', 'for', 'electronic', 'adjudication', 'with', 'no', 'Republican', 'observers', '.', 'In', 'Clark', 'County', ',', 'Nevada', ',', 'the', 'accuracy', 'settings', 'on', 'signature', 'verification', 'machines', 'were', 'purposely', 'lowered', 'before', 'they', 'were', 'used', 'to', 'count', 'over', '130,000', 'ballots', '.', 'If', 'you', 'signed', 'your', 'name', 'as', 'Santa', 'Claus', ',', 'it', 'would', 'go', 'through', '.', 'There', 'were', 'also', 'more', 'than', '42,000', 'double', 'votes', 'in', 'Nevada', '.', 'Over', '150,000', 'people', 'were', 'hurt', 'so', 'badly', 'by', 'what', 'took', 'place', '.', 'And', '1,500', 'ballots', 'were', 'cast', 'by', 'individuals', 'whose', 'names', 'and', 'dates', 'of', 'birth', 'match', 'Nevada', 'residents', 'who', 'died', 'in', '2020', 'prior', 'to', 'November', '3', 'election', '.', 'More', 'than', '8,000', 'votes', 'were', 'cast', 'by', 'individuals', 'who', 'had', 'no', 'address', 'and', 'probably', 'did', \"n't\", 'live', 'there', '.', 'The', 'margin', 'in', 'Nevada', 'is', 'down', 'at', 'a', 'very', 'low', 'number', ',', 'any', 'of', 'these', 'things', 'would', 'have', 'taken', 'care', 'of', 'the', 'situation', '.', 'We', 'would', 'have', 'won', 'Nevada', ',', 'also', '.', 'Every', 'one', 'of', 'these', 'we', \"'re\", 'going', 'over', ',', 'we', 'win', '.', 'In', 'Michigan', ',', 'quickly', ',', 'the', 'secretary', 'of', 'state', ',', 'a', 'real', 'great', 'one', ',', 'flooded', 'the', 'state', 'with', 'unsolicited', 'mail-in', 'ballot', 'applications', 'sent', 'to', 'every', 'person', 'on', 'the', 'rolls', 'in', 'direct', 'violation', 'of', 'state', 'law', '.', 'More', 'than', '17,000', 'Michigan', 'ballots', 'were', 'cast', 'by', 'individuals', 'whose', 'names', 'and', 'dates', 'of', 'birth', 'match', 'people', 'who', 'were', 'deceased', '.', 'In', 'Wayne', 'County', ',', 'that', \"'s\", 'a', 'great', 'one', '.', 'That', \"'s\", 'Detroit', '.', 'One', 'hundred', 'and', 'seventy-four', 'thousand', 'ballots', 'were', 'counted', 'without', 'being', 'tied', 'to', 'an', 'actual', 'registered', 'voter', '.', 'Nobody', 'knows', 'where', 'they', 'came', 'from', '.', 'Also', ',', 'in', 'Wayne', 'County', ',', 'poll', 'watchers', 'observed', 'canvassers', 'rescanning', 'batches', 'of', 'ballots', 'over', 'and', 'over', 'again', ',', 'up', 'to', 'three', 'or', 'four', 'or', 'five', 'times', '.', 'In', 'Detroit', ',', 'turnout', 'was', '139', '%', 'of', 'registered', 'voters', '.', 'Think', 'of', 'that', '.', 'So', 'you', 'had', '139', '%', 'of', 'the', 'people', 'in', 'Detroit', 'voting', '.', 'This', 'is', 'in', 'Michigan', '.', 'Detroit', ',', 'Michigan', '.', 'A', 'career', 'employee', 'of', 'the', 'Detroit', ',', 'City', 'of', 'Detroit', ',', 'testified', 'under', 'penalty', 'of', 'perjury', 'that', 'she', 'witnessed', 'city', 'workers', 'coaching', 'voters', 'to', 'vote', 'straight', 'Democrat', 'while', 'accompanying', 'them', 'to', 'watch', 'who', 'they', 'voted', 'for', '.', 'When', 'a', 'Republican', 'came', 'in', ',', 'they', 'would', \"n't\", 'talk', 'to', 'him', '.', 'The', 'same', 'worker', 'was', 'instructed', 'not', 'to', 'ask', 'for', 'any', 'voter', 'ID', 'and', 'not', 'to', 'attempt', 'to', 'validate', 'any', 'signatures', 'if', 'they', 'were', 'Democrats', '.', 'She', 'also', 'told', 'to', 'illegally', ',', 'and', 'was', 'told', ',', 'backdate', 'ballots', 'received', 'after', 'the', 'deadline', 'and', 'reports', 'that', 'thousands', 'and', 'thousands', 'of', 'ballots', 'were', 'improperly', 'backdated', '.', 'That', \"'s\", 'Michigan', '.', 'Four', 'witnesses', 'have', 'testified', 'under', 'penalty', 'of', 'perjury', 'that', 'after', 'officials', 'in', 'Detroit', 'announced', 'the', 'last', 'votes', 'had', 'been', 'counted', ',', 'tens', 'of', 'thousands', 'of', 'additional', 'ballots', 'arrived', 'without', 'required', 'envelopes', '.', 'Every', 'single', 'one', 'was', 'for', 'a', 'Democrat', '.', 'I', 'got', 'no', 'votes', '.', 'At', '6:31', 'a.m.', 'in', 'the', 'early', 'morning', 'hours', 'after', 'voting', 'had', 'ended', ',', 'Michigan', 'suddenly', 'reported', '147,000', 'votes', '.', 'An', 'astounding', '94', '%', 'went', 'to', 'Joe', 'Biden', ',', 'who', 'campaigned', 'brilliantly', 'from', 'his', 'basement', '.', 'Only', 'a', 'couple', 'of', 'percentage', 'points', 'went', 'to', 'Trump', '.', 'Such', 'gigantic', 'and', 'one-sided', 'vote', 'dumps', 'were', 'only', 'observed', 'in', 'a', 'few', 'swing', 'states', 'and', 'they', 'were', 'observed', 'in', 'the', 'states', 'where', 'it', 'was', 'necessary', '.', 'You', 'know', 'what', \"'s\", 'interesting', '?', 'President', 'Obama', 'beat', 'Biden', 'in', 'every', 'state', 'other', 'than', 'the', 'swing', 'states', 'where', 'Biden', 'killed', 'them', ',', 'but', 'the', 'swing', 'states', 'were', 'the', 'ones', 'that', 'mattered', '.', 'They', \"'re\", 'always', 'just', 'enough', 'to', 'push', 'Joe', 'Biden', 'barely', 'into', 'the', 'lead', '.', 'We', 'were', 'ahead', 'by', 'a', 'lot', 'and', 'within', 'a', 'number', 'of', 'hours', 'we', 'were', 'losing', 'by', 'a', 'little', '.', 'In', 'addition', ',', 'there', 'is', 'the', 'highly', 'troubling', 'matter', 'of', 'Dominion', 'Voting', 'Systems', '.', 'In', 'one', 'Michigan', 'county', 'alone', ',', '6,000', 'votes', 'were', 'switched', 'from', 'Trump', 'to', 'Biden', 'and', 'the', 'same', 'systems', 'are', 'used', 'in', 'the', 'majority', 'of', 'states', 'in', 'our', 'country', '.', 'Senator', 'William', 'Ligon', ',', 'a', 'great', 'gentleman', ',', 'chairman', 'of', 'Georgia', \"'s\", 'senate', 'judiciary', 'subcommittee', '.', 'Senator', 'Ligon', ',', 'highly', 'respected', ',', 'on', 'elections', 'has', 'written', 'a', 'letter', 'describing', 'his', 'concerns', 'with', 'Dominion', 'in', 'Georgia', '.', 'He', 'wrote', ',', 'and', 'I', 'quote', ',', 'The', 'Dominion', 'Voting', 'Machines', 'employed', 'in', 'Fulton', 'County', 'had', 'an', 'astronomical', 'and', 'astounding', '93.67', '%', 'error', 'rate', '.', 'It', \"'s\", 'only', 'wrong', '93', '%', 'of', 'the', 'time', 'in', 'the', 'scanning', 'of', 'ballots', 'requiring', 'a', 'review', 'panel', 'to', 'adjudicate', 'or', 'determine', 'the', 'voter', \"'s\", 'interest', 'in', 'over', '106,000', 'ballots', 'out', 'of', 'a', 'total', 'of', '113,000', '.', 'Think', 'of', 'it', '.', 'You', 'go', 'in', 'and', 'you', 'vote', 'and', 'then', 'they', 'tell', 'people', 'who', 'you', 'supposed', 'to', 'be', 'voting', 'for', '.', 'They', 'make', 'up', 'whatever', 'they', 'want', '.', 'Nobody', \"'s\", 'ever', 'even', 'heard', '.', 'They', 'adjudicate', 'your', 'vote', '.', 'They', 'say', ',', 'Well', ',', 'we', 'do', \"n't\", 'think', 'Trump', 'wants', 'to', 'vote', 'for', 'Trump', '.', 'We', 'think', 'he', 'wants', 'to', 'vote', 'for', 'Biden', '.', 'Put', 'it', 'down', 'for', 'Biden', '.', 'The', 'national', 'average', 'for', 'such', 'an', 'error', 'rate', 'is', 'far', 'less', 'than', '1', '%', 'and', 'yet', 'you', \"'re\", 'at', '93', '%', '.', 'The', 'source', 'of', 'this', 'astronomical', 'error', 'rate', 'must', 'be', 'identified', 'to', 'determine', 'if', 'these', 'machines', 'were', 'set', 'up', 'or', 'destroyed', 'to', 'allow', 'for', 'a', 'third', 'party', 'to', 'disregard', 'the', 'actual', 'ballot', 'cast', 'by', 'the', 'registered', 'voter', '.', 'The', 'letter', 'continues', '.', 'There', 'is', 'clear', 'evidence', 'that', 'tens', 'of', 'thousands', 'of', 'votes', 'were', 'switched', 'from', 'President', 'Trump', 'to', 'former', 'Vice', 'President', 'Biden', 'in', 'several', 'counties', 'in', 'Georgia', '.', 'For', 'example', ',', 'in', 'Bibb', 'County', ',', 'President', 'Trump', 'was', 'reported', 'to', 'have', '29,391', 'votes', 'at', '9:11', 'p.m.', 'Eastern', 'time', ',', 'while', 'simultaneously', 'Vice', 'President', 'Joe', 'Biden', 'was', 'reported', 'to', 'have', '17,213', '.', 'Minutes', 'later', ',', 'just', 'minutes', ',', 'at', 'the', 'next', 'update', ',', 'these', 'vote', 'numbers', 'switched', 'with', 'President', 'Trump', 'going', 'way', 'down', 'to', '17,000', 'and', 'Biden', 'going', 'way', 'up', 'to', '29,391', '.', 'And', 'that', 'was', 'very', 'quick', ',', 'a', '12,000', 'vote', 'switch', 'all', 'in', 'Mr.', 'Biden', \"'s\", 'favor', '.', 'So', ',', 'I', 'mean', ',', 'I', 'could', 'go', 'on', 'and', 'on', 'about', 'this', 'fraud', 'that', 'took', 'place', 'in', 'every', 'state', ',', 'and', 'all', 'of', 'these', 'legislatures', 'want', 'this', 'back', '.', 'I', 'do', \"n't\", 'want', 'to', 'do', 'it', 'to', 'you', 'because', 'I', 'love', 'you', 'and', 'it', \"'s\", 'freezing', 'out', 'here', '.', 'But', 'I', 'could', 'just', 'go', 'on', 'forever', '.', 'I', 'can', 'tell', 'you', 'this', '.', '(', 'Audience', 'chants', ':', '``', 'We', 'love', 'you', '.', \"''\", ')', 'So', 'when', 'you', 'hear', ',', 'when', 'you', 'hear', ',', 'while', 'there', 'is', 'no', 'evidence', 'to', 'prove', 'any', 'wrongdoing', ',', 'this', 'is', 'the', 'most', 'fraudulent', 'thing', 'anybody', 'has', ',', 'this', 'is', 'a', 'criminal', 'enterprise', '.', 'This', 'is', 'a', 'criminal', 'enterprise', '.', 'And', 'the', 'press', 'will', 'say', ',', 'and', 'I', \"'m\", 'sure', 'they', 'wo', \"n't\", 'put', 'any', 'of', 'that', 'on', 'there', ',', 'because', 'that', \"'s\", 'no', 'good', '.', 'And', 'you', 'ever', 'see', ',', 'while', 'there', 'is', 'no', 'evidence', 'to', 'back', 'President', 'Trump', \"'s\", 'assertion', '.', 'I', 'could', 'go', 'on', 'for', 'another', 'hour', 'reading', 'this', 'stuff', 'to', 'you', 'and', 'telling', 'you', 'about', 'it', '.', 'There', \"'s\", 'never', 'been', 'anything', 'like', 'it', '.', 'Think', 'about', 'it', '.', 'Detroit', 'had', 'more', 'votes', 'than', 'it', 'had', 'voters', '.', 'Pennsylvania', 'had', '205,000', 'more', 'votes', 'than', 'it', 'had', 'more', '.', 'But', 'you', 'do', \"n't\", 'have', 'to', 'go', 'any', '.', 'Between', 'that', ',', 'I', 'think', 'that', \"'s\", 'almost', 'better', 'than', 'dead', 'people', 'if', 'you', 'think', ',', 'right', '?', 'More', 'votes', 'than', 'they', 'had', 'voters', '.', 'And', 'many', 'other', 'states', 'also', '.', 'It', \"'s\", 'a', 'disgrace', 'that', 'the', 'United', 'States', 'of', 'America', ',', 'tens', 'of', 'millions', 'of', 'people', ',', 'are', 'allowed', 'to', 'go', 'vote', 'without', 'so', 'much', 'as', 'even', 'showing', 'identification', '.', 'In', 'no', 'state', 'is', 'there', 'any', 'question', 'or', 'effort', 'made', 'to', 'verify', 'the', 'identity', ',', 'citizenship', ',', 'residency', 'or', 'eligibility', 'of', 'the', 'votes', 'cast', '.', 'The', 'Republicans', 'have', 'to', 'get', 'tougher', '.', 'You', \"'re\", 'not', 'going', 'to', 'have', 'a', 'Republican', 'Party', 'if', 'you', 'do', \"n't\", 'get', 'tougher', '.', 'They', 'want', 'to', 'play', 'so', 'straight', '.', 'They', 'want', 'to', 'play', 'so', ',', 'sir', ',', 'yes', ',', 'the', 'United', 'States', '.', 'The', 'Constitution', 'does', \"n't\", 'allow', 'me', 'to', 'send', 'them', 'back', 'to', 'the', 'States', '.', 'Well', ',', 'I', 'say', ',', 'yes', 'it', 'does', ',', 'because', 'the', 'Constitution', 'says', 'you', 'have', 'to', 'protect', 'our', 'country', 'and', 'you', 'have', 'to', 'protect', 'our', 'Constitution', ',', 'and', 'you', 'ca', \"n't\", 'vote', 'on', 'fraud', '.', 'And', 'fraud', 'breaks', 'up', 'everything', ',', 'does', \"n't\", 'it', '?', 'When', 'you', 'catch', 'somebody', 'in', 'a', 'fraud', ',', 'you', \"'re\", 'allowed', 'to', 'go', 'by', 'very', 'different', 'rules', '.', 'So', 'I', 'hope', 'Mike', 'has', 'the', 'courage', 'to', 'do', 'what', 'he', 'has', 'to', 'do', '.', 'And', 'I', 'hope', 'he', 'does', \"n't\", 'listen', 'to', 'the', 'RINOs', 'and', 'the', 'stupid', 'people', 'that', 'he', \"'s\", 'listening', 'to', '.', 'It', 'is', 'also', 'widely', 'understood', 'that', 'the', 'voter', 'rolls', 'are', 'crammed', 'full', 'of', 'non-citizens', ',', 'felons', 'and', 'people', 'who', 'have', 'moved', 'out', 'of', 'state', 'and', 'individuals', 'who', 'are', 'otherwise', 'ineligible', 'to', 'vote', '.', 'Yet', 'Democrats', 'oppose', 'every', 'effort', 'to', 'clean', 'up', 'their', 'voter', 'rolls', '.', 'They', 'do', \"n't\", 'want', 'to', 'clean', 'them', 'up', '.', 'They', \"'re\", 'loaded', '.', 'And', 'how', 'many', 'people', 'here', 'know', 'other', 'people', ',', 'that', 'when', 'there', 'are', 'hundreds', 'of', 'thousands', 'and', 'then', 'millions', 'of', 'ballots', 'got', 'sent', 'out', ',', 'got', 'three', ',', 'four', ',', 'five', ',', 'six', ',', 'and', 'I', 'heard', 'one', ',', 'who', 'got', 'seven', 'ballots', '.', 'And', 'then', 'they', 'say', 'you', 'did', \"n't\", 'quite', 'make', 'it', ',', 'sir', '.', 'We', 'won', 'in', 'a', 'landslide', '.', 'This', 'was', 'a', 'landslide', '.', 'They', 'said', 'it', \"'s\", 'not', 'American', 'to', 'challenge', 'the', 'election', '.', 'This', 'the', 'most', 'corrupt', 'election', 'in', 'the', 'history', ',', 'maybe', 'of', 'the', 'world', '.', 'You', 'know', ',', 'you', 'could', 'go', 'third-world', 'countries', ',', 'but', 'I', 'do', \"n't\", 'think', 'they', 'had', 'hundreds', 'of', 'thousands', 'of', 'votes', 'and', 'they', 'do', \"n't\", 'have', 'voters', 'for', 'them', '.', 'I', 'mean', 'no', 'matter', 'where', 'you', 'go', ',', 'nobody', 'would', 'think', 'this', '.', 'In', 'fact', ',', 'it', \"'s\", 'so', 'egregious', ',', 'it', \"'s\", 'so', 'bad', 'that', 'a', 'lot', 'of', 'people', 'do', \"n't\", 'even', 'believe', 'it', '.', 'It', \"'s\", 'so', 'crazy', 'that', 'people', 'do', \"n't\", 'even', 'believe', 'it', '.', 'It', 'ca', \"n't\", 'be', 'true', '.', 'So', 'they', 'do', \"n't\", 'believe', 'it', '.', 'This', 'is', 'not', 'just', 'a', 'matter', 'of', 'domestic', 'politics', '—', 'this', 'is', 'a', 'matter', 'of', 'national', 'security', '.', 'So', 'today', ',', 'in', 'addition', 'to', 'challenging', 'the', 'certification', 'of', 'the', 'election', ',', 'I', \"'m\", 'calling', 'on', 'Congress', 'and', 'the', 'state', 'legislatures', 'to', 'quickly', 'pass', 'sweeping', 'election', 'reforms', ',', 'and', 'you', 'better', 'do', 'it', 'before', 'we', 'have', 'no', 'country', 'left', '.', 'Today', 'is', 'not', 'the', 'end', ',', 'it', \"'s\", 'just', 'the', 'beginning', '.', 'With', 'your', 'help', 'over', 'the', 'last', 'four', 'years', ',', 'we', 'built', 'the', 'greatest', 'political', 'movement', 'in', 'the', 'history', 'of', 'our', 'country', 'and', 'nobody', 'even', 'challenges', 'that', '.', 'I', 'say', 'that', 'over', 'and', 'over', ',', 'and', 'I', 'never', 'get', 'challenged', 'by', 'the', 'fakeness', ',', 'and', 'they', 'challenge', 'almost', 'everything', 'we', 'say', '.', 'But', 'our', 'fight', 'against', 'the', 'big', 'donors', ',', 'big', 'media', ',', 'big', 'tech', ',', 'and', 'others', 'is', 'just', 'getting', 'started', '.', 'This', 'is', 'the', 'greatest', 'in', 'history', '.', 'There', \"'s\", 'never', 'been', 'a', 'movement', 'like', 'that', '.', 'You', 'look', 'back', 'there', 'all', 'the', 'way', 'to', 'the', 'Washington', 'Monument', '.', 'It', \"'s\", 'hard', 'to', 'believe', '.', 'We', 'must', 'stop', 'the', 'steal', 'and', 'then', 'we', 'must', 'ensure', 'that', 'such', 'outrageous', 'election', 'fraud', 'never', 'happens', 'again', ',', 'can', 'never', 'be', 'allowed', 'to', 'happen', 'again', '.', 'But', 'we', \"'re\", 'going', 'forward', '.', 'We', \"'ll\", 'take', 'care', 'of', 'going', 'forward', '.', 'We', \"'ve\", 'got', 'to', 'take', 'care', 'of', 'going', 'back', '.', 'Do', \"n't\", 'let', 'them', 'talk', '.', 'OK', ',', 'well', ',', 'we', 'promised', '.', 'I', \"'ve\", 'had', 'a', 'lot', 'of', 'people', '.', 'Sir', ',', 'you', \"'re\", 'at', '96', '%', 'for', 'four', 'years', '.', 'I', 'said', 'I', \"'m\", 'not', 'interested', 'right', 'now', '.', 'I', \"'m\", 'interested', 'in', 'right', 'there', '.', 'With', 'your', 'help', ',', 'we', 'will', 'finally', 'pass', 'powerful', 'requirements', 'for', 'voter', 'ID', '.', 'You', 'need', 'an', 'ID', 'to', 'cash', 'a', 'check', '.', 'You', 'need', 'an', 'ID', 'to', 'go', 'to', 'a', 'bank', ',', 'to', 'buy', 'alcohol', ',', 'to', 'drive', 'a', 'car', '.', 'Every', 'person', 'should', 'need', 'to', 'show', 'an', 'ID', 'in', 'order', 'to', 'cast', 'your', 'most', 'important', 'thing', ',', 'a', 'vote', '.', 'We', 'will', 'also', 'require', 'proof', 'of', 'American', 'citizenship', 'in', 'order', 'to', 'vote', 'in', 'American', 'elections', '.', 'We', 'just', 'had', 'a', 'good', 'victory', 'in', 'court', 'on', 'that', 'one', ',', 'actually', '.', 'We', 'will', 'ban', 'ballot', 'harvesting', 'and', 'prohibit', 'the', 'use', 'of', 'unsecured', 'drop', 'boxes', 'to', 'commit', 'rampant', 'fraud', '.', 'These', 'drop', 'boxes', 'are', 'fraudulent', '.', 'Therefore', ',', 'they', 'get', 'disapp', '—', 'they', 'disappear', ',', 'and', 'then', 'all', 'of', 'a', 'sudden', 'they', 'show', 'up', '.', 'It', \"'s\", 'fraudulent', '.', 'We', 'will', 'stop', 'the', 'practice', 'of', 'universal', 'unsolicited', 'mail-in', 'balloting', '.', 'We', 'will', 'clean', 'up', 'the', 'voter', 'rolls', 'that', 'ensure', 'that', 'every', 'single', 'person', 'who', 'casts', 'a', 'vote', 'is', 'a', 'citizen', 'of', 'our', 'country', ',', 'a', 'resident', 'of', 'the', 'state', 'in', 'which', 'they', 'vote', 'and', 'their', 'vote', 'is', 'cast', 'in', 'a', 'lawful', 'and', 'honest', 'manner', '.', 'We', 'will', 'restore', 'the', 'vital', 'civic', 'tradition', 'of', 'in-person', 'voting', 'on', 'Election', 'Day', 'so', 'that', 'voters', 'can', 'be', 'fully', 'informed', 'when', 'they', 'make', 'their', 'choice', '.', 'We', 'will', 'finally', 'hold', 'big', 'tech', 'accountable', '.', 'And', 'if', 'these', 'people', 'had', 'courage', 'and', 'guts', ',', 'they', 'would', 'get', 'rid', 'of', 'Section', '230', ',', 'something', 'that', 'no', 'other', 'company', ',', 'no', 'other', 'person', 'in', 'America', ',', 'in', 'the', 'world', 'has', '.', 'All', 'of', 'these', 'tech', 'monopolies', 'are', 'going', 'to', 'abuse', 'their', 'power', 'and', 'interfere', 'in', 'our', 'elections', ',', 'and', 'it', 'has', 'to', 'be', 'stopped', '.', 'And', 'the', 'Republicans', 'have', 'to', 'get', 'a', 'lot', 'tougher', ',', 'and', 'so', 'should', 'the', 'Democrats', '.', 'They', 'should', 'be', 'regulated', ',', 'investigated', ',', 'and', 'brought', 'to', 'justice', 'under', 'the', 'fullest', 'extent', 'of', 'the', 'law', '.', 'They', \"'re\", 'totally', 'breaking', 'the', 'law', '.', 'Together', ',', 'we', 'will', 'drain', 'the', 'Washington', 'swamp', 'and', 'we', 'will', 'clean', 'up', 'the', 'corruption', 'in', 'our', 'nation', \"'s\", 'capital', '.', 'We', 'have', 'done', 'a', 'big', 'job', 'on', 'it', ',', 'but', 'you', 'think', 'it', \"'s\", 'easy', '.', 'It', \"'s\", 'a', 'dirty', 'business', '.', 'It', \"'s\", 'a', 'dirty', 'business', '.', 'You', 'have', 'a', 'lot', 'of', 'bad', 'people', 'out', 'there', '.', 'Despite', 'everything', 'we', \"'ve\", 'been', 'through', ',', 'looking', 'out', 'all', 'over', 'this', 'country', 'and', 'seeing', 'fantastic', 'crowds', '.', 'Although', 'this', ',', 'I', 'think', ',', 'is', 'our', 'all-time', 'record', '.', 'I', 'think', 'you', 'have', '250,000', 'people', '.', '250,000', '.', 'Looking', 'out', 'at', 'all', 'the', 'amazing', 'patriots', 'here', 'today', ',', 'I', 'have', 'never', 'been', 'more', 'confident', 'in', 'our', 'nation', \"'s\", 'future', '.', 'Well', ',', 'I', 'have', 'to', 'say', ',', 'we', 'have', 'to', 'be', 'a', 'little', 'bit', 'careful', '.', 'That', \"'s\", 'a', 'nice', 'statement', ',', 'but', 'we', 'have', 'to', 'be', 'a', 'little', 'careful', 'with', 'that', 'statement', '.', 'If', 'we', 'allow', 'this', 'group', 'of', 'people', 'to', 'illegally', 'take', 'over', 'our', 'country', 'because', 'it', \"'s\", 'illegal', 'when', 'the', 'votes', 'are', 'illegal', 'when', 'the', 'way', 'they', 'got', 'there', 'is', 'illegal', 'when', 'the', 'states', 'that', 'vote', 'are', 'given', 'false', 'and', 'fraudulent', 'information', '.', 'We', 'are', 'the', 'greatest', 'country', 'on', 'Earth', 'and', 'we', 'are', 'headed', 'and', 'were', 'headed', 'in', 'the', 'right', 'direction', '.', 'You', 'know', ',', 'the', 'wall', 'is', 'built', '.', 'We', \"'re\", 'doing', 'record', 'numbers', 'at', 'the', 'wall', '.', 'Now', ',', 'they', 'want', 'to', 'take', 'down', 'the', 'wall', '.', 'Let', \"'s\", 'let', 'everyone', 'flow', 'in', '.', 'Let', \"'s\", 'let', 'everybody', 'flow', 'in', '.', 'We', 'did', 'a', 'great', 'job', 'in', 'the', 'wall', '.', 'Remember', ',', 'the', 'wall', ',', 'they', 'said', 'it', 'could', 'never', 'be', 'done', '.', 'One', 'of', 'the', 'largest', 'infrastructure', 'projects', 'we', \"'ve\", 'ever', 'had', 'in', 'this', 'country', ',', 'and', 'it', \"'s\", 'had', 'a', 'tremendous', 'impact', ',', 'that', 'we', 'got', 'rid', 'of', 'catch', 'and', 'release', '.', 'We', 'got', 'rid', 'of', 'all', 'of', 'this', 'stuff', 'that', 'we', 'had', 'to', 'live', 'with', '.', 'But', 'now', ',', 'the', 'caravans', ',', 'I', 'think', 'Biden', \"'s\", 'getting', 'in', ',', 'the', 'caravans', 'are', 'forming', 'again', '.', 'They', 'want', 'to', 'come', 'in', 'again', 'and', 'rip', 'off', 'our', 'country', '.', 'Ca', \"n't\", 'let', 'it', 'happen', '.', 'As', 'this', 'enormous', 'crowd', 'shows', ',', 'we', 'have', 'truth', 'and', 'justice', 'on', 'our', 'side', '.', 'We', 'have', 'a', 'deep', 'and', 'enduring', 'love', 'for', 'America', 'in', 'our', 'hearts', '.', 'We', 'love', 'our', 'country', '.', 'We', 'have', 'overwhelming', 'pride', 'in', 'this', 'great', 'country', 'and', 'we', 'have', 'it', 'deep', 'in', 'our', 'souls', '.', 'Together', ',', 'we', 'are', 'determined', 'to', 'defend', 'and', 'preserve', 'government', 'of', 'the', 'people', ',', 'by', 'the', 'people', 'and', 'for', 'the', 'people', '.', 'Our', 'brightest', 'days', 'are', 'before', 'us', '.', 'Our', 'greatest', 'achievements', ',', 'still', 'away', '.', 'I', 'think', 'one', 'of', 'our', 'great', 'achievements', 'will', 'be', 'election', 'security', '.', 'Because', 'nobody', 'until', 'I', 'came', 'along', 'had', 'any', 'idea', 'how', 'corrupt', 'our', 'elections', 'were', '.', 'And', 'again', ',', 'most', 'people', 'would', 'stand', 'there', 'at', '9', \"o'clock\", 'in', 'the', 'evening', 'and', 'say', 'I', 'want', 'to', 'thank', 'you', 'very', 'much', ',', 'and', 'they', 'go', 'off', 'to', 'some', 'other', 'life', '.', 'But', 'I', 'said', 'something', \"'s\", 'wrong', 'here', ',', 'something', 'is', 'really', 'wrong', ',', 'can', 'have', 'happened', '.', 'And', 'we', 'fight', '.', 'We', 'fight', 'like', 'hell', '.', 'And', 'if', 'you', 'do', \"n't\", 'fight', 'like', 'hell', ',', 'you', \"'re\", 'not', 'going', 'to', 'have', 'a', 'country', 'anymore', '.', 'Our', 'exciting', 'adventures', 'and', 'boldest', 'endeavors', 'have', 'not', 'yet', 'begun', '.', 'My', 'fellow', 'Americans', ',', 'for', 'our', 'movement', ',', 'for', 'our', 'children', ',', 'and', 'for', 'our', 'beloved', 'country', '.', 'And', 'I', 'say', 'this', 'despite', 'all', 'that', \"'s\", 'happened', '.', 'The', 'best', 'is', 'yet', 'to', 'come', '.', 'So', 'we', \"'re\", 'going', 'to', ',', 'we', \"'re\", 'going', 'to', 'walk', 'down', 'Pennsylvania', 'Avenue', '.', 'I', 'love', 'Pennsylvania', 'Avenue', '.', 'And', 'we', \"'re\", 'going', 'to', 'the', 'Capitol', ',', 'and', 'we', \"'re\", 'going', 'to', 'try', 'and', 'give', '.', 'The', 'Democrats', 'are', 'hopeless', '—', 'they', 'never', 'vote', 'for', 'anything', '.', 'Not', 'even', 'one', 'vote', '.', 'But', 'we', \"'re\", 'going', 'to', 'try', 'and', 'give', 'our', 'Republicans', ',', 'the', 'weak', 'ones', 'because', 'the', 'strong', 'ones', 'do', \"n't\", 'need', 'any', 'of', 'our', 'help', '.', 'We', \"'re\", 'going', 'to', 'try', 'and', 'give', 'them', 'the', 'kind', 'of', 'pride', 'and', 'boldness', 'that', 'they', 'need', 'to', 'take', 'back', 'our', 'country', '.', 'So', 'let', \"'s\", 'walk', 'down', 'Pennsylvania', 'Avenue', '.', 'I', 'want', 'to', 'thank', 'you', 'all', '.', 'God', 'bless', 'you', 'and', 'God', 'Bless', 'America', '.', 'Thank', 'you', 'all', 'for', 'being', 'here', '.', 'This', 'is', 'incredible', '.', 'Thank', 'you', 'very', 'much', '.', 'Thank', 'you', '.']\n"
     ]
    }
   ],
   "source": [
    "# Define the URL for the article\n",
    "base_url = 'https://www.npr.org/2021/02/10/966396848/read-trumps-jan-6-speech-a-key-part-of-impeachment-trial'\n",
    "\n",
    "# Send a GET request to the URL and store the response\n",
    "r = requests.get(base_url)\n",
    "\n",
    "# Parse the HTML content of the response using BeautifulSoup\n",
    "soup = BeautifulSoup(r.text)\n",
    "\n",
    "# Find all paragraph tags <p> in the HTML and extract their text content\n",
    "paragraphs = soup.find_all('p')\n",
    "\n",
    "# Empty list to store the words\n",
    "document = []\n",
    "\n",
    "# Loop through paragraphs from index 10 to 273 (assuming 10-273 is the desired range for the speech content)\n",
    "for paragraph in paragraphs[10:273]:\n",
    "    speech = paragraph.get_text().strip()  # Extract text from the paragraph and strip any surrounding whitespace\n",
    "    words = word_tokenize(speech)  # Tokenize the paragraph into words using word_tokenize() from NLTK\n",
    "    document.extend(words)  # Add the tokenized words to the document list\n",
    "\n",
    "# Print the final document list, which contains all words from the selected paragraphs\n",
    "print(document)"
   ]
  },
  {
   "cell_type": "code",
   "execution_count": 18,
   "id": "0c087f33-99d7-4208-9d54-791c30e3d24e",
   "metadata": {},
   "outputs": [
    {
     "name": "stdout",
     "output_type": "stream",
     "text": [
      "[('people', 80), ('going', 73), ('want', 67), ('know', 58), ('get', 49), ('country', 43), ('ballots', 43), ('got', 42), ('votes', 41), ('election', 40), ('back', 40), ('go', 38), ('said', 37), ('state', 36), ('one', 34), ('like', 32), ('way', 32), ('say', 31), ('right', 29), ('vote', 29)]\n"
     ]
    },
    {
     "data": {
      "text/plain": [
       "<Axes: xlabel='Samples', ylabel='Counts'>"
      ]
     },
     "execution_count": 18,
     "metadata": {},
     "output_type": "execute_result"
    },
    {
     "data": {
      "image/png": "[encoded data removed]",
      "text/plain": [
       "<Figure size 640x480 with 1 Axes>"
      ]
     },
     "metadata": {},
     "output_type": "display_data"
    }
   ],
   "source": [
    "# Retrieve English stopwords and extend with additional custom stopwords\n",
    "stopwords_list = stopwords.words(\"english\")\n",
    "new_stops = [\",\", \"I\", \".\", \";\", \"-\", \":\", \"-\", \"©\",\"?\", \"’\", \"``\",\"'s\",\"n't\",\"'re\",\"''\",\"'ve\"]  # Including additional symbols to remove\n",
    "stopwords_list.extend(new_stops)\n",
    "\n",
    "# Filter out stopwords (case-insensitive) from the tokenized words\n",
    "clean_trump = [word for word in document if word.lower() not in stopwords_list]\n",
    "\n",
    "# Create a frequency distribution of the cleaned words\n",
    "fdist = FreqDist(clean_trump)\n",
    "\n",
    "# Print the 20 most common words\n",
    "x = fdist.most_common(20)\n",
    "print(x)\n",
    "\n",
    "# Plot the frequency distribution of the top 20 words\n",
    "fdist.plot(20)"
   ]
  },
  {
   "cell_type": "markdown",
   "id": "b78b87a8-223c-4dc0-a838-523871fb3a75",
   "metadata": {},
   "source": [
    "8. Here is a link to a github repo that contains Donald Trump's speeches: https://github.com/ryanmcdermott/trump-speeches/blob/master/speeches.txt\n",
    "   \n",
    "What are the 10 most common things Donald Trump \"loves?\"\n",
    "10pts"
   ]
  },
  {
   "cell_type": "code",
   "execution_count": 20,
   "id": "259ef817-2c70-4eb1-a27c-d382cde748c8",
   "metadata": {
    "scrolled": true
   },
   "outputs": [
    {
     "name": "stdout",
     "output_type": "stream",
     "text": [
      "you: 7 times\n",
      "it: 7 times\n",
      "them: 6 times\n",
      "the people: 5 times\n",
      "you all: 5 times\n",
      "China: 4 times\n",
      "you too: 4 times\n",
      "Mexico: 3 times\n",
      "the Hispanics: 3 times\n",
      "d it: 3 times\n"
     ]
    }
   ],
   "source": [
    "from nltk.tokenize import sent_tokenize\n",
    "import requests\n",
    "\n",
    "# Download the speeches.txt from the GitHub repository\n",
    "url = \"https://raw.githubusercontent.com/ryanmcdermott/trump-speeches/master/speeches.txt\"\n",
    "response = requests.get(url)\n",
    "speeches_text = response.text\n",
    "\n",
    "# Tokenize the text into sentences\n",
    "lines = sent_tokenize(speeches_text)\n",
    "\n",
    "# List to store phrases after 'I love'\n",
    "lovely = []\n",
    "\n",
    "# Loop through sentences and find phrases after 'I love'\n",
    "for sentence in lines:\n",
    "    if 'I love' in sentence:\n",
    "        start = sentence.find('I love') + len('I love')  # Find the start index of the phrase after 'I love'\n",
    "        end = sentence.find('.', start)  # Correctly refer to 'sentence', find sentence-ending punctuation\n",
    "        if end == -1:  # If no punctuation is found, take the rest of the sentence\n",
    "            end = len(sentence)\n",
    "        trump_love = sentence[start:end].strip()  # Extract and clean the phrase\n",
    "        lovely.append(trump_love)  # Add the extracted phrase to the list\n",
    "\n",
    "# Dictionary to store counts of phrases\n",
    "love_counts = {}\n",
    "\n",
    "# Count occurrences of each phrase in 'lovely'\n",
    "for loved_thing in lovely:\n",
    "    if loved_thing in love_counts:\n",
    "        love_counts[loved_thing] += 1  # Increment count if phrase already exists\n",
    "    else:\n",
    "        love_counts[loved_thing] = 1  # Initialize count for new phrases\n",
    "\n",
    "# Get the top 10 most loved phrases\n",
    "top_10_loves = sorted(love_counts.items(), key=lambda x: x[1], reverse=True)[:10]\n",
    "\n",
    "# Display the result\n",
    "for item, count in top_10_loves:\n",
    "    print(f'{item}: {count} times')"
   ]
  },
  {
   "cell_type": "markdown",
   "id": "c07782a4-2931-4e23-bb33-b9fab29182ca",
   "metadata": {},
   "source": [
    "9. Which are the top 5 countries Trump mentions in his speeches, besides America or the United States of America?\n",
    "10pts"
   ]
  },
  {
   "cell_type": "code",
   "execution_count": 22,
   "id": "bdb639d1-6f9e-444c-8248-75b74bf569c7",
   "metadata": {},
   "outputs": [
    {
     "name": "stdout",
     "output_type": "stream",
     "text": [
      "China: 201 times\n",
      "Mexico: 160 times\n",
      "Israel: 86 times\n",
      "Iraq: 72 times\n",
      "Japan: 69 times\n"
     ]
    }
   ],
   "source": [
    "import requests\n",
    "import pycountry\n",
    "\n",
    "# Download the speeches.txt from the GitHub repository\n",
    "url = \"https://raw.githubusercontent.com/ryanmcdermott/trump-speeches/master/speeches.txt\"\n",
    "response = requests.get(url)\n",
    "speeches_text = response.text.lower()  # Convert text to lowercase for case-insensitive matching\n",
    "\n",
    "# Define a list of countries (convert country names to lowercase for consistent matching)\n",
    "countries = [country.name.lower() for country in pycountry.countries]\n",
    "\n",
    "# Create an empty dictionary to store the counts of each country\n",
    "country_counts = {}\n",
    "\n",
    "# Loop through the list of countries and count their occurrences in the text\n",
    "for country in countries:\n",
    "    count = speeches_text.count(country)  # Count how many times the country appears\n",
    "    if count > 0:\n",
    "        country_counts[country] = count\n",
    "\n",
    "# Sort the dictionary by count in descending order and exclude 'america' and 'united states'\n",
    "sorted_countries = sorted(\n",
    "    [(country, count) for country, count in country_counts.items() if country not in ['america', 'united states']],\n",
    "    key=lambda x: x[1], reverse=True\n",
    ")\n",
    "\n",
    "# Get the top 5 most mentioned countries\n",
    "top_5_countries = sorted_countries[:5]\n",
    "\n",
    "# Display the result\n",
    "for country, count in top_5_countries:\n",
    "    print(f'{country.title()}: {count} times')\n"
   ]
  },
  {
   "cell_type": "markdown",
   "id": "025cea9c-b4d6-47a4-8910-826c521d594b",
   "metadata": {},
   "source": [
    "\n",
    " In class we talked about tokenizing sentences into words, or parsing texts by single words(unigrams), or two words(bigrams). But you can also tokenize by sentences. Here is some sample code:\n"
   ]
  },
  {
   "cell_type": "code",
   "execution_count": 24,
   "id": "5b9af68c-a8e1-4d1e-ab49-e791d071bf3a",
   "metadata": {},
   "outputs": [
    {
     "name": "stdout",
     "output_type": "stream",
     "text": [
      "['This is the first sentence.', 'This is the second sentence.']\n"
     ]
    }
   ],
   "source": [
    "import nltk\n",
    "from nltk.tokenize import sent_tokenize\n",
    "\n",
    "text = \"This is the first sentence. This is the second sentence.\"\n",
    "sentences = sent_tokenize(text)\n",
    "\n",
    "print(sentences)"
   ]
  },
  {
   "cell_type": "markdown",
   "id": "7481e654-f253-4573-948b-0cf63d2b22c7",
   "metadata": {},
   "source": [
    "In class we talked about final projects and I suggested one of the interesting uses of this technology is to consider conventional thinking on some subject and use Python to more comprehensively and critically evaluate that thinking. We touched on \"political thinking\" as a good place to apply Python language analyses. In political speeches, certain sentences or phrases are repeated to show a candidates coaching, focus or in marketing terms, \"messaging.\" \n",
    "\n",
    "Here is an analyis from https://www.vox.com/2016/8/18/12423688/donald-trump-speech-style-explained-by-linguists of the \"salesman\" techniques that Trump uses: \"Trump’s speeches can be appealing because he uses a lot of salesmen’s tricks. Lakoff, for his part, has an explanation for why Trump’s style of speaking is so appealing to many. Many of Trump’s most famous catchphrases are actually versions of time-tested speech mechanisms that salesmen use. They’re powerful because they help shape our unconscious. Take, for example, Trump’s frequent use of \"Many people are saying...\" or \"Believe me\" — often right after saying something that is baseless or untrue. This tends to sound more trustworthy to listeners than just outright stating the baseless claim, since Trump implies that he has direct experience with what he’s talking about. At a base level, Lakoff argues, people are more inclined to believe something that seems to have been shared. Or when Trump keeps calling Clinton \"crooked,\" or keeps referring to terrorists as \"radical Muslims,\" he’s strengthening the association through repetition. He also calls his supporters \"folks,\" to show he is one of them (though many politicians employ this trick). Trump doesn’t repeat phrases and adjectives because he is stalling for time, Liberman says; for the most part, he’s providing emphasis and strengthening the association. These are normal techniques, particularly in conversational speech. \"Is he reading cognitive science? No. He has 50 years of experience as a salesman who doesn’t care who he is selling to,\" Lakoff says. On this account, Trump uses similar methods in his QVC-style pitch of steaks and vodka as when he talks about his plan to stop ISIS.\"He has been doing this for a very long time as a salesman — that’s what he is best at,\" Lakoff says.\"  \n",
    "*This is not to say I agree or disagree with this analysis.*  This is just one example of what we touched on in class. "
   ]
  },
  {
   "cell_type": "markdown",
   "id": "a96e1cb4-90b1-4f3e-9948-6ec6935401ea",
   "metadata": {},
   "source": [
    "10. Perform a frequency analysis that provides evidence for or against the assertion made in the Vox article.\n",
    "Consider tokenizing by unigram (one word), bigram(two words), trigram(three words) or more, or whole sentences or multiple approaches that help us understand the most common Trump linguistic characteristcs. Use your evidence and words to describe what you found. This is a fairly open ask. Don't just execute code. Tell me and show me something interesting!\n",
    "20pts"
   ]
  },
  {
   "cell_type": "code",
   "execution_count": 27,
   "id": "6e47eb57-6ef9-4f1c-bb4e-2127d79bae36",
   "metadata": {},
   "outputs": [
    {
     "data": {
      "image/png": "[encoded data removed]",
      "text/plain": [
       "<Figure size 600x400 with 1 Axes>"
      ]
     },
     "metadata": {},
     "output_type": "display_data"
    }
   ],
   "source": [
    "# Import necessary modules from NLTK for stopword removal, frequency distribution, and tokenization\n",
    "import nltk\n",
    "from nltk.probability import FreqDist\n",
    "from nltk.tokenize import word_tokenize\n",
    "from nltk.corpus import stopwords\n",
    "import requests\n",
    "import matplotlib.pyplot as plt\n",
    "\n",
    "# Fetch the speeches text\n",
    "url = \"https://raw.githubusercontent.com/ryanmcdermott/trump-speeches/master/speeches.txt\"\n",
    "response = requests.get(url)\n",
    "speeches_text = response.text.lower()  # Convert text to lowercase for case-insensitive matching\n",
    "\n",
    "# Tokenize the text into individual words\n",
    "words = word_tokenize(speeches_text)\n",
    "\n",
    "# Define the punctuation marks you want to count\n",
    "marks = ['.', '?', '!']\n",
    "\n",
    "# Filter out only the punctuation marks\n",
    "sent_type = [mark for mark in words if mark in marks]\n",
    "\n",
    "# Create a frequency distribution of the punctuation marks\n",
    "fdist = FreqDist(sent_type)\n",
    "\n",
    "# Total count of all punctuation marks\n",
    "total_punctuations = sum(fdist[mark] for mark in marks)\n",
    "\n",
    "# Calculate the relative frequency for each punctuation mark\n",
    "punctuations = ['.', '?', '!']\n",
    "relative_frequencies = [fdist[mark] / total_punctuations for mark in punctuations]\n",
    "\n",
    "# Plot the relative frequency histogram\n",
    "plt.figure(figsize=(6, 4))\n",
    "plt.bar(punctuations, relative_frequencies, color=['teal', 'green', 'red'])\n",
    "plt.title('Relative Frequency of Punctuation Marks in Trump\\'s Speeches')\n",
    "plt.xlabel('Punctuation')\n",
    "plt.ylabel('Relative Frequency')\n",
    "plt.show()"
   ]
  },
  {
   "cell_type": "code",
   "execution_count": 28,
   "id": "ee3c87bc-304c-4991-b090-d5190699998d",
   "metadata": {},
   "outputs": [
    {
     "name": "stdout",
     "output_type": "stream",
     "text": [
      "15\n",
      "71\n",
      "5967\n"
     ]
    }
   ],
   "source": [
    "from collections import Counter\n",
    "\n",
    "# Fetch the speeches text\n",
    "url = \"https://raw.githubusercontent.com/ryanmcdermott/trump-speeches/master/speeches.txt\"\n",
    "response = requests.get(url)\n",
    "speeches_text = response.text.lower()\n",
    "\n",
    "# Tokenize the text into individual words\n",
    "words = word_tokenize(speeches_text)\n",
    "\n",
    "# Filter out stopwords (case-insensitive)\n",
    "stopwords_list = stopwords.words(\"english\")\n",
    "new_stops = [\",\", \"I\", \".\", \";\", \"-\", \"'\", \":\", \"-\", '', '©', '?', \"’\", \"``\"]  # Including additional symbols to remove\n",
    "stopwords_list.extend(new_stops)\n",
    "\n",
    "clean_trump = [word for word in words if word.lower() not in stopwords_list]\n",
    "\n",
    "# Step 1: Calculate word frequencies using Counter\n",
    "word_freq = Counter(clean_trump)\n",
    "\n",
    "# Step 2: Classify words based on frequency\n",
    "always = [word for word, count in word_freq.items() if count > 500]\n",
    "occasionally = [word for word, count in word_freq.items() if 150 < count <= 500]\n",
    "rarely = [word for word, count in word_freq.items() if count <= 150]\n",
    "\n",
    "# Output the lengths of each category\n",
    "print(len(always))\n",
    "print(len(occasionally))\n",
    "print(len(rarely))"
   ]
  },
  {
   "cell_type": "code",
   "execution_count": 29,
   "id": "368dc466-a766-4804-8858-f014c12d5f52",
   "metadata": {},
   "outputs": [
    {
     "name": "stdout",
     "output_type": "stream",
     "text": [
      "united states\n",
      "hillary clinton\n",
      "going happen\n",
      "going get\n",
      "going win\n",
      "going make\n",
      "think going\n",
      "take care\n",
      "years ago\n",
      "make america\n",
      "number one\n",
      "thank much\n",
      "going take\n",
      "many people\n",
      "people know\n",
      "america great\n",
      "know going\n",
      "lot money\n",
      "lot people\n",
      "donald trump\n"
     ]
    }
   ],
   "source": [
    "import requests\n",
    "from nltk import ngrams\n",
    "from nltk.tokenize import word_tokenize\n",
    "from nltk.corpus import stopwords\n",
    "from collections import Counter\n",
    "import nltk\n",
    "\n",
    "# Download the speeches.txt from the GitHub repository\n",
    "def get_speeches_text():\n",
    "    url = \"https://raw.githubusercontent.com/ryanmcdermott/trump-speeches/master/speeches.txt\"\n",
    "    response = requests.get(url)\n",
    "    speeches_text = response.text.lower()  # Convert text to lowercase for consistency\n",
    "    return speeches_text\n",
    "\n",
    "# Tokenize the text into words\n",
    "def tokenize_text(text):\n",
    "    return word_tokenize(text)\n",
    "\n",
    "# Remove stopwords from the tokenized text\n",
    "def remove_stopwords(tokenized_text):\n",
    "    stop_words = set(stopwords.words(\"english\"))\n",
    "    return [word for word in tokenized_text if word.isalnum() and word not in stop_words]\n",
    "\n",
    "# Extract n-grams from tokenized text (e.g., bigrams, trigrams)\n",
    "def extract_ngrams(tokenized_text, n=2):\n",
    "    return list(ngrams(tokenized_text, n))\n",
    "\n",
    "# Find and count the most common n-grams (phrases)\n",
    "def find_common_phrases(ngrams_list, top_n=10):\n",
    "    phrase_counter = Counter(ngrams_list)\n",
    "    return phrase_counter.most_common(top_n)\n",
    "\n",
    "# Format the n-grams for display\n",
    "def format_ngrams(ngrams):\n",
    "    return [' '.join(ngram) for ngram, count in ngrams]\n",
    "\n",
    "# Main script\n",
    "if __name__ == \"__main__\":\n",
    "    # Get the speeches text\n",
    "    speeches_text = get_speeches_text()\n",
    "\n",
    "    # Tokenize the text\n",
    "    tokenized_text = tokenize_text(speeches_text)\n",
    "\n",
    "    # Remove stopwords\n",
    "    cleaned_text = remove_stopwords(tokenized_text)\n",
    "\n",
    "    # Extract bigrams (change n to 3 for trigrams, etc.)\n",
    "    bigrams = extract_ngrams(cleaned_text, n=2)\n",
    "\n",
    "    # Find the 10 most common bigrams\n",
    "    common_phrases = find_common_phrases(bigrams, top_n=20)\n",
    "\n",
    "    # Format and display the most common bigrams\n",
    "    formatted_phrases = format_ngrams(common_phrases)\n",
    "    for phrase in formatted_phrases:\n",
    "        print(phrase)\n"
   ]
  },
  {
   "cell_type": "markdown",
   "id": "672f112a-9630-4612-94c2-571e961c6cf0",
   "metadata": {},
   "source": [
    "## Comments\n",
    "So I tried 3 different scripts to check Vox's analysis. First I tried to check the relative frequency of Trump's sentences, exclamations, and questions. I initiatlly assumed that if he were to really have a salesman-like speech pattern, he'd have a somewhat high frequency of questions posed during his speeches. But I didn't see that upon analyzing the frequency of the punctuations where statements seem to have dominated. \n",
    "\n",
    "Afterwards I tried to group words together to see how many words he uses more than 500 times, 150 ≤ x < 500 times, and less than 150 times. If he really did repeat things over and over again, staying consistent with the particular themes and agenda he pushes in his speeches. But here too it doesn't seem like he is that repetitive over a lot of words, and among the words that were repeated a lot weren't the kind that implant ideas into people's heads subconsciously. \n",
    "\n",
    "Finally, I wanted to look at the bigrams and see what kind of phrases typically go together, and among them were not the kinds of thing salesmen would say. It definitely purported a populist vocabulary but it wasn't one that was particularly persuasive."
   ]
  },
  {
   "cell_type": "markdown",
   "id": "7e0bd617-57e6-4f8f-bf44-3aba3ebb671c",
   "metadata": {},
   "source": [
    "## 6. Mired in Mango Madness ##\n",
    "20pts\n",
    "\n",
    "Congratulations! In your last semester at Yale, you got a job at the World Bank ! \n",
    "\n",
    "Your first assignment is to address the dearth of good data in Mali on Mango quality and production. Your boss put you on a plane to Mali during the harvest season. You are excited, not only because your boss is annoying and wears too much cologne, but international travel is part of the excitement of an international job. You are excited to see the Great Mosque of Djenne, to watch the sunset from the Bandiagara Cliffs, and to dance the night away to  at Le Byblos. Oh yeah, there is the work too. After a particular \"rough\" night you meet with your colleagues at the office.  You thought you'd be able to just get by making eye contact and nodding while they did most of the work. After all, you are new to the role. No such luck. Your colleagues are thrilled that you can solve their problems by creating an automated call center. Their exact words are, \"The Harvard grad ended up quitting, I'm glad we have someone from Yale here to make things right.\"\n",
    "\n",
    "You are given an office and a computer. You may have slightly overstated your Python coding skills to get the job, but too late now. They ask if you mind if they watch you code. You tell them that you prefer to work alone, although ask them to lunch later to soften the push back. After the initial panic and hangover subsides you think back to your days in intermediate python at Yale, the encouraging words of your caring but demanding prof,  and then a light flashes in your mind and you think, \"I got this.\" \n",
    "\n",
    "You've been tasked with the goal of setting up an automated call center to get data on current market prices, production and quality. There are growers who are both collectives who report these factors, and also smaller growers! Unfortunately, some of these are incentivized to underreport production and prices under the assumption that they will receive more foreign aid. Not all of them though! It's estimated that 10-20% of the self-reporting is innacurate. Callers call the center. Words are processed from speech to text. Text is processed, converted back to speech and then communicated to the caller. \n",
    "\n",
    "There are a few challenges you face: \n",
    "1. The speech to text algo was trained on French, but most of the farmers who call in speak Bambara. You must translate from Bambara to French, and then French to English, because your boss doesn't speak French and wants things in English and is completely unreasonable.\n",
    "2. Sometimes the call just ends, sometimes words are sporadic, sometimes the algo. confuses the word \"child\" and the word \"mango\"\n",
    "3. The call in number was once the number for the infant health hotline. People still use the number to try to get immediate emergency care for their infant. Their calls must be redirected or children could die and it would be your fault, not to mention an international incident.\n",
    "4. The call number is often called by fans and musicians who are given the number by directory assistance because there is a music production company called Mango Mali, a fledgling world music group that markets music from Mali to France.\n",
    "5. You must try to identify who is lying about their crop yield quality and prices.\n",
    "\n",
    "\n",
    "**YOUR MISSION**\n",
    "\n",
    "Write code that accepts the number as an input and then collects user input(in Bambara), translates it to French, and then outputs the data to a csv file in English. Please make sure you write code that addresses the challenges above (1-5). \n",
    "Create use cases to demonstrate that your code works and that you have addressed the basic use case, and that you have addressed challenges 1-5."
   ]
  },
  {
   "cell_type": "code",
   "execution_count": 47,
   "id": "beef55f1-a398-4d34-9647-bf77a6735ad0",
   "metadata": {},
   "outputs": [
    {
     "name": "stdout",
     "output_type": "stream",
     "text": [
      "Welcome to the Mango Call Center System!\n"
     ]
    },
    {
     "name": "stdin",
     "output_type": "stream",
     "text": [
      "Please enter your phone number:  475 439 6534\n",
      "Please enter your report (in Bambara or French):  ne den bananen don\n"
     ]
    },
    {
     "name": "stdout",
     "output_type": "stream",
     "text": [
      "Data logged successfully. Translation: What from Bananen Don\n"
     ]
    },
    {
     "name": "stdin",
     "output_type": "stream",
     "text": [
      "Do you want to log another call? (yes/no):  no\n"
     ]
    },
    {
     "name": "stdout",
     "output_type": "stream",
     "text": [
      "\n",
      "--- CSV Log ---\n",
      "['N bɛ sɔngɔ ni ɲɛni fɛrɛn tɛɛn bɛɛ la', 'N bɛ sɔngɔ ni ɲɛni fɛrɛn tɛ ed b', 'False']\n",
      "['+223123456789', 'Mango quality is good and the yield is high this year.', 'Translated to French: Mango quality is good and the yield is high this year.', 'Translated to English: Translated to French: Mango quality is good and the yield is high this year.', 'False']\n",
      "['+2231122334455', 'The mango yield is extremely low.', 'Translated to French: The mango yield is extremely low.', 'Translated to English: Translated to French: The mango yield is extremely low.', 'True']\n",
      "['+223123456789', 'Mango quality is good and the yield is high this year.', 'Translated to French: Mango quality is good and the yield is high this year.', 'Translated to English: Translated to French: Mango quality is good and the yield is high this year.', 'False']\n",
      "['+2231122334455', 'The mango yield is extremely low.', 'Translated to French: The mango yield is extremely low.', 'Translated to English: Translated to French: The mango yield is extremely low.', 'False']\n",
      "['+223123456789', 'The mango quality is poor.', 'Translated to French: The mango quality is poor.', 'Translated to English: Translated to French: The mango quality is poor.', 'False']\n",
      "['+223123456789', 'Mango quality is poor.', 'Translation error: invalid source language', 'Error translation: Invalid Source Language', 'False']\n",
      "['+223123456789', 'mangoro jogo man ɲi', 'Translation error: invalid source language', 'Error translation: Invalid Source Language', 'False']\n",
      "['20', 'mangoro ye ni', 'Translation Failed', 'Translation Failed', 'True']\n",
      "['20', 'mangoro ye ni', 'Translation Failed', 'Translation Failed', 'False']\n",
      "['20', 'mangoro ye ni', 'Translation Failed', 'Translation Failed', 'False']\n",
      "['20', 'mangoro ye ni', 'la valeur', 'the value', 'False']\n",
      "['20', 'mangoro jogo man', 'Translation Failed', 'Translation Failed', 'False']\n",
      "['20', 'mangoro jogo man', 'mangoro jogo man', 'Mangoro Jogo Man', 'True']\n",
      "['20', 'mangoro ye ni', 'Translation Failed', 'Translation Failed', 'False']\n",
      "['20', 'mangoro ye ni', 'la valeur', 'the value', 'False']\n",
      "['20', 'mangoro jogo man ɲi', \"Le personnage de la mangue n'est pas bon.\", 'The character of the mango is not good.', 'False']\n",
      "['475 439 6534', 'mangoro jogo man ɲi', \"Le personnage de la mangue n'est pas bon.\", 'The character of the mango is not good.', 'False']\n",
      "['0917 528 0833', 'ne den bananen don', 'Quoi de Bananen Don', \"What's Bananen Don\", 'False']\n",
      "['475 439 6534', 'ne den bananen don', 'Quoi de Bananen Don', 'What from Bananen Don', 'False']\n"
     ]
    }
   ],
   "source": [
    "import random\n",
    "import csv\n",
    "from googletrans import Translator\n",
    "\n",
    "# Initialize the translator\n",
    "translator = Translator()\n",
    "\n",
    "# Function to translate a sentence to a specified language\n",
    "def translate_sentence(sentence, src_language_code, target_language_code):\n",
    "    \"\"\"\n",
    "    Translates a given sentence from the source language to the target language using Google Translate.\n",
    "    \n",
    "    Arguments:\n",
    "        sentence (str): The sentence to be translated.\n",
    "        src_language_code (str): The source language code.\n",
    "        target_language_code (str): The target language code.\n",
    "    \n",
    "    Returns:\n",
    "        str: The translated sentence or \"Translation Failed\" if it fails.\n",
    "    \"\"\"\n",
    "    try:\n",
    "        translation = translator.translate(sentence, src=src_language_code, dest=target_language_code)\n",
    "        return translation.text\n",
    "    except Exception as e:\n",
    "        print(f\"Error during translation from {src_language_code} to {target_language_code}: {str(e)}\")\n",
    "        return \"Translation Failed\"\n",
    "\n",
    "# Function to handle the call\n",
    "def handle_call(phone_number, user_input):\n",
    "    # First translate the input from Bambara/French to English\n",
    "    english_translation = translate_sentence(user_input, 'auto', 'en')  # 'auto' detects the source language\n",
    "    \n",
    "    # Define keywords for emergencies and music-related calls\n",
    "    emergency_keywords = [\"infant\", \"child\", \"emergency\"]\n",
    "    music_keywords = [\"music\", \"song\", \"album\"]\n",
    "    \n",
    "    # Check for emergency-related keywords in the English translation\n",
    "    if any(keyword in english_translation.lower() for keyword in emergency_keywords):\n",
    "        return \"This is an emergency call. Redirecting to the infant health hotline.\"\n",
    "    \n",
    "    # Check for music-related keywords in the English translation\n",
    "    if any(keyword in english_translation.lower() for keyword in music_keywords):\n",
    "        return \"This is a music-related call. Redirecting to the Mango Mali Music hotline.\"\n",
    "    \n",
    "    # Translate from Bambara to French (optional, since we already translated to English)\n",
    "    french_translation = translate_sentence(user_input, 'auto', 'fr')\n",
    "    \n",
    "    # Detect incomplete input (if input has less than 3 words)\n",
    "    if len(user_input.split()) < 3:\n",
    "        return \"Call ended prematurely or incomplete input detected. Please try again.\"\n",
    "\n",
    "    # Detect potential false reporting (10-20% chance)\n",
    "    is_false_report = random.choice([True] * 2 + [False] * 8)  # 20% chance of false report\n",
    "    \n",
    "    # Log the data to a CSV file\n",
    "    with open(\"mango_data.csv\", mode=\"a\", newline='') as file:\n",
    "        writer = csv.writer(file)\n",
    "        writer.writerow([\n",
    "            phone_number, \n",
    "            user_input, \n",
    "            french_translation if french_translation else \"Translation Failed\", \n",
    "            english_translation if english_translation else \"Translation Failed\", \n",
    "            is_false_report\n",
    "        ])\n",
    "    \n",
    "    # Return the result to the user\n",
    "    if is_false_report:\n",
    "        return f\"Data logged, but flagged as potentially inaccurate.\"\n",
    "    else:\n",
    "        return f\"Data logged successfully. Translation: {english_translation if english_translation else 'No translation available'}\"\n",
    "\n",
    "# Function to print the CSV file contents\n",
    "def print_csv_file():\n",
    "    print(\"\\n--- CSV Log ---\")\n",
    "    try:\n",
    "        with open(\"mango_data.csv\", mode=\"r\") as file:\n",
    "            reader = csv.reader(file)\n",
    "            for row in reader:\n",
    "                print(row)\n",
    "    except FileNotFoundError:\n",
    "        print(\"No data logged yet. CSV file not found.\")\n",
    "\n",
    "# Main function to collect input from user\n",
    "def main():\n",
    "    print(\"Welcome to the Mango Call Center System!\")\n",
    "    \n",
    "    # Collect phone number (accept any phone number)\n",
    "    phone_number = input(\"Please enter your phone number: \")\n",
    "\n",
    "    # Collect user input (in Bambara or French)\n",
    "    user_input = input(\"Please enter your report (in Bambara or French): \")\n",
    "    \n",
    "    # Handle the call and get the result\n",
    "    result = handle_call(phone_number, user_input)\n",
    "    \n",
    "    # Display result to user\n",
    "    print(result)\n",
    "\n",
    "# Run the main function in a loop to handle multiple calls\n",
    "if __name__ == \"__main__\":\n",
    "    while True:\n",
    "        main()\n",
    "        cont = input(\"Do you want to log another call? (yes/no): \")\n",
    "        if cont.lower() != 'yes':\n",
    "            break\n",
    "\n",
    "    # Print the CSV file content at the end\n",
    "    print_csv_file()"
   ]
  }
 ],
 "metadata": {
  "kernelspec": {
   "display_name": "Python 3 (ipykernel)",
   "language": "python",
   "name": "python3"
  },
  "language_info": {
   "codemirror_mode": {
    "name": "ipython",
    "version": 3
   },
   "file_extension": ".py",
   "mimetype": "text/x-python",
   "name": "python",
   "nbconvert_exporter": "python",
   "pygments_lexer": "ipython3",
   "version": "3.12.4"
  }
 },
 "nbformat": 4,
 "nbformat_minor": 5
}
