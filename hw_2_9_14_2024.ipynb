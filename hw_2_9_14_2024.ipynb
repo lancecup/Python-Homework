{
 "cells": [
  {
   "cell_type": "markdown",
   "id": "4c77a658-43d6-45e6-ab2a-019fcd7b2f66",
   "metadata": {},
   "source": [
    "# Jackson Python Sequences:\n",
    "\n",
    "In Python, sequence is a generic term for an ordered collection of elements. Sequences provide powerful ways to store, access, and manipulate ordered collections of data. We actually have a choice of sequences: lists, tuples, arrays. As a matter of fact a string is a \"sequence\" in that it is an ordered sequence of characters. In sequences, ordered collection of elements, each element is assigned an index based on its position in the sequence, starting with 0. "
   ]
  },
  {
   "cell_type": "markdown",
   "id": "c57b2eaa-6336-4066-b8cb-d989a4c88e06",
   "metadata": {},
   "source": [
    "## Python Sequences: Lists"
   ]
  },
  {
   "cell_type": "markdown",
   "id": "d6db6cb1-566c-4ec5-a282-b3cee064cead",
   "metadata": {},
   "source": [
    "Lists are among the most flexible and widely used data structure in Python. Lists allow you to store sets of information in one place, whether you have just a few items or millions of an item. They are essentially a collection of items in a particular order and you can put anything you want into a list. \n",
    "\n",
    "The syntax is simple: square brackets form the list\n",
    "\n",
    "Each individual item has quotations and is separated by commas."
   ]
  },
  {
   "cell_type": "markdown",
   "id": "74861bd7-cefa-466e-91b1-7a2bb13bc7ef",
   "metadata": {},
   "source": [
    "### Lists: Example\n",
    "\n",
    "Below is a list called aussi_animals with a few types of animals indigenous to Australia."
   ]
  },
  {
   "cell_type": "code",
   "execution_count": 5,
   "id": "64720df8-8bac-45a7-a73e-2678915eacb6",
   "metadata": {},
   "outputs": [
    {
     "name": "stdout",
     "output_type": "stream",
     "text": [
      "<class 'list'>\n"
     ]
    }
   ],
   "source": [
    "aus_animals = [ 'wombats', 'dingos', 'kangaroos', 'wallabees', 'koala']\n",
    "#How can you check to see the type of object you created?\n",
    "print(type(aus_animals))"
   ]
  },
  {
   "cell_type": "markdown",
   "id": "9a7ca54a-c717-47e8-bda1-9bdc495f902c",
   "metadata": {
    "jp-MarkdownHeadingCollapsed": true
   },
   "source": [
    "1. Create a list of the UN Security Council Members and assign it the variable un_sc"
   ]
  },
  {
   "cell_type": "code",
   "execution_count": 9,
   "id": "4ceadf24-4ea6-4919-8cfd-206c0d827b66",
   "metadata": {},
   "outputs": [],
   "source": [
    "# your code here:\n",
    "\n",
    "un_sc = [\"China\", \"France\", \"Russian Federation\", \"United Kingdom\", \"United States\"]"
   ]
  },
  {
   "cell_type": "markdown",
   "id": "262507b8-4c6d-4e12-aeac-ecd12b427a11",
   "metadata": {},
   "source": [
    "2. What is the type of the variable un_sc?"
   ]
  },
  {
   "cell_type": "code",
   "execution_count": 11,
   "id": "3709eac4-d752-4666-acf5-9cf0aa417356",
   "metadata": {},
   "outputs": [
    {
     "name": "stdout",
     "output_type": "stream",
     "text": [
      "<class 'list'>\n"
     ]
    }
   ],
   "source": [
    "# your code here:\n",
    "\n",
    "print(type(un_sc))\n",
    "\n",
    "# It's a list"
   ]
  },
  {
   "cell_type": "markdown",
   "id": "deb05db0-c7db-4de1-a660-dfef6cfbe02d",
   "metadata": {},
   "source": [
    "3. What is the length of the variable un_sc?"
   ]
  },
  {
   "cell_type": "code",
   "execution_count": 13,
   "id": "dd8e2ae0-521b-481c-8b3d-0c66c16a64e6",
   "metadata": {},
   "outputs": [
    {
     "name": "stdout",
     "output_type": "stream",
     "text": [
      "5\n"
     ]
    }
   ],
   "source": [
    "# your code here:\n",
    "\n",
    "print(len(un_sc))"
   ]
  },
  {
   "cell_type": "markdown",
   "id": "f052de4f-38dc-4988-90a9-e2cdae2a4528",
   "metadata": {},
   "source": [
    "## Another Way to Make a List. the list() method\n",
    "So, we saw that we can make a list using square brackets. We can also make a list using the list() function"
   ]
  },
  {
   "cell_type": "code",
   "execution_count": 15,
   "id": "f7017268-0f9d-4b63-950a-3abe6974d7c7",
   "metadata": {},
   "outputs": [
    {
     "name": "stdout",
     "output_type": "stream",
     "text": [
      "[1, 2, 3, 4]\n"
     ]
    }
   ],
   "source": [
    "#4. Run this please: \n",
    "nums = list((1,2,3,4))\n",
    "print(nums)"
   ]
  },
  {
   "cell_type": "markdown",
   "id": "3a953304-c174-489d-8292-469832745b25",
   "metadata": {},
   "source": [
    "That worked for numbers! Would it work the same for strings? Sure it does!"
   ]
  },
  {
   "cell_type": "code",
   "execution_count": 17,
   "id": "f9241148-3648-4aeb-8c5c-8b951a32bdbc",
   "metadata": {},
   "outputs": [
    {
     "name": "stdout",
     "output_type": "stream",
     "text": [
      "['Austin', 'Deven', 'Chris', 'Oliver', 'Nancy', 'Dana', 'Shreya']\n"
     ]
    }
   ],
   "source": [
    "#5. Run this please: \n",
    "students = list(('Austin', 'Deven', 'Chris', 'Oliver', 'Nancy', 'Dana', 'Shreya'))\n",
    "print(students)"
   ]
  },
  {
   "cell_type": "markdown",
   "id": "ad4b4c5d-5705-47c8-8a23-219e785db618",
   "metadata": {},
   "source": [
    "## Accessing Elements in a List\n",
    "\n",
    "As with strings, lists can be accessed by index. To access an element in a list, write the name of the list, followed by the index of an item in square brackets. \n"
   ]
  },
  {
   "cell_type": "code",
   "execution_count": 25,
   "id": "37cd1d95-71a5-4f1a-9947-642fe1eed7fd",
   "metadata": {},
   "outputs": [
    {
     "name": "stdout",
     "output_type": "stream",
     "text": [
      "dingos\n"
     ]
    }
   ],
   "source": [
    "#6 Example, run this please:\n",
    "aus_animals = ['wombats', 'dingos', 'kangaroos', 'wallabees', 'koala']\n",
    "print(aus_animals[1])"
   ]
  },
  {
   "cell_type": "markdown",
   "id": "00cd4ffc-f49c-47b6-81b7-0ea5a0e94ad7",
   "metadata": {},
   "source": [
    "Recall, Python indexing starts with 0. So it makes sense that the item in position 1 would be dingos.\n",
    "As we can see, Python returns the item without brackets of quotations. So what is the type of this object returned?"
   ]
  },
  {
   "cell_type": "code",
   "execution_count": 27,
   "id": "091cbd85-4729-49e2-8c9e-945469db2b49",
   "metadata": {},
   "outputs": [
    {
     "name": "stdout",
     "output_type": "stream",
     "text": [
      "<class 'str'>\n"
     ]
    }
   ],
   "source": [
    "7.  #your answer here:\n",
    "print(type(aus_animals[1]))"
   ]
  },
  {
   "cell_type": "markdown",
   "id": "888e812e-5c1c-4aef-a6ba-ad7a58b12fe3",
   "metadata": {},
   "source": [
    "Yes, a string! So we can call string methods on the item using it's index in a list"
   ]
  },
  {
   "cell_type": "code",
   "execution_count": 29,
   "id": "130b4f17-d2c3-42e4-9b86-da576f245042",
   "metadata": {},
   "outputs": [
    {
     "name": "stdout",
     "output_type": "stream",
     "text": [
      "Dingos\n",
      "Kangaroos\n"
     ]
    }
   ],
   "source": [
    "#8 Run this example please:\n",
    "print(aus_animals[1].capitalize())\n",
    "print(aus_animals[2].title())"
   ]
  },
  {
   "cell_type": "code",
   "execution_count": 36,
   "id": "e97d38e8-7791-40ed-ad8e-5f62c414b6c8",
   "metadata": {},
   "outputs": [
    {
     "name": "stdout",
     "output_type": "stream",
     "text": [
      "['CHINA', 'FRANCE', 'RUSSIA', 'UNITED STATES OF AMERICA', 'UNITED KINGDOM']\n"
     ]
    }
   ],
   "source": [
    "# Let's say we wanted to make all of the countries in our un_sc variable all caps. One way to do it is like this:\n",
    "   \n",
    "un_sc = ['china', 'france', 'russia', 'united states of america','united kingdom']\n",
    "\n",
    "# Use indexing to convert each element to uppercase\n",
    "un_sc[0] = un_sc[0].upper()\n",
    "\n",
    "un_sc[1] = un_sc[1].upper()\n",
    "\n",
    "un_sc[2] = un_sc[2].upper()\n",
    "\n",
    "un_sc[3] = un_sc[3].upper()\n",
    "un_sc[4] = un_sc[4].upper()\n",
    "\n",
    "print(un_sc)"
   ]
  },
  {
   "cell_type": "markdown",
   "id": "626000af-545a-457f-80fd-659150f9aaf9",
   "metadata": {},
   "source": [
    "## For loop with lists\n",
    "This is where our for loop could come in handy. A faster way is to automate the uppercase method, taking each element in the list and applying the upper method to it (iterating through the list) and then saving the new uppercase country to a new list. "
   ]
  },
  {
   "cell_type": "code",
   "execution_count": null,
   "id": "0e758e1c-4271-4394-b2a6-aa78f3167ce6",
   "metadata": {},
   "outputs": [],
   "source": [
    "#Let's iterate through the list and print the results making each element uppercase"
   ]
  },
  {
   "cell_type": "code",
   "execution_count": 38,
   "id": "765d2f71-02e8-468e-9ab6-e8d3a580e8a1",
   "metadata": {},
   "outputs": [
    {
     "name": "stdout",
     "output_type": "stream",
     "text": [
      "CHINA\n",
      "FRANCE\n",
      "RUSSIA\n",
      "UNITED STATES OF AMERICA\n",
      "UNITED KINGDOM\n"
     ]
    }
   ],
   "source": [
    "#9. Run this please:\n",
    "un_sc = ['china', 'france', 'russia', 'united states of america','united kingdom']\n",
    "for country in un_sc:\n",
    "    print(country.upper())"
   ]
  },
  {
   "cell_type": "code",
   "execution_count": null,
   "id": "6239fb62-87fc-456c-a0f9-ea8927fc1931",
   "metadata": {},
   "outputs": [],
   "source": [
    "10. What would happen if I printed un_sc? Have you changed this list?"
   ]
  },
  {
   "cell_type": "code",
   "execution_count": 40,
   "id": "14425391-539c-47aa-b2a0-32f89e697205",
   "metadata": {},
   "outputs": [
    {
     "name": "stdout",
     "output_type": "stream",
     "text": [
      "['china', 'france', 'russia', 'united states of america', 'united kingdom']\n"
     ]
    }
   ],
   "source": [
    "#Your answer here using sentences: \n",
    "print(un_sc)\n",
    "\n",
    "# It is still the original list"
   ]
  },
  {
   "cell_type": "markdown",
   "id": "44df7380-045a-401d-88cb-dc9d37a3751b",
   "metadata": {},
   "source": [
    "You may be wondering...can I just do it this way\n"
   ]
  },
  {
   "cell_type": "code",
   "execution_count": 52,
   "id": "2a26ffb6-e563-4a7c-8d4f-f2298195327c",
   "metadata": {},
   "outputs": [
    {
     "name": "stdout",
     "output_type": "stream",
     "text": [
      "['china', 'france', 'russia', 'united states of america', 'united kingdom']\n"
     ]
    }
   ],
   "source": [
    "un_sc = ['china', 'france', 'russia', 'united states of america','united kingdom']\n",
    "for country in un_sc:\n",
    "    country.upper()\n",
    "print(un_sc)"
   ]
  },
  {
   "cell_type": "markdown",
   "id": "df604858-5eab-406e-88bd-1faffe1acb17",
   "metadata": {},
   "source": [
    "11. What did the previous code produce? Why? Your answer here using sentences: The previous code printed the list in the original lowercase form since we didn't reassign it to be uppercase."
   ]
  },
  {
   "cell_type": "markdown",
   "id": "7ac4579f-8e91-4de9-881e-49e5c42c4eb6",
   "metadata": {},
   "source": [
    "How about this way (below)? Will this work?"
   ]
  },
  {
   "cell_type": "code",
   "execution_count": 62,
   "id": "f0fb6702-a32d-41b8-9d54-777e40d69e4e",
   "metadata": {},
   "outputs": [
    {
     "name": "stdout",
     "output_type": "stream",
     "text": [
      "UNITED KINGDOM\n"
     ]
    }
   ],
   "source": [
    "un_sc = ['china', 'france', 'russia', 'united states of america','united kingdom']\n",
    "for country in un_sc:\n",
    "    un_sc_upper = country.upper()\n",
    "print(un_sc_upper)"
   ]
  },
  {
   "cell_type": "markdown",
   "id": "907c046e-0277-486f-bbb0-8bde6557e4d8",
   "metadata": {},
   "source": [
    "12. What result does the previous cell return? Why didn't it make each element in un_sc uppercase? Your answer here:\n",
    "\n",
    "The previous cell just returns the uppercase form of the United Kingdom string, this happens because the for loop reassigns (and thus rewrites) the value of un_sc_upper. Since the UK is the last term of the list, it will be what was last assigned to the variable in the loop."
   ]
  },
  {
   "cell_type": "markdown",
   "id": "d62a61c5-df13-4096-8889-22e610413cf2",
   "metadata": {},
   "source": [
    "## Correct Way to Iterate and Make a New List: Make an Empty List and \"Append\" to it! "
   ]
  },
  {
   "cell_type": "code",
   "execution_count": 67,
   "id": "9a399102-fabe-4e9c-a6f5-b4dbc3466862",
   "metadata": {},
   "outputs": [
    {
     "name": "stdout",
     "output_type": "stream",
     "text": [
      "['CHINA']\n",
      "['CHINA', 'FRANCE']\n",
      "['CHINA', 'FRANCE', 'RUSSIA']\n",
      "['CHINA', 'FRANCE', 'RUSSIA', 'UNITED STATES OF AMERICA']\n",
      "['CHINA', 'FRANCE', 'RUSSIA', 'UNITED STATES OF AMERICA', 'UNITED KINGDOM']\n"
     ]
    }
   ],
   "source": [
    "# 13, Run this please\n",
    "#first initialize and empty list\n",
    "un_sc_upper = []\n",
    "\n",
    "#then iterate through the list, then make each element an uppercase and add it (append it) to the empty list.\n",
    "\n",
    "un_sc = ['china', 'france', 'russia', 'united states of america','united kingdom']\n",
    "for country in un_sc:\n",
    "    un_sc_upper.append(country.upper())\n",
    "    print(un_sc_upper)"
   ]
  },
  {
   "cell_type": "markdown",
   "id": "3aa34855-29f3-49d2-959d-0ea3f0b460f1",
   "metadata": {},
   "source": [
    "## What if I wanted to only grab certain countries that stated with 'u'? We can use a conditional and the append method"
   ]
  },
  {
   "cell_type": "markdown",
   "id": "596eb5f1-9cf7-4891-a9c2-b5b758fbb579",
   "metadata": {},
   "source": [
    "#14. Create a for loop. Using an if, else construction in your for loop, append countries to a list called 'u_countries' and append the rest of the countries to a list called 'non_u_countries'."
   ]
  },
  {
   "cell_type": "code",
   "execution_count": 73,
   "id": "86fda968-8120-4646-8f26-b7087e8dbdf6",
   "metadata": {},
   "outputs": [
    {
     "name": "stdout",
     "output_type": "stream",
     "text": [
      "['united states of america', 'united kingdom']\n",
      "['china', 'france', 'russia']\n"
     ]
    }
   ],
   "source": [
    "#Your code here:\n",
    "\n",
    "u_countries = []\n",
    "non_u_countries = []\n",
    "\n",
    "for country in un_sc:\n",
    "    if country.startswith('u'):\n",
    "        u_countries.append(country)\n",
    "    else:\n",
    "        non_u_countries.append(country)\n",
    "\n",
    "print(u_countries)\n",
    "print(non_u_countries)"
   ]
  },
  {
   "cell_type": "markdown",
   "id": "47176073-aedd-45f8-8ca3-a41d7260fa34",
   "metadata": {},
   "source": [
    "## Adding to a list\n",
    "We can also use append to add an element to a list. For example, let's say we wanted to add Josh to our list of students.\n"
   ]
  },
  {
   "cell_type": "code",
   "execution_count": 75,
   "id": "9a5b6d4f-0651-4ba6-b3bc-25b4302129f9",
   "metadata": {},
   "outputs": [
    {
     "name": "stdout",
     "output_type": "stream",
     "text": [
      "['Austin', 'Deven', 'Chris', 'Oliver', 'Nancy', 'Dana', 'Shreya', 'Josh']\n"
     ]
    }
   ],
   "source": [
    "15. #Please run the following code:\n",
    "students = list(('Austin', 'Deven', 'Chris', 'Oliver', 'Nancy', 'Dana', 'Shreya'))\n",
    "students.append('Josh')\n",
    "print(students)"
   ]
  },
  {
   "cell_type": "markdown",
   "id": "5bdbe5cd-89af-45ad-b3a5-8b74d5dfa5d4",
   "metadata": {},
   "source": [
    "What if we wanted to add several students to our list? We use the extend method! "
   ]
  },
  {
   "cell_type": "code",
   "execution_count": 79,
   "id": "8613b4af-3064-44cb-bec9-866eb44343a6",
   "metadata": {},
   "outputs": [
    {
     "ename": "TypeError",
     "evalue": "list.append() takes exactly one argument (2 given)",
     "output_type": "error",
     "traceback": [
      "\u001b[0;31m---------------------------------------------------------------------------\u001b[0m",
      "\u001b[0;31mTypeError\u001b[0m                                 Traceback (most recent call last)",
      "Cell \u001b[0;32mIn[79], line 3\u001b[0m\n\u001b[1;32m      1\u001b[0m \u001b[38;5;66;03m#16. Will this work? Please run this code:\u001b[39;00m\n\u001b[1;32m      2\u001b[0m students \u001b[38;5;241m=\u001b[39m \u001b[38;5;28mlist\u001b[39m((\u001b[38;5;124m'\u001b[39m\u001b[38;5;124mAustin\u001b[39m\u001b[38;5;124m'\u001b[39m, \u001b[38;5;124m'\u001b[39m\u001b[38;5;124mDeven\u001b[39m\u001b[38;5;124m'\u001b[39m, \u001b[38;5;124m'\u001b[39m\u001b[38;5;124mChris\u001b[39m\u001b[38;5;124m'\u001b[39m, \u001b[38;5;124m'\u001b[39m\u001b[38;5;124mOliver\u001b[39m\u001b[38;5;124m'\u001b[39m, \u001b[38;5;124m'\u001b[39m\u001b[38;5;124mNancy\u001b[39m\u001b[38;5;124m'\u001b[39m, \u001b[38;5;124m'\u001b[39m\u001b[38;5;124mDana\u001b[39m\u001b[38;5;124m'\u001b[39m, \u001b[38;5;124m'\u001b[39m\u001b[38;5;124mShreya\u001b[39m\u001b[38;5;124m'\u001b[39m))\n\u001b[0;32m----> 3\u001b[0m students\u001b[38;5;241m.\u001b[39mappend(\u001b[38;5;124m'\u001b[39m\u001b[38;5;124mDidace\u001b[39m\u001b[38;5;124m'\u001b[39m, \u001b[38;5;124m'\u001b[39m\u001b[38;5;124mJennifer\u001b[39m\u001b[38;5;124m'\u001b[39m)\n\u001b[1;32m      4\u001b[0m \u001b[38;5;28mprint\u001b[39m(students)\n",
      "\u001b[0;31mTypeError\u001b[0m: list.append() takes exactly one argument (2 given)"
     ]
    }
   ],
   "source": [
    "#16. Will this work? Please run this code:\n",
    "students = list(('Austin', 'Deven', 'Chris', 'Oliver', 'Nancy', 'Dana', 'Shreya'))\n",
    "students.append('Didace', 'Jennifer')\n",
    "print(students)"
   ]
  },
  {
   "cell_type": "code",
   "execution_count": null,
   "id": "1d6458c3-de33-436b-98da-e6127fa85b55",
   "metadata": {},
   "outputs": [],
   "source": [
    "#What error did this return? How do interpret it? Your answer here: \n",
    "# The append function can only take one argument but we instead input both two arguments \n",
    "# which was \"Didace\" and \"Jennifer\""
   ]
  },
  {
   "cell_type": "code",
   "execution_count": 81,
   "id": "86914d45-eceb-4176-8610-699c49a36644",
   "metadata": {},
   "outputs": [
    {
     "name": "stdout",
     "output_type": "stream",
     "text": [
      "['Austin', 'Deven', 'Chris', 'Oliver', 'Nancy', 'Dana', 'Shreya', 'Didace', 'Jennifer']\n"
     ]
    }
   ],
   "source": [
    "#17. Extend works. But we must pass multiple elements to the extend function as a list.\n",
    "#Please run this code and make sure it works.\n",
    "students = list(('Austin', 'Deven', 'Chris', 'Oliver', 'Nancy', 'Dana', 'Shreya'))\n",
    "students.extend(['Didace', 'Jennifer'])\n",
    "print(students)"
   ]
  },
  {
   "cell_type": "code",
   "execution_count": 85,
   "id": "e8c3f9da-e3d1-4d94-86e9-7119f7b7e051",
   "metadata": {},
   "outputs": [
    {
     "name": "stdout",
     "output_type": "stream",
     "text": [
      "['Austin', 'Chris', 'Oliver', 'Nancy', 'Dana', 'Shreya', 'Anoushka', 'Aishwarya', 'E', 'v', 'e']\n"
     ]
    }
   ],
   "source": [
    "#18. Extend can be used to add a list of elelments, a tuple(tuple...we will get to it!) of elements and even a string.\n",
    "# Please read this code and run it.\n",
    "\n",
    "#Initial list of students\n",
    "students = ['Austin', 'Chris', 'Oliver', 'Nancy']\n",
    "\n",
    "# Extending the list with another list\n",
    "new_students_list = ['Dana', 'Shreya']\n",
    "students.extend(new_students_list)\n",
    "\n",
    "# Extending the list with a tuple\n",
    "new_students_tuple = ('Anoushka', 'Aishwarya')\n",
    "students.extend(new_students_tuple)\n",
    "\n",
    "# Extending the list with a string (each character will be added as a separate element)\n",
    "new_students_string = \"Eve\"\n",
    "students.extend(new_students_string)\n",
    "\n",
    "# Final list\n",
    "print(students)"
   ]
  },
  {
   "cell_type": "markdown",
   "id": "7af48828-32c8-40f8-abd6-0d94c15b406a",
   "metadata": {},
   "source": [
    "## What's a Tuple?\n",
    "\n",
    "A tuple in Python is an immutable, ordered collection of elements, similar to a list. However, unlike lists, tuples cannot be modified after they are created, meaning you cannot add, remove, or change elements once the tuple is defined.\n",
    "\n",
    "Key Characteristics of Tuples:\n",
    "\n",
    "Ordered: The elements in a tuple are ordered, and you can access them using an index (just like in lists).\n",
    "\n",
    "Immutable: Once a tuple is created, its contents cannot be changed (i.e., no adding, removing, or changing elements). But as we saw above, a tuple can be added to a list. \n",
    "\n",
    "Can contain mixed data types: A tuple can hold elements of different types, such as integers, strings, floats, and even other tuples or lists.\n",
    "\n",
    "Indexable and iterable: You can access elements using an index and iterate over the elements using a loop.\n",
    "\n",
    "Allows duplicates: Tuples can contain duplicate elements, just like lists"
   ]
  },
  {
   "cell_type": "markdown",
   "id": "8a7b3d9c-68ce-4fe0-bd72-b1517610cd1c",
   "metadata": {},
   "source": [
    "### Creating a Tuple:\n",
    "Tuples are created by enclosing the elements inside parentheses () and separating them by commas."
   ]
  },
  {
   "cell_type": "code",
   "execution_count": 92,
   "id": "0a225643-190e-4228-b20f-f42188e1c92f",
   "metadata": {},
   "outputs": [
    {
     "name": "stdout",
     "output_type": "stream",
     "text": [
      "(1, 'apple', 3.14, 'banana')\n",
      "apple\n",
      "<class 'tuple'>\n"
     ]
    }
   ],
   "source": [
    "# Creating a tuple with mixed data types\n",
    "my_tuple = (1, 'apple', 3.14, 'banana')\n",
    "\n",
    "print(my_tuple)       # Output: (1, 'apple', 3.14, 'banana')\n",
    "print(my_tuple[1])    # Output: 'apple'\n",
    "\n",
    "print(type(my_tuple))"
   ]
  },
  {
   "cell_type": "code",
   "execution_count": 104,
   "id": "09c1f7a0-563f-42df-80e7-79b017183a25",
   "metadata": {},
   "outputs": [
    {
     "name": "stdout",
     "output_type": "stream",
     "text": [
      "['Bach', 'Joplin', 'Debussy', 'Isang', 'Rachmaninoff']\n"
     ]
    }
   ],
   "source": [
    "## Okay back to lists: other ways to add elements.\n",
    "#Please run this code\n",
    "\n",
    "composers = []\n",
    "composers.append('Bach')\n",
    "composers.append('Joplin')\n",
    "composers.append('Debussy')\n",
    "composers.append('Isang')\n",
    "composers.append('Rachmaninoff')\n",
    "print(composers)\n"
   ]
  },
  {
   "cell_type": "code",
   "execution_count": 106,
   "id": "ebce7cd4-6f86-4dba-a3b5-f9f38166f02b",
   "metadata": {},
   "outputs": [
    {
     "name": "stdout",
     "output_type": "stream",
     "text": [
      "['Bach', 'Michael', 'Joplin', 'Debussy', 'Isang', 'Rachmaninoff']\n"
     ]
    }
   ],
   "source": [
    "#What if I wanted to add a composer to the list but not at the end? Insert takes two arguments, index position, and element.\n",
    "\n",
    "composers.insert(1, \"Michael\")\n",
    "print(composers)\n"
   ]
  },
  {
   "cell_type": "code",
   "execution_count": 108,
   "id": "72a88e42-de57-462e-9b9f-c357f3d66b7c",
   "metadata": {},
   "outputs": [
    {
     "name": "stdout",
     "output_type": "stream",
     "text": [
      "['Bach', 'Michael', 'Bhoi', 'Joplin', 'Debussy', 'Isang', 'Rachmaninoff']\n"
     ]
    }
   ],
   "source": [
    "#19. Please run this code\n",
    "\n",
    "composers.insert(2, 'Bhoi')\n",
    "print(composers)"
   ]
  },
  {
   "cell_type": "code",
   "execution_count": 110,
   "id": "b41cfbb6-f9d5-4639-9fdf-5a70044247c0",
   "metadata": {},
   "outputs": [
    {
     "name": "stdout",
     "output_type": "stream",
     "text": [
      "['Bach', 'Dikshitar', 'Michael', 'Saz', 'Bhoi', 'Joplin', 'Debussy', 'Isang', 'Rachmaninoff']\n"
     ]
    }
   ],
   "source": [
    "#20. Can you insert more than one element at a time?\n",
    "#Please insert Dikshitar in position 1 and Saz in position 3 to your composer list in position.\n",
    "# Your answer yes or no to the first question. And write code here:\n",
    "\n",
    "# composers.insert(1&3, 'Dikshitar'&\"Saz\") No\n",
    "\n",
    "composers.insert(1, \"Dikshitar\")\n",
    "composers.insert(3, \"Saz\")\n",
    "\n",
    "print(composers)"
   ]
  },
  {
   "cell_type": "markdown",
   "id": "bb801ad1-574d-4560-a477-5930b3bf8d94",
   "metadata": {},
   "source": [
    "## Sort the previous list alphabetically: Sort and Sorted!\n",
    "The primary difference between the list sort() and the sorted () function is that the sort() function will modifu the list it is called on. The sorted() function will create a new list containing a sorted version of the list it is given. The sorted() function will not modify the list passed as a parameter. If you want to sort a list but still have the original unsorted version, then you would use the sorted() funciton. If maintaing the orifinal order of the lis tis unimportant, then you can call the sort () function on the list."
   ]
  },
  {
   "cell_type": "code",
   "execution_count": 112,
   "id": "da55bbb8-7288-4361-a322-00183db7b66d",
   "metadata": {},
   "outputs": [
    {
     "name": "stdout",
     "output_type": "stream",
     "text": [
      "['Bach', 'Bhoi', 'Debussy', 'Dikshitar', 'Isang', 'Joplin', 'Michael', 'Rachmaninoff', 'Saz']\n",
      "['Bach', 'Dikshitar', 'Michael', 'Saz', 'Bhoi', 'Joplin', 'Debussy', 'Isang', 'Rachmaninoff']\n"
     ]
    }
   ],
   "source": [
    "#21. Please run this code:\n",
    "sorted_composers = sorted(composers)\n",
    "print(sorted_composers)\n",
    "print(composers)\n",
    "#note we have done nothing to alter our first list."
   ]
  },
  {
   "cell_type": "code",
   "execution_count": 114,
   "id": "989b5f5f-be03-45c2-a5bd-f84557e4c95d",
   "metadata": {},
   "outputs": [
    {
     "name": "stdout",
     "output_type": "stream",
     "text": [
      "['Bach', 'Bhoi', 'Debussy', 'Dikshitar', 'Isang', 'Joplin', 'Michael', 'Rachmaninoff', 'Saz']\n"
     ]
    }
   ],
   "source": [
    "#22. Please run this code:\n",
    "composers.sort()\n",
    "#Will permanently alter the order of your list\n",
    "print(composers)"
   ]
  },
  {
   "cell_type": "code",
   "execution_count": 136,
   "id": "b11fd2b7-5dcf-470f-a8c0-ec6b8de29be2",
   "metadata": {},
   "outputs": [
    {
     "name": "stdout",
     "output_type": "stream",
     "text": [
      "[706, 774, 847, 322, 323, 350, 855, 555, 537, 133, 262, 266, 705, 672, 251, 346, 814, 748, 935, 560, 647, 493, 91, 294, 344, 475, 415, 298, 662, 507, 795, 916, 876, 715, 240, 875, 243, 652, 458, 72, 781, 329, 68, 844, 830, 399, 526, 837, 220, 934, 863, 414, 936, 19, 442, 984, 234, 596, 734, 153, 267, 832, 342, 803, 702, 964, 550, 619, 644, 658, 511, 515, 443, 46, 779, 548, 622, 334, 623, 214, 300, 524, 756, 167, 633, 982, 574, 16, 713, 817, 144, 811, 912, 446, 667, 24, 476, 546, 543, 852, 349, 403, 754, 603, 313, 374, 125, 147, 270, 788, 260, 825, 498, 826, 969, 878, 45, 81, 76, 673, 712, 302, 959, 999, 417, 338, 787, 834, 739, 727, 154, 410, 389, 53, 78, 278, 682, 303, 71, 822, 582, 354, 689, 584, 281, 972, 791, 392, 188, 393, 495, 468, 269, 63, 879, 831, 592, 121, 675, 245, 590, 799, 611, 905, 465, 762, 404, 49, 506, 432, 169, 236, 806, 412, 677, 932, 922, 83, 812, 873, 256, 34, 287, 516, 60, 968, 585, 69, 178, 899, 797, 796, 239, 283, 772, 395, 126, 15, 522, 32, 800, 771, 973, 93, 849, 64, 947, 174, 690, 948, 510, 51, 171, 848, 605, 945, 805, 928, 707, 208, 460, 337, 114, 118, 249, 638, 861, 904, 977, 250, 408, 324, 709, 151, 979, 573, 892, 461, 569, 291, 237, 288, 271, 439, 373, 335, 50, 429, 248, 382]\n",
      "[15, 16, 19, 24, 32, 34, 45, 46, 49, 50, 51, 53, 60, 63, 64, 68, 69, 71, 72, 76, 78, 81, 83, 91, 93, 114, 118, 121, 125, 126, 133, 144, 147, 151, 153, 154, 167, 169, 171, 174, 178, 188, 208, 214, 220, 234, 236, 237, 239, 240, 243, 245, 248, 249, 250, 251, 256, 260, 262, 266, 267, 269, 270, 271, 278, 281, 283, 287, 288, 291, 294, 298, 300, 302, 303, 313, 322, 323, 324, 329, 334, 335, 337, 338, 342, 344, 346, 349, 350, 354, 373, 374, 382, 389, 392, 393, 395, 399, 403, 404, 408, 410, 412, 414, 415, 417, 429, 432, 439, 442, 443, 446, 458, 460, 461, 465, 468, 475, 476, 493, 495, 498, 506, 507, 510, 511, 515, 516, 522, 524, 526, 537, 543, 546, 548, 550, 555, 560, 569, 573, 574, 582, 584, 585, 590, 592, 596, 603, 605, 611, 619, 622, 623, 633, 638, 644, 647, 652, 658, 662, 667, 672, 673, 675, 677, 682, 689, 690, 702, 705, 706, 707, 709, 712, 713, 715, 727, 734, 739, 748, 754, 756, 762, 771, 772, 774, 779, 781, 787, 788, 791, 795, 796, 797, 799, 800, 803, 805, 806, 811, 812, 814, 817, 822, 825, 826, 830, 831, 832, 834, 837, 844, 847, 848, 849, 852, 855, 861, 863, 873, 875, 876, 878, 879, 892, 899, 904, 905, 912, 916, 922, 928, 932, 934, 935, 936, 945, 947, 948, 959, 964, 968, 969, 972, 973, 977, 979, 982, 984, 999]\n"
     ]
    }
   ],
   "source": [
    "#23. Please create a new list of numbers, but do not change the original list. Please first, \n",
    "#print the numbers to confirm the code to generate them worked.\n",
    "import random\n",
    "# this line of code allows me to create a 250 long list of random numbers between 10 and 1000.\n",
    "numbers = random.sample(range(10,1000), 250)\n",
    "print(numbers)\n",
    "#Your code here:\n",
    "\n",
    "new_numbers = sorted(numbers)\n",
    "print(new_numbers)"
   ]
  },
  {
   "cell_type": "code",
   "execution_count": 138,
   "id": "667ae8f2-2e90-430e-9305-2f3559cb0ef7",
   "metadata": {},
   "outputs": [
    {
     "name": "stdout",
     "output_type": "stream",
     "text": [
      "250\n"
     ]
    }
   ],
   "source": [
    "#24. How long is the list?\n",
    "#Your code here:\n",
    "print(len(new_numbers))"
   ]
  },
  {
   "cell_type": "code",
   "execution_count": 140,
   "id": "0190f9f7-6e46-45e7-b91d-c75369f8633f",
   "metadata": {},
   "outputs": [
    {
     "name": "stdout",
     "output_type": "stream",
     "text": [
      "[999, 984, 982, 979, 977, 973, 972, 969, 968, 964, 959, 948, 947, 945, 936, 935, 934, 932, 928, 922, 916, 912, 905, 904, 899, 892, 879, 878, 876, 875, 873, 863, 861, 855, 852, 849, 848, 847, 844, 837, 834, 832, 831, 830, 826, 825, 822, 817, 814, 812, 811, 806, 805, 803, 800, 799, 797, 796, 795, 791, 788, 787, 781, 779, 774, 772, 771, 762, 756, 754, 748, 739, 734, 727, 715, 713, 712, 709, 707, 706, 705, 702, 690, 689, 682, 677, 675, 673, 672, 667, 662, 658, 652, 647, 644, 638, 633, 623, 622, 619, 611, 605, 603, 596, 592, 590, 585, 584, 582, 574, 573, 569, 560, 555, 550, 548, 546, 543, 537, 526, 524, 522, 516, 515, 511, 510, 507, 506, 498, 495, 493, 476, 475, 468, 465, 461, 460, 458, 446, 443, 442, 439, 432, 429, 417, 415, 414, 412, 410, 408, 404, 403, 399, 395, 393, 392, 389, 382, 374, 373, 354, 350, 349, 346, 344, 342, 338, 337, 335, 334, 329, 324, 323, 322, 313, 303, 302, 300, 298, 294, 291, 288, 287, 283, 281, 278, 271, 270, 269, 267, 266, 262, 260, 256, 251, 250, 249, 248, 245, 243, 240, 239, 237, 236, 234, 220, 214, 208, 188, 178, 174, 171, 169, 167, 154, 153, 151, 147, 144, 133, 126, 125, 121, 118, 114, 93, 91, 83, 81, 78, 76, 72, 71, 69, 68, 64, 63, 60, 53, 51, 50, 49, 46, 45, 34, 32, 24, 19, 16, 15]\n"
     ]
    }
   ],
   "source": [
    "#25. Now reverse your list\n",
    "#Your code here:\n",
    "\n",
    "new_numbers.reverse()\n",
    "\n",
    "print(new_numbers)"
   ]
  },
  {
   "cell_type": "markdown",
   "id": "87fbe068-21a8-4f11-8a95-35d8223ac65e",
   "metadata": {},
   "source": [
    "## We learned to add elements, let's talk about how to get rid of them. There are three ways.\n",
    "1. del (by index)\n",
    "\n",
    "2. pop(last item)\n",
    "\n",
    "3. remove(by item name)"
   ]
  },
  {
   "cell_type": "code",
   "execution_count": 164,
   "id": "1a86cb5b-b747-4690-a2e9-215350ddd711",
   "metadata": {},
   "outputs": [
    {
     "name": "stdout",
     "output_type": "stream",
     "text": [
      "['Acid Spray', \"Greevil's Greed\", 'Chemical Rage']\n",
      "[1, 2, 3]\n"
     ]
    }
   ],
   "source": [
    "#26. Please give an example of each of these techniques.\n",
    "#Your code here:\n",
    "\n",
    "#del\n",
    "\n",
    "alchemist = [\"Acid Spray\", \"Unstable Concoction\", 'Greevil\\'s Greed', 'Chemical Rage']\n",
    "del(alchemist[1])\n",
    "print(alchemist)\n",
    "\n",
    "#pop\n",
    "alchemist.pop()\n",
    "\n",
    "#remove\n",
    "counting = [1,2,3,4]\n",
    "\n",
    "counting.remove(4)\n",
    "print(counting)"
   ]
  },
  {
   "cell_type": "markdown",
   "id": "f6583e7c-488a-4ec4-8118-2198b03614fd",
   "metadata": {},
   "source": [
    "## Accessing and Changing elements:\n",
    "\n"
   ]
  },
  {
   "cell_type": "code",
   "execution_count": 166,
   "id": "28d79baf-14c2-42dc-82ad-77c94674708e",
   "metadata": {},
   "outputs": [
    {
     "name": "stdout",
     "output_type": "stream",
     "text": [
      "Austin\n"
     ]
    }
   ],
   "source": [
    "#Accessing the first element in the list:\n",
    "students = ['Austin', 'Chris', 'Oliver', 'Nancy']\n",
    "first_student = students[0]\n",
    "print(first_student)"
   ]
  },
  {
   "cell_type": "code",
   "execution_count": 184,
   "id": "246dcf07-3661-4831-b5e3-cc9d68625592",
   "metadata": {},
   "outputs": [
    {
     "name": "stdout",
     "output_type": "stream",
     "text": [
      "['Austin', 'Chris', 'Oliver', 'Dana']\n",
      "['Austin', 'Chris', 'Oliver', 'Dana']\n"
     ]
    }
   ],
   "source": [
    "#27. \n",
    "students = ['Austin', 'Chris', 'Oliver', 'Nancy']\n",
    "#Please change Dana for Nancy. Before you go to ChatGPT, think about it. Nancy is in index position 3. \n",
    "#Can you just make index postion three of this variable equal to Dana, rather than Nancy?\n",
    "\n",
    "#Your code here:\n",
    "\n",
    "#My first attempt\n",
    "students.remove('Nancy')\n",
    "students.append('Dana')\n",
    "print(students)\n",
    "\n",
    "#I also tried\n",
    "students = ['Austin', 'Chris', 'Oliver', 'Nancy']\n",
    "students[3] = 'Dana'\n",
    "print(students)"
   ]
  },
  {
   "cell_type": "markdown",
   "id": "642400aa-97bc-4c6d-84c1-b3a885b99478",
   "metadata": {},
   "source": [
    " ## Slicing lists\n",
    "You can slice lists, just like you slice strings, by index.\n"
   ]
  },
  {
   "cell_type": "code",
   "execution_count": 191,
   "id": "f91a218e-24cc-478f-9d4f-004ebfd46061",
   "metadata": {},
   "outputs": [
    {
     "name": "stdout",
     "output_type": "stream",
     "text": [
      "['Bhoi', 'Debussy', 'Isang']\n"
     ]
    }
   ],
   "source": [
    "#28.\n",
    "composers =['Bach', 'Joplin', 'Bhoi', 'Debussy', 'Isang', 'Rachmaninoff']\n",
    "#please slice this list to get a sublist containing Bhoi, Debussy, and Isang and assign it to a variable called 'sublist'\n",
    "#Your code here:\n",
    "\n",
    "sublist = composers[2:5]\n",
    "print(sublist)\n"
   ]
  },
  {
   "cell_type": "code",
   "execution_count": 197,
   "id": "daf4f7ed-62cf-4f05-93fa-c8396c648d88",
   "metadata": {},
   "outputs": [
    {
     "name": "stdout",
     "output_type": "stream",
     "text": [
      "['Austin', 'Deven', 'Chris', 'Oliver']\n"
     ]
    }
   ],
   "source": [
    "#29. Please give me everything from the beginning to the fourth item using slicing\n",
    "python_students = ['Austin', 'Deven', 'Chris', 'Oliver', 'Nancy', 'Dana', 'Shreya', 'Didace', 'Jennifer']\n",
    "#your code here:\n",
    "print(python_students[0:4])"
   ]
  },
  {
   "cell_type": "code",
   "execution_count": 199,
   "id": "696215f5-cf95-4012-ac71-3dff02bad1ae",
   "metadata": {
    "jp-MarkdownHeadingCollapsed": true
   },
   "outputs": [
    {
     "name": "stdout",
     "output_type": "stream",
     "text": [
      "['Dana', 'Shreya', 'Didace', 'Jennifer']\n"
     ]
    }
   ],
   "source": [
    "#30.Please give me everything from the fifth item to the end:\n",
    "python_students = ['Austin', 'Deven', 'Chris', 'Oliver', 'Nancy', 'Dana', 'Shreya', 'Didace', 'Jennifer']\n",
    "#Your code here:\n",
    "print(python_students[5:9])"
   ]
  },
  {
   "cell_type": "markdown",
   "id": "5bda7e5c-c113-45f7-a767-49e97d22cccc",
   "metadata": {},
   "source": [
    "31.## Hacking Problem\n",
    "The technique of trying every possible password to gain access to a password restricted website is called a brute-force attack. Loops, both for and while, make this very easy. This is part of the reason why a fairly unsophisticated hacker can still be successful.\n",
    "\n",
    "Naughty people buy lists of passwords on the dark web and then use brute-force attacks to try to gain access to places they shouldn't be wandering. They often pay for their illicit purchases in bitcoin.\n",
    "\n",
    "In order to fight wrongdoing, we must imagine the world from their perspective. Some never come back. Others are guided by strong core principles and understand right and wrong.\n",
    "\n",
    "You are a hacker and have a budget of 3,200 Cape Verde Escudo to buy user passwords. On the AlphaBay Market on the dark web each password sells for .0008 BTC . Write a script that converts Escudo (based on current exchange rate) to dollars, and then dollars to bitcoin. Then output the number of passwords that you are able to buy.\n"
   ]
  },
  {
   "cell_type": "code",
   "execution_count": 209,
   "id": "0c1af207-6e5b-4667-8ad9-84a3b0de306a",
   "metadata": {},
   "outputs": [
    {
     "name": "stdout",
     "output_type": "stream",
     "text": [
      "32.388663967611336\n",
      "0.0005143190155602821\n",
      "0.6428987694503525\n"
     ]
    }
   ],
   "source": [
    "#31a.Your code here:\n",
    "# 1USD to 98.8 Escudo\n",
    "usd_escudo = (3200/98.8) \n",
    "print(usd_escudo)\n",
    "\n",
    "# 1BTC to 62973.88 USD \n",
    "usd_btc = (usd_escudo/62973.88)\n",
    "print(usd_btc)\n",
    "\n",
    "num_pass = (usd_btc/0.0008)\n",
    "print(num_pass)\n",
    "# 0.64 passwords ~ round up to 1 whole password"
   ]
  },
  {
   "cell_type": "markdown",
   "id": "200f5c4f-b6d7-407b-a4f9-030473c310ba",
   "metadata": {},
   "source": [
    "Okay, you are off to a very naughty start.\n",
    "\n",
    "The vendor was generous and gave you more passwords than you could afford. Write a script that calculates how many passwords you got for free in Cape Verde Escudo.\n",
    "\n",
    "Passwords received: (please ignore italics as markdown interprets characters as commands. double click on markdown cell to access unaltered passwords)\n",
    "\n",
    "3asdad, letmein@!, qwerty, abc123, trustno1, Ilovesandy, !!@@###123, pl,mjytce!, p@s\n",
    "lf, 1q2w3e4r, letmein, iloveyou, password1, 1qaz2wsx, qazwsx, 12345, johnsp@ssw0rd, meandmymonkey, xboksrools, qwertyuiop, 77777, 888888, zaq1zaq1, 123qwe, excaliburr!, girlsrule!, @cce$$granted, iRulE!, pewdepieftw1, wtFstfUP, admin, master, sunshinesuzy, bobbyluvsdaBears!,qwertyuiop, w_uts_up, n0uger, aiden123, william123, sally123, pirsquareD, d0nutTreadonme, weedmn, MakeUSgr8, USA#1, FokiSiS, Footbahl, 2#22#1985, 11111, Dodgethis"
   ]
  },
  {
   "cell_type": "code",
   "execution_count": 216,
   "id": "c1bde4e7-52b7-475d-a830-02daeae23081",
   "metadata": {},
   "outputs": [
    {
     "name": "stdout",
     "output_type": "stream",
     "text": [
      "49\n"
     ]
    }
   ],
   "source": [
    "#31b. Your code here:\n",
    "\n",
    "passkeys = ['3asdad', 'letmein@!', 'qwerty', 'abc123', 'trustno1', 'Ilovesandy', '!!@@###123', 'pl,mjytce!', 'p@slf', '1q2w3e4r', 'letmein', \n",
    "            'iloveyou', 'password1', '1qaz2wsx', 'qazwsx', '12345', 'johnsp@ssw0rd', 'meandmymonkey', 'xboksrools', 'qwertyuiop', '77777', \n",
    "            '888888', 'zaq1zaq1', '123qwe', 'excaliburr!', 'girlsrule!', '@cce$$granted', 'iRulE!', 'pewdepieftw1', 'wtFstfUP', 'admin', \n",
    "            'master', 'sunshinesuzy', 'bobbyluvsdaBears!','qwertyuiop', 'w_uts_up', 'n0uger', 'aiden123', 'william123', 'sally123', \n",
    "            'pirsquareD', 'd0nutTreadonme', 'weedmn', 'MakeUSgr8', 'USA#1', 'FokiSiS', 'Footbahl', '2#22#1985', '11111', 'Dodgethis']\n",
    "\n",
    "print(len(passkeys)-1)\n",
    "# I got 49 extra passwords for free!"
   ]
  },
  {
   "cell_type": "markdown",
   "id": "880fc409-aec8-49d5-8500-8b55d8ce034b",
   "metadata": {},
   "source": [
    "Now you have some passwords that you can use to attempt a brute-force attack on a password protected account. Write a script that demonstrates how a brute force attack might work.\n",
    "\n",
    "For the sake of this exercise, assume the user's password is: 1qaz2wsx\n",
    "\n",
    "Your script should evaluate each one of the possible passwords. Output- \"No, try again\" when you hit a wrong password, and \"You're in!\" when you get it right. When you get it right, the script should stop running. This script should be automated so that it tries each password without you needing to enter it manually."
   ]
  },
  {
   "cell_type": "code",
   "execution_count": 223,
   "id": "07158754-4656-4894-841a-5c16137ac415",
   "metadata": {},
   "outputs": [
    {
     "name": "stdout",
     "output_type": "stream",
     "text": [
      "No, try again\n",
      "No, try again\n",
      "No, try again\n",
      "No, try again\n",
      "No, try again\n",
      "No, try again\n",
      "No, try again\n",
      "No, try again\n",
      "No, try again\n",
      "No, try again\n",
      "No, try again\n",
      "No, try again\n",
      "No, try again\n",
      "You're in! 1qaz2wsx\n"
     ]
    }
   ],
   "source": [
    "#31c. Your code here:\n",
    "\n",
    "for password in passkeys:\n",
    "    if password != \"1qaz2wsx\":\n",
    "        print(\"No, try again\")\n",
    "    else:\n",
    "        print(\"You're in! \" + password)\n",
    "        break"
   ]
  }
 ],
 "metadata": {
  "kernelspec": {
   "display_name": "Python 3 (ipykernel)",
   "language": "python",
   "name": "python3"
  },
  "language_info": {
   "codemirror_mode": {
    "name": "ipython",
    "version": 3
   },
   "file_extension": ".py",
   "mimetype": "text/x-python",
   "name": "python",
   "nbconvert_exporter": "python",
   "pygments_lexer": "ipython3",
   "version": "3.12.4"
  }
 },
 "nbformat": 4,
 "nbformat_minor": 5
}
